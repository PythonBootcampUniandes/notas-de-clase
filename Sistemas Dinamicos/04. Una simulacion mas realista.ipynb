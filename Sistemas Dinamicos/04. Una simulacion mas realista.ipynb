{
 "cells": [
  {
   "cell_type": "markdown",
   "metadata": {},
   "source": [
    "# Una simulación más realista\n",
    "\n",
    "En la simulación que se ha desarrollado hasta el momento, la bola nunca deja de rebotar y siempre regresa a la misma altura, lo cual no es lo que ocurre en la realidad.\n",
    "\n",
    "Para hacer que la simulación corresponda al comportamiento que normalmente observamos en la caída de una bola, debemos incluir dos factores adicionales, que son los que vamos a describir a continuación.\n",
    "\n",
    "## Fuerza de arrastre o de fricción con el aire\n",
    "\n",
    "Ya que el aire es un fluido, la bola pierde parte de su velocidad mientras lo atraviesa. Esto es lo que produce que paulatinamente se vaya deteniendo. En Física este fenómeno se describe mediante una fuerza de arrastre, que se define como:\n",
    "\n",
    "$$F = -b \\, v$$\n",
    "\n",
    "donde $b$ es una constante entre 0 y 1, que depende de las propiedades del fluido y de las dimensiones del objeto que lo atraviesa, y $v$ es la velocidad del mismo.\n",
    "\n",
    "Para incluir esta fuerza en la simulación, ya no puede considerarse a la aceleración como constante e igual a la gravedad. En cambio de calcularse mediante la ecuación:\n",
    "\n",
    "$$a_{i+1} = g - b \\, v_{i}$$"
   ]
  },
  {
   "cell_type": "markdown",
   "metadata": {},
   "source": [
    "### Problemas"
   ]
  },
  {
   "cell_type": "markdown",
   "metadata": {},
   "source": [
    "#### Problema 1\n",
    "\n",
    "Incluir la fuerza de arrastre en la simulación de la caída de una bola. Para ello debe definirse una nueva lista llamada `aceleraciones`, cuyo primer elemento va a ser *g* y los demás se van a calcular con la ecuación anterior.\n",
    "\n",
    "Calcular las velocidades con el método de Euler, como\n",
    "\n",
    "$$v_{i+1} = v_{i} + a_{i} \\, \\Delta t$$\n",
    "\n",
    "**Nota**:\n",
    "\n",
    "Tomar $b$ menor a 0.7."
   ]
  },
  {
   "cell_type": "code",
   "execution_count": 1,
   "metadata": {
    "collapsed": true
   },
   "outputs": [],
   "source": [
    "# Escribir la solución aquí\n"
   ]
  },
  {
   "cell_type": "markdown",
   "metadata": {},
   "source": [
    "#### Problema 2\n",
    "\n",
    "Obtener una gráfica de la aceleración vs. el tiempo, así como nuevas gráficas para la posición y la velocidad.\n",
    "\n",
    "¿Que cambió ahora?"
   ]
  },
  {
   "cell_type": "markdown",
   "metadata": {},
   "source": [
    "## Colisión inelástica\n",
    "\n",
    "Cuando un objeto choca contra otro, su velocidad después del choque no es exactamente igual a la que llevaba antes, sino que disminuye en una pequeña fracción debido a que el impacto absorbe parte de la energía cinética del golpe y la transforma en calor.\n",
    "\n",
    "En Física este fenómeno se describe haciendo que la velocidad después del choque sea ligeramente menor que la velocidad antes del mismo, así:\n",
    "\n",
    "$$v_{despues} = - k \\, v_{antes}$$\n",
    "\n",
    "donde $k$ es una constante entre 0 y 1, que depende de las propiedades del material que compone a los objetos que chocan."
   ]
  },
  {
   "cell_type": "markdown",
   "metadata": {},
   "source": [
    "### Problemas"
   ]
  },
  {
   "cell_type": "markdown",
   "metadata": {},
   "source": [
    "#### Problema 1\n",
    "\n",
    "Incluir la ecuación de colisión inelástica en la simulación de la bola.\n",
    "\n",
    "**Nota**:\n",
    "\n",
    "Tomar $k$ mayor a 0.8"
   ]
  },
  {
   "cell_type": "code",
   "execution_count": 2,
   "metadata": {
    "collapsed": true
   },
   "outputs": [],
   "source": [
    "# Escribir la solución aquí\n"
   ]
  },
  {
   "cell_type": "markdown",
   "metadata": {},
   "source": [
    "#### Problema 2\n",
    "\n",
    "Hacer que la velocidad de la partícula sea cero, si el valor absoluto de la misma llega a ser menor que cierto valor muy pequeño. De esta forma conseguiremos que se detenga definitivamente."
   ]
  },
  {
   "cell_type": "code",
   "execution_count": 3,
   "metadata": {
    "collapsed": true
   },
   "outputs": [],
   "source": [
    "# Escribir la solución aquí\n"
   ]
  },
  {
   "cell_type": "code",
   "execution_count": null,
   "metadata": {
    "collapsed": true
   },
   "outputs": [],
   "source": []
  }
 ],
 "metadata": {
  "kernelspec": {
   "display_name": "Python [default]",
   "language": "python",
   "name": "python3"
  },
  "language_info": {
   "codemirror_mode": {
    "name": "ipython",
    "version": 3
   },
   "file_extension": ".py",
   "mimetype": "text/x-python",
   "name": "python",
   "nbconvert_exporter": "python",
   "pygments_lexer": "ipython3",
   "version": "3.5.2"
  }
 },
 "nbformat": 4,
 "nbformat_minor": 1
}
