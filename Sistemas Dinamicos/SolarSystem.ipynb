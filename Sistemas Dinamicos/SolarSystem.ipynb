{
 "cells": [
  {
   "cell_type": "markdown",
   "metadata": {},
   "source": [
    "<div>\n",
    "    <center>\n",
    "    <h1> Solar System </h1>\n",
    "    <br>\n",
    "    by <a href=\"http://github.com/ComputoCienciasUniandes\"> ComputoCienciasUniandes </a>\n",
    "    <br>\n",
    "    <a href = \"https://github.com/jsbarbosa\"> Juan Barbosa </a>\n",
    "    </center>\n",
    "</div>\n",
    "<hr style=\"height:5px\">"
   ]
  },
  {
   "cell_type": "markdown",
   "metadata": {},
   "source": [
    "# Librerías"
   ]
  },
  {
   "cell_type": "code",
   "execution_count": 1,
   "metadata": {},
   "outputs": [],
   "source": [
    "import numpy as np\n",
    "from numpy import sin, cos\n",
    "\n",
    "from datetime import datetime\n",
    "\n",
    "import matplotlib.pyplot as plt\n",
    "import mpl_toolkits.mplot3d.axes3d as p3\n",
    "import matplotlib.animation as animation"
   ]
  },
  {
   "cell_type": "markdown",
   "metadata": {},
   "source": [
    "# Sistema\n",
    "\n",
    "<img src=\"system.jpg\" width = 350>\n",
    "\n",
    "Usando la ley de gravitación universal es posible obtener las ecuaciones de movimiento para todos los objetos a simular.\n",
    "$$ \\vec{F} = -G \\frac{m_1m_2}{|\\vec{r}|^2}\\hat{r} = -G \\frac{m_1m_2}{|\\vec{r}|^3}\\vec{r}$$\n",
    "\n",
    "Teniendo en cuenta que para $N$ cuerpos, cada uno sentirá el efecto de sus N-1 vecinos:\n",
    "$$ \\vec{F}_i = G\\sum\\limits_{i\\neq j}^{N} \\frac{m_i m_j}{|\\vec{r}_{ij}|^3}(\\vec{r}_j - \\vec{r}_i) \\qquad \\qquad i = 1, 2, \\cdots, N $$\n",
    "\n",
    "Finalmente, con la segunda ley de Newton se obtiene las ecuaciones de movimiento para todos los cuerpos.\n",
    "$$ \\vec{a_i} = \\ddot{\\vec{r}}_i= G\\sum\\limits_{i\\neq j}^{N} \\frac{m_j}{|\\vec{r}_{ij}|^3}(\\vec{r}_j - \\vec{r}_i)$$"
   ]
  },
  {
   "cell_type": "markdown",
   "metadata": {},
   "source": [
    "## Condiciones iniciales\n",
    "\n",
    "Las posiciones y velocidades iniciales de todos los objetos celestes es obtenida de [JPL Horizons On-Line Ephemeris System](http://ssd.jpl.nasa.gov/horizons.cgi) para el 11 de diciembre de 2016 a las 00:00 CT y se encuentra contenida en ``coordinates.csv``. Las filas de arriba a abajo contienen la información para el Sol, Mercurio, Venus, Tierra, Marte, Jupiter, Saturno, Urano, Neptuno y Plutón :(. La primera columna contiene la masa (kg); las siguientes tres, la posición en cada dimensión cartesiana en AU; y las tres restantes, la velocidad en AU/año."
   ]
  },
  {
   "cell_type": "code",
   "execution_count": 2,
   "metadata": {},
   "outputs": [],
   "source": [
    "ref_time = datetime(1970,1,1, 0, 0)\n",
    "init_time = datetime(2016, 12, 11, 0, 0)\n",
    "init_time = (init_time - ref_time).total_seconds()\n",
    "\n",
    "year_to_seconds = 365.25*24*60*60\n",
    "\n",
    "data = np.genfromtxt(\"coordinates.csv\", delimiter=\",\")\n",
    "\n",
    "masses = data[:, 1]/data[0, 1]\n",
    "positions = data[:, 2:5]\n",
    "speeds = data[:, 5:]\n",
    "\n",
    "G = 4*(np.pi**2) "
   ]
  },
  {
   "cell_type": "markdown",
   "metadata": {},
   "source": [
    "## Solución"
   ]
  },
  {
   "cell_type": "code",
   "execution_count": 3,
   "metadata": {
    "collapsed": true
   },
   "outputs": [],
   "source": [
    "def acceleration(R):\n",
    "    a = np.zeros((10, 3))\n",
    "    for i in range(10):\n",
    "        for j in range(10):\n",
    "            d = R[j] - R[i]\n",
    "            if i != j:\n",
    "                mag = np.sqrt(d.dot(d))\n",
    "                mag = mag**3\n",
    "                \n",
    "                a[i] += G*masses[j]*d/mag    \n",
    "    return a\n",
    "\n",
    "def solver(positions, speeds, t, dt):\n",
    "    N = int(t/dt)\n",
    "    positions_in_time = np.zeros((N, 10, 3))\n",
    "    x = positions.copy()\n",
    "    v = speeds.copy()\n",
    "    positions_in_time[0] = x\n",
    "    \n",
    "    for i in range(N-1):\n",
    "        v_half = v + 0.5*dt*acceleration(x)\n",
    "        x += dt*v_half\n",
    "        v = v_half + 0.5*dt*acceleration(x)   \n",
    "        positions_in_time[i+1] = x\n",
    "        \n",
    "    return positions_in_time\n",
    "\n",
    "T_max = 252\n",
    "dt = 10/365.25\n",
    "positions_in_time = solver(positions, speeds, T_max, dt)"
   ]
  },
  {
   "cell_type": "markdown",
   "metadata": {},
   "source": [
    "# Gráfica"
   ]
  },
  {
   "cell_type": "code",
   "execution_count": 4,
   "metadata": {},
   "outputs": [],
   "source": [
    "labels = [\"Sun\", \"Mercury\", \"Venus\", \"Earth\", \"Mars\", \"Jupiter\", \"Saturn\", \"Uranus\", \"Neptune\", \"Pluto :(\"]\n",
    "colors = [\"yellow\", \"grey\", \"orange\", \"blue\", \"red\", \"orange\", \"yellow\", \"cyan\", \"blue\", \"black\"]\n",
    "\n",
    "step = 50\n",
    "shorten = positions_in_time[::step]\n",
    "N = len(shorten)\n",
    "\n",
    "fig = plt.figure()\n",
    "ax = p3.Axes3D(fig)\n",
    "\n",
    "text = ax.text(-40, -30, 5, \"\")\n",
    "fixed = [ax.plot(shorten[:, i, 0], shorten[:, i, 1], shorten[:, i, 2], c = colors[i]) for i in range(10)]\n",
    "plots = [ax.plot([], [], [], \"o\", label = labels[i], color = colors[i])[0] for i in range(10)]\n",
    "plots[0].set_marker(\"*\")\n",
    "plots[0].set_markersize(20)\n",
    "\n",
    "ax.set_xlabel(\"$x$ (AU)\")\n",
    "ax.set_ylabel(\"$y$ (AU)\")\n",
    "ax.set_zlabel(\"$z$ (AU)\")\n",
    "\n",
    "plt.legend(numpoints=1)\n",
    "\n",
    "def init():\n",
    "    for (j, line) in enumerate(plots):\n",
    "        line.set_data([], [])\n",
    "        line.set_3d_properties([])\n",
    "    text.set_text(\"\")\n",
    "    return plots, text\n",
    "\n",
    "def update(i):\n",
    "    for (j, line) in enumerate(plots):\n",
    "        line.set_data(shorten[i, j, 0], shorten[i, j, 1])\n",
    "        line.set_3d_properties(shorten[i, j, 2])\n",
    "    time = i*dt*year_to_seconds*len(positions_in_time)/float(N) + init_time\n",
    "    time = datetime.utcfromtimestamp(time)\n",
    "    text.set_text(time.strftime('%Y-%m-%d'))\n",
    "    return plots, text\n",
    "\n",
    "ani = animation.FuncAnimation(fig, update, N)\n",
    "#ani.save(\"Planets.gif\", writer = \"imagemagick\", fps = N/30, dpi = 50)\n",
    "plt.show()"
   ]
  },
  {
   "cell_type": "code",
   "execution_count": null,
   "metadata": {
    "collapsed": true
   },
   "outputs": [],
   "source": []
  }
 ],
 "metadata": {
  "anaconda-cloud": {},
  "kernelspec": {
   "display_name": "Python 3",
   "language": "python",
   "name": "python3"
  },
  "language_info": {
   "codemirror_mode": {
    "name": "ipython",
    "version": 2
   },
   "file_extension": ".py",
   "mimetype": "text/x-python",
   "name": "python",
   "nbconvert_exporter": "python",
   "pygments_lexer": "ipython2",
   "version": "2.7.12"
  }
 },
 "nbformat": 4,
 "nbformat_minor": 1
}
