{
 "cells": [
  {
   "cell_type": "markdown",
   "metadata": {},
   "source": [
    "# Introducción\n",
    "\n",
    "El propósito del área científica conocida como *Simulación* es reproducir en un computador los fenómenos que se observan a nuestro alrededor (el fuego, el movimiento del océano o el pasar del viento sobre la hierba), usando para ello las leyes físicas de la mecánica, el electromagnetismo y la termodinámica.\n",
    "\n",
    "En esta sección vamos a empezar simulando un fenómeno muy sencillo: una bola que cae y golpea contra el suelo, pero antes de hacerlo necesitamos recordar algo de Física. Esto nos permitirá aprender cómo se utilizan dos de las más importantes librerías científicas: *NumPy* y *Matplotlib*"
   ]
  },
  {
   "cell_type": "markdown",
   "metadata": {},
   "source": [
    "# Ecuaciones de movimiento\n",
    "\n",
    "El movimiento de cualquier objeto se describe en Física por la segunda ley de Newton:\n",
    "\n",
    "$$F = m \\times a$$\n",
    "\n",
    "Esto implica que conociendo la masa de un cuerpo y la fuerza que sobre él actúa, es posible calcular su aceleración como:\n",
    "\n",
    "$$a= \\frac{F}{m}$$\n",
    "\n",
    "Al determinar la aceleración es posible calcular ahora la velocidad del objeto, ya que esta magnitud se relaciona con la primera por medio de la ecuación:\n",
    "\n",
    "$$\\frac{dv}{dt} = a$$\n",
    "\n",
    "Al resolver esta ecuación diferencial se obtiene que:\n",
    "\n",
    "$$v \\left(t\\right) = \\int a \\, dt + v\\left(0\\right)$$\n",
    "\n",
    "Finalmente, con la velocidad se puede calcular la posición, al resolver la ecuación\n",
    "\n",
    "$$\\frac{dx}{dt} = v$$\n",
    " \n",
    "lo que es igual a\n",
    "\n",
    "$$x\\left(t\\right) = \\int v \\, dt + x\\left(0\\right)$$\n",
    "\n",
    "Ahora bien, para simular el movimiento descrito por estas ecuaciones en un computador, es necesario *discretizarlas*, es decir, expresarlas en forma de diferencias entre valores sucesivos de la posición y la velocidad, para así poder obtener el siguiente valor a partir del anterior.\n",
    "\n",
    "De esta forma no es necesario resolver las ecuaciones diferenciales anteriores (lo que en la gran mayoría de los casos no es posible), sino tan sólo simular su evolución un paso de tiempo a la vez.\n",
    "\n",
    "El método más sencillo para realizar este proceso de discretización recibe el nombre de método de Euler, que veremos a continuación"
   ]
  },
  {
   "cell_type": "markdown",
   "metadata": {},
   "source": [
    "# Método de Euler\n",
    "\n",
    "En el método de Euler, las ecuaciones diferenciales para la velocidad y la posición se discretizan de la siguiente forma:\n",
    "\n",
    "$$\\frac{v\\left(t+\\Delta t\\right) - v(t)}{\\Delta t} = a(t)$$\n",
    "\n",
    "$$\\frac{x\\left(t+\\Delta t\\right) - x(t)}{\\Delta t} = v(t)$$\n",
    "\n",
    "donde $\\Delta t$ representa una pequeña diferencia de tiempo entre un instante y el siguiente. Como puede verse, lo único que se ha hecho es expresar la derivada de la parte izquierda de las ecuaciones anteriores, en la forma en que usualmente se define, pero sin tomar el límite.\n",
    "\n",
    "Despejando de estas ecuaciones la posición y la velocidad en $t + \\Delta t$ se tiene que\n",
    "\n",
    "$$v\\left(t+\\Delta t\\right) = v(t) + a(t) \\Delta t$$\n",
    "\n",
    "$$x\\left(t+\\Delta t\\right) = x(t) + v(t) \\Delta t$$\n",
    "\n",
    "Si las posiciones y velocidades se guardan en dos listas diferentes, cuyo elemento i-ésimo nos de la posición y velocidad después de *i* pasos de tiempo, entonces las ecuaciones anteriores se pueden reescribir como\n",
    "\n",
    "$$v_{i+1} = v_{i} + a_{i} \\Delta t$$\n",
    "\n",
    "$$x_{i+1} = x_{i} + v_{i} \\Delta t$$\n",
    "\n",
    "Estas son las ecuaciones que definen el método de Euler. De ellas puede verse que la posición y la velocidad en el siguiente instante de tiempo se calculan a partir de sus valores en el instante anterior y del valor de la aceleración.\n",
    "\n",
    "Con estas ecuaciones se puede simular el movimiento de una gran cantidad de objetos, como veremos en la siguiente sección"
   ]
  },
  {
   "cell_type": "code",
   "execution_count": null,
   "metadata": {
    "collapsed": true
   },
   "outputs": [],
   "source": []
  }
 ],
 "metadata": {
  "kernelspec": {
   "display_name": "Python [default]",
   "language": "python",
   "name": "python3"
  },
  "language_info": {
   "codemirror_mode": {
    "name": "ipython",
    "version": 3
   },
   "file_extension": ".py",
   "mimetype": "text/x-python",
   "name": "python",
   "nbconvert_exporter": "python",
   "pygments_lexer": "ipython3",
   "version": "3.5.2"
  }
 },
 "nbformat": 4,
 "nbformat_minor": 1
}
