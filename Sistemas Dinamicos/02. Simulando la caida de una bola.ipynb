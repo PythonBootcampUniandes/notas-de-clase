{
 "cells": [
  {
   "cell_type": "markdown",
   "metadata": {},
   "source": [
    "# Simulación del movimiento de caída de una bola\n",
    "\n",
    "En esta sección vamos a simular la caída vertical de una bola desde una altura dada hasta que golpea el suelo y vuelve a subir debido al golpe.  Como dijimos en la sección anterior, para llevar a cabo esta simulación lo único que necesitamos son las ecuaciones del método de Euler:\n",
    "\n",
    "$$v_{i+1} = v_{i} + a_{i} \\Delta t$$\n",
    "\n",
    "$$x_{i+1} = x_{i} + v_{i} \\Delta t$$\n",
    "\n",
    "Por ejemplo, con ellas podemos calcular la primera posición que va a tener el objeto haciendo $i=0$, con lo que tenemos\n",
    "\n",
    "$$v_{1} = v_{0} + a_{0} \\Delta t$$\n",
    "\n",
    "$$x_{1} = x_{0} + v_{0} \\Delta t$$\n",
    "\n",
    "Los valores de $v_{0}$ y $x_{0}$ no pueden obtenerse a partir del método, sino que deben ser definidos por el usuario *antes* de empezar la\n",
    "simulación. Éstos corresponden a la velocidad y la posición iniciales de la bola, respectivamente. Para nuestro caso vamos a asumir que:\n",
    "\n",
    "$$v_{0} = 0$$\n",
    "\n",
    "$$x_{0} = 10$$\n",
    "\n",
    "lo que quiere decir que la bola se deja caer sin velocidad desde una altura de 10 m.\n",
    "\n",
    "Por su parte, el valor de $a_{0}$ es la aceleración que experimenta la bola durante su recorrido, que es igual al valor de la gravedad, es decir que\n",
    "\n",
    "$$a_{0} = -9.8$$\n",
    "\n",
    "Si la distancia desde la cual se deja caer el objeto no es muy grande, este valor se puede asumir como constante durante todo el recorrido, es decir que para cualquier valor de $i$ siempre se va a tener que\n",
    "\n",
    "$$a_{i} = -9.8$$\n",
    "\n",
    "Con estos valores y las ecuaciones del método de Euler, podemos desarrollar un programa en Python que realice la simulación."
   ]
  },
  {
   "cell_type": "markdown",
   "metadata": {},
   "source": [
    "# Problema: Programar la simulación en Python\n",
    "\n",
    "Para programar el código que simule la caída de una bola en Python, vamos a seguir estos pasos:\n",
    "\n",
    "1. Definir las siguientes constantes, que nos van a servir para guardar los valores necesarios para correr la simulación::\n",
    "\n",
    "        r = 1      # Para el radio de la bola\n",
    "        x0 = 10    # Para la posición inicial\n",
    "        v0 = 0     # Para la velocidad inicial\n",
    "        t0 = 0     # Para el tiempo inicial.\n",
    "        g = -9.8   # Para la aceleración de la gravedad.\n",
    "        T = 10     # para el tiempo total de la simulación en segundos\n",
    "        dt = 0.1   # Para el intervalo de tiempo\n",
    "\n",
    "    **Nota**:\n",
    "   \n",
    "    El valor que se le asigne a esta última variable debe ser pequeño, pero no tanto como para que la simulación se demore mucho tiempo en correr. Por ejemplo, si se elige::\n",
    "\n",
    "        dt = 1\n",
    "\n",
    "    quiere decir que la simulación avanza en pasos de 1 segundo.\n",
    "\n",
    "2. Definir tres listas: `posiciones`, `velocidades` y `tiempos`, para guardar los valores de posición, velocidad y tiempo, respectivamente, que se vayan calculando con el método de Euler. Hacer que estas listas contengan como primer elemento los valores de `x0`, `v0` y `t0`, respectivamente.\n",
    "\n",
    "3. Determinar el número de pasos que se van a calcular con el método de Euler como:\n",
    "\n",
    "        n = int(round(T/dt))\n",
    "\n",
    "4. Usar un ciclo `for` que vaya desde `0` hasta `n` para calcular las nuevas velocidades y posiciones que va tomando la bola en su caída con las ecuaciones de Euler.\n",
    "\n",
    "    - Dentro de este ciclo incluir un `if` para determinar el momento en que la bola toca el suelo. En ese instante se hace que la bola cambie su velocidad del valor que tiene a su valor opuesto. Esto provocará que rebote contra el suelo y vuelva a subir debido a ello.\n",
    "\n",
    "    - Después de este condicional, guardar los valores obtenidos en las listas de `posiciones`, `velocidades` y `tiempos`.\n",
    "\n",
    "5. Finalmente, imprimir la lista de `posiciones` por fuera de este ciclo `for`, para ver si todo está funcionando correctamente."
   ]
  },
  {
   "cell_type": "code",
   "execution_count": 1,
   "metadata": {
    "collapsed": true
   },
   "outputs": [],
   "source": [
    "# Escribir la solución aquí\n"
   ]
  },
  {
   "cell_type": "markdown",
   "metadata": {},
   "source": [
    "Una vez realizadas la simulación, pueden usarse otras librerías para generar una animación de la misma, como veremos en la siguiente sección"
   ]
  }
 ],
 "metadata": {
  "kernelspec": {
   "display_name": "Python [default]",
   "language": "python",
   "name": "python3"
  },
  "language_info": {
   "codemirror_mode": {
    "name": "ipython",
    "version": 3
   },
   "file_extension": ".py",
   "mimetype": "text/x-python",
   "name": "python",
   "nbconvert_exporter": "python",
   "pygments_lexer": "ipython3",
   "version": "3.5.2"
  }
 },
 "nbformat": 4,
 "nbformat_minor": 1
}
