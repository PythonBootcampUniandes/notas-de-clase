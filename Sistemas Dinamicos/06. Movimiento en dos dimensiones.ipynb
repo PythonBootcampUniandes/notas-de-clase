{
 "cells": [
  {
   "cell_type": "markdown",
   "metadata": {},
   "source": [
    "# Movimiento en dos dimensiones\n",
    "\n",
    "Uno de los grandes logros de la física moderna fue la realización, por parte de Galileo, de que el movimiento de un cuerpo en dos o tres\n",
    "dimensiones, puede entenderse como la composición de movimientos diferentes, uno por cada eje de coordenadas. En otras palabras, se considera que el cuerpo ejecuta un movimiento en el eje *x* y otro aparte en el *y*, y que el movimiento total es la suma vectorial de estos dos.\n",
    "\n",
    "En esta sección vamos a extraer una enorme ventaja de este hecho para escribir de forma muy sencilla las ecuaciones de movimiento de un objeto en dos dimensiones. Para ello vamos a usar la librería Numpy, como se describe a continuación.\n",
    "\n",
    "## Arreglos multidimensionales de Numpy\n",
    "\n",
    "Numpy es una librería especializada en la creación y manipulación de *arreglos* de varias dimensiones. Los arreglos se crean a partir de una lista de la siguiente forma:"
   ]
  },
  {
   "cell_type": "code",
   "execution_count": 1,
   "metadata": {
    "collapsed": true
   },
   "outputs": [],
   "source": [
    "li1 = [1, 2]"
   ]
  },
  {
   "cell_type": "code",
   "execution_count": 2,
   "metadata": {
    "collapsed": true
   },
   "outputs": [],
   "source": [
    "import numpy as np"
   ]
  },
  {
   "cell_type": "code",
   "execution_count": 5,
   "metadata": {},
   "outputs": [],
   "source": [
    "a1 = np.array(li1)"
   ]
  },
  {
   "cell_type": "code",
   "execution_count": 6,
   "metadata": {},
   "outputs": [
    {
     "data": {
      "text/plain": [
       "array([1, 2])"
      ]
     },
     "execution_count": 6,
     "metadata": {},
     "output_type": "execute_result"
    }
   ],
   "source": [
    "a1"
   ]
  },
  {
   "cell_type": "markdown",
   "metadata": {},
   "source": [
    "Estos arreglos se prefieren a las listas para representar cantidades vectoriales, debido a que cumplen con las siguientes propiedades:\n",
    "\n",
    "**(1)**. Al multiplicar un número por un arreglo, se multiplican todos sus elementos"
   ]
  },
  {
   "cell_type": "code",
   "execution_count": 7,
   "metadata": {},
   "outputs": [
    {
     "data": {
      "text/plain": [
       "array([3, 6])"
      ]
     },
     "execution_count": 7,
     "metadata": {},
     "output_type": "execute_result"
    }
   ],
   "source": [
    "a1 * 3"
   ]
  },
  {
   "cell_type": "code",
   "execution_count": 8,
   "metadata": {},
   "outputs": [
    {
     "data": {
      "text/plain": [
       "array([ 5, 10])"
      ]
     },
     "execution_count": 8,
     "metadata": {},
     "output_type": "execute_result"
    }
   ],
   "source": [
    "5 * a1"
   ]
  },
  {
   "cell_type": "markdown",
   "metadata": {
    "collapsed": true
   },
   "source": [
    "Para las listas en cambio, esta operación hace que se repitan sus elementos, como ustedes recordarán:"
   ]
  },
  {
   "cell_type": "code",
   "execution_count": 9,
   "metadata": {},
   "outputs": [
    {
     "data": {
      "text/plain": [
       "[1, 2, 1, 2, 1, 2]"
      ]
     },
     "execution_count": 9,
     "metadata": {},
     "output_type": "execute_result"
    }
   ],
   "source": [
    "li1 * 3"
   ]
  },
  {
   "cell_type": "markdown",
   "metadata": {
    "collapsed": true
   },
   "source": [
    "**(2)**. Al sumar dos arreglos, se suman uno a uno sus elementos"
   ]
  },
  {
   "cell_type": "code",
   "execution_count": 10,
   "metadata": {
    "collapsed": true
   },
   "outputs": [],
   "source": [
    "a2 = np.array([3, -2])"
   ]
  },
  {
   "cell_type": "code",
   "execution_count": 11,
   "metadata": {},
   "outputs": [
    {
     "data": {
      "text/plain": [
       "array([4, 0])"
      ]
     },
     "execution_count": 11,
     "metadata": {},
     "output_type": "execute_result"
    }
   ],
   "source": [
    "a1 + a2"
   ]
  },
  {
   "cell_type": "code",
   "execution_count": 12,
   "metadata": {},
   "outputs": [
    {
     "data": {
      "text/plain": [
       "array([ 2, -4])"
      ]
     },
     "execution_count": 12,
     "metadata": {},
     "output_type": "execute_result"
    }
   ],
   "source": [
    "a2 - a1"
   ]
  },
  {
   "cell_type": "markdown",
   "metadata": {},
   "source": [
    "En cambio, para las listas el signo `+` las concatena, mientas que el `-` arroja un error:"
   ]
  },
  {
   "cell_type": "code",
   "execution_count": 13,
   "metadata": {
    "collapsed": true
   },
   "outputs": [],
   "source": [
    "li2 = [3, -2]"
   ]
  },
  {
   "cell_type": "code",
   "execution_count": 14,
   "metadata": {},
   "outputs": [
    {
     "data": {
      "text/plain": [
       "[1, 2, 3, -2]"
      ]
     },
     "execution_count": 14,
     "metadata": {},
     "output_type": "execute_result"
    }
   ],
   "source": [
    "li1 + li2"
   ]
  },
  {
   "cell_type": "code",
   "execution_count": 16,
   "metadata": {},
   "outputs": [
    {
     "ename": "TypeError",
     "evalue": "unsupported operand type(s) for -: 'list' and 'list'",
     "output_type": "error",
     "traceback": [
      "\u001b[0;31m---------------------------------------------------------------------------\u001b[0m",
      "\u001b[0;31mTypeError\u001b[0m                                 Traceback (most recent call last)",
      "\u001b[0;32m<ipython-input-16-595c35523f88>\u001b[0m in \u001b[0;36m<module>\u001b[0;34m()\u001b[0m\n\u001b[0;32m----> 1\u001b[0;31m \u001b[0mli2\u001b[0m \u001b[0;34m-\u001b[0m \u001b[0mli1\u001b[0m\u001b[0;34m\u001b[0m\u001b[0m\n\u001b[0m",
      "\u001b[0;31mTypeError\u001b[0m: unsupported operand type(s) for -: 'list' and 'list'"
     ]
    }
   ],
   "source": [
    "li2 - li1"
   ]
  },
  {
   "cell_type": "markdown",
   "metadata": {},
   "source": [
    "Además de esto, Numpy tiene varias funciones adicionales para operar sobre vectores, como las siguientes:"
   ]
  },
  {
   "cell_type": "markdown",
   "metadata": {},
   "source": [
    "* `np.dot`, para calcular el producto punto (o escalar) de dos vectores."
   ]
  },
  {
   "cell_type": "code",
   "execution_count": 17,
   "metadata": {},
   "outputs": [
    {
     "data": {
      "text/plain": [
       "-1"
      ]
     },
     "execution_count": 17,
     "metadata": {},
     "output_type": "execute_result"
    }
   ],
   "source": [
    "np.dot(a1, a2)"
   ]
  },
  {
   "cell_type": "markdown",
   "metadata": {},
   "source": [
    "* `np.cross`, para calcular el producto cruz (o vectorial) de dos vectores."
   ]
  },
  {
   "cell_type": "code",
   "execution_count": 18,
   "metadata": {},
   "outputs": [
    {
     "data": {
      "text/plain": [
       "array([-3,  6, -3])"
      ]
     },
     "execution_count": 18,
     "metadata": {},
     "output_type": "execute_result"
    }
   ],
   "source": [
    "np.cross([1, 2, 3], [4, 5, 6])"
   ]
  },
  {
   "cell_type": "markdown",
   "metadata": {},
   "source": [
    "* `np.linalg.norm`, para calcular la norma de un vector."
   ]
  },
  {
   "cell_type": "code",
   "execution_count": 19,
   "metadata": {},
   "outputs": [
    {
     "data": {
      "text/plain": [
       "2.2360679774997898"
      ]
     },
     "execution_count": 19,
     "metadata": {},
     "output_type": "execute_result"
    }
   ],
   "source": [
    "np.linalg.norm(a1)"
   ]
  },
  {
   "cell_type": "markdown",
   "metadata": {},
   "source": [
    "# Simulación del movimiento de una partícula en 2D usando Numpy\n",
    "\n",
    "Lo realmente interesante de usar arreglos de Numpy viene al momento de simular el movimiento de un objeto en dos o tres dimensiones, pues lo único que debe cambiarse en los programas anteriores (que estaban hechos para una dimensión) son los valores de las condiciones iniciales. Los algoritmos de Euler o Verlet, con los que calculamos cómo se mueve el objeto a partir de estas condiciones, van a\n",
    "quedar exactamente como antes!\n",
    "\n",
    "Mirémoslo por medio de un ejemplo. Para simular el movimiento de una partícula en dos dimensiones, empezamos por definir su posición inicial como:\n",
    "\n",
    "```python\n",
    "p0 = np.array([0, 8])\n",
    "```\n",
    "\n",
    "Esto quiere decir que va a arrancar del punto con coordenadas $(x, y) = (0, 8)$.\n",
    "\n",
    "A continuación definimos su velocidad inicial como:\n",
    "\n",
    "```python\n",
    "v0 = np.array([5, -3])\n",
    "```\n",
    "\n",
    "lo que implica que hacemos que se mueva en la dirección positiva del eje $x$ con velocidad de 5 m/s, y en la dirección negativa del eje $y$ con una velocidad de 3 m/s.\n",
    "\n",
    "Finalmente definimos su aceleración inicial como:\n",
    "\n",
    "```python\n",
    "a0 = np.array([0, -9.8])\n",
    "```\n",
    "\n",
    "para especificar que la partícula sólo siente una fuerza en el eje $y$, debida a la gravedad.\n",
    "\n",
    "Por su parte, vamos a seguir guardando el conjunto de posiciones, velocidades y aceleraciones en una lista, y no un arreglo, ya que *no* necesitamos que sean cantidades vectoriales:\n",
    "\n",
    "```python\n",
    "posiciones = [p0]\n",
    "velocidades = [v0]\n",
    "aceleraciones = [a0]\n",
    "```\n",
    "\n",
    "Esto es todo lo que se necesita cambiar para pasar de simular el movimiento en una dimensión al de dos. Como mencioné arriba, el algoritmo de Verlet queda *exactamente* como estaba antes, lo cual es posible debido a las propiedades de los arreglos de Numpy descritas arriba.\n",
    "\n",
    "Por ejemplo, para calcular la nueva posición de la partícula, escribimos la siguiente línea de código:\n",
    "\n",
    "```python\n",
    "nueva_posicion = posiciones[-1] + velocidades[-1]*dt + aceleraciones[-1]*(dt**2)/2\n",
    "```\n",
    "\n",
    "Dado que los elementos de `posiciones`, `velocidades` y `aceleraciones` son arreglos, lo que hace esta línea es multiplicar cada arreglo por el número que lo acompaña (por ejemplo, a `velocidades[-1]` lo multiplica por `dt`), y después suma los resultados componente a componente, es decir, suma el primer elemento de `posiciones` con los primeros de `velocidades` y de `aceleraciones`.\n",
    "\n",
    "En otras palabras, lo que calcula esta línea para determinar la coordenada *x* de la nueva posición de la partícula es lo siguiente (asumiendo que `dt` vale 0.01):\n",
    "\n",
    "```python\n",
    "0 + 5*(0.01) + 0*(0.01**2)/2\n",
    "```\n",
    "\n",
    "que corresponde al valor de `nueva_posicion[0]`. Por su parte, el valor `nueva_posicion[1]` es:\n",
    "\n",
    "```python\n",
    "8 + (-3)*(0.01) + (-9.8)*(0.01**2)/2\n",
    "```\n",
    "\n",
    "De la misma forma se calculan los valores de `nueva_velocidad` y `nueva_aceleracion`."
   ]
  },
  {
   "cell_type": "markdown",
   "metadata": {},
   "source": [
    "## Problemas"
   ]
  },
  {
   "cell_type": "markdown",
   "metadata": {},
   "source": [
    "### Problema 1\n",
    "\n",
    "Modificar el código para simular el movimiento de la caída de una bola en una dimensión, para simular la caída de la misma en 2D, usando las instrucciones anteriores.\n",
    "\n",
    "¿Cuál es el movimiento que se observa en este caso?"
   ]
  },
  {
   "cell_type": "code",
   "execution_count": 20,
   "metadata": {
    "collapsed": true
   },
   "outputs": [],
   "source": [
    "# Escribir la solución aquí\n"
   ]
  },
  {
   "cell_type": "markdown",
   "metadata": {},
   "source": [
    "### Problema 2\n",
    "\n",
    "Definir una función llamada `colision_muros` que determine si una partícula se ha chocado contra un muro ubicado en $x = 0$ o $y = 10$.\n",
    "\n",
    "**Sugerencias**:\n",
    "\n",
    "* Hacerlo de la misma forma en que se hizo para la caída de la bola, pero teniendo en cuenta la dirección en que se está moviendo la partícula, es decir, si es en $x$ o en $y$.\n",
    "\n",
    "* Añadir a la condición del choque el que la velocidad debe ser negativa al chocar contra el muro en $x = 0$, y positiva en el de $y = 10$. Esto con el fin de evitar aplicar la condición de choque si la partícula sigue intersectada con el muro."
   ]
  },
  {
   "cell_type": "code",
   "execution_count": 21,
   "metadata": {
    "collapsed": true
   },
   "outputs": [],
   "source": [
    "# Escribir la solución aquí\n"
   ]
  },
  {
   "cell_type": "code",
   "execution_count": null,
   "metadata": {
    "collapsed": true
   },
   "outputs": [],
   "source": []
  }
 ],
 "metadata": {
  "kernelspec": {
   "display_name": "Python [default]",
   "language": "python",
   "name": "python3"
  },
  "language_info": {
   "codemirror_mode": {
    "name": "ipython",
    "version": 3
   },
   "file_extension": ".py",
   "mimetype": "text/x-python",
   "name": "python",
   "nbconvert_exporter": "python",
   "pygments_lexer": "ipython3",
   "version": "3.5.2"
  }
 },
 "nbformat": 4,
 "nbformat_minor": 1
}
