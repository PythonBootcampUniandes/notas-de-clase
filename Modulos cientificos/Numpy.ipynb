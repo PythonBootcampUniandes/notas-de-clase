{
 "cells": [
  {
   "cell_type": "markdown",
   "metadata": {},
   "source": [
    "# NumPy: Arreglos numéricos para Python"
   ]
  },
  {
   "cell_type": "markdown",
   "metadata": {},
   "source": [
    "----\n",
    "\n",
    "**Nota Importante**: Los contenidos de esta lección son una reediсión de [Data Science for Everyone](https://github.com/ellisonbg/ds4e), por Brian Granger\n",
    "\n",
    "----\n",
    "\n",
    "NumPy es el módulo básico para la computación científica y la ciencia de datos en Python. Su objeto más usado son los arreglos multidimensionales, los cuales tienen las siguientes características:\n",
    "\n",
    "* Los arreglos tienen cualquier número de dimensiones.\n",
    "* Todos los elementos de un arreglo tienen el mismo tipo de datos.\n",
    "* Los elementos de un arreglo son usualmente tipos de datos nativos (e.g. enteros, cadenas, etc).\n",
    "* La memoria de un arreglo es un bloqueo contiguo que puede ser fácilmente pasado a otras librerías numéricas (BLAS, LAPACK, etc.).\n",
    "* La mayoría de NumPy está implementado en C, por lo que es bastante rápido."
   ]
  },
  {
   "cell_type": "markdown",
   "metadata": {},
   "source": [
    "## Tipo de arreglo multidimensional"
   ]
  },
  {
   "cell_type": "markdown",
   "metadata": {},
   "source": [
    "Esta es la forma canónica en que se importa Numpy y se crea un arreglo"
   ]
  },
  {
   "cell_type": "code",
   "execution_count": 1,
   "metadata": {
    "collapsed": true
   },
   "outputs": [],
   "source": [
    "import numpy as np"
   ]
  },
  {
   "cell_type": "code",
   "execution_count": 2,
   "metadata": {
    "collapsed": true
   },
   "outputs": [],
   "source": [
    "data = [0,2.,4,6]\n",
    "a = np.array(data)"
   ]
  },
  {
   "cell_type": "code",
   "execution_count": 3,
   "metadata": {},
   "outputs": [
    {
     "data": {
      "text/plain": [
       "numpy.ndarray"
      ]
     },
     "execution_count": 3,
     "metadata": {},
     "output_type": "execute_result"
    }
   ],
   "source": [
    "type(a)"
   ]
  },
  {
   "cell_type": "code",
   "execution_count": 4,
   "metadata": {},
   "outputs": [
    {
     "data": {
      "text/plain": [
       "array([ 0.,  2.,  4.,  6.])"
      ]
     },
     "execution_count": 4,
     "metadata": {},
     "output_type": "execute_result"
    }
   ],
   "source": [
    "a"
   ]
  },
  {
   "cell_type": "markdown",
   "metadata": {},
   "source": [
    "La forma de un arreglo:"
   ]
  },
  {
   "cell_type": "code",
   "execution_count": 5,
   "metadata": {},
   "outputs": [
    {
     "data": {
      "text/plain": [
       "(4,)"
      ]
     },
     "execution_count": 5,
     "metadata": {},
     "output_type": "execute_result"
    }
   ],
   "source": [
    "a.shape"
   ]
  },
  {
   "cell_type": "markdown",
   "metadata": {},
   "source": [
    "El número de dimensiones del arreglo:"
   ]
  },
  {
   "cell_type": "code",
   "execution_count": 6,
   "metadata": {},
   "outputs": [
    {
     "data": {
      "text/plain": [
       "1"
      ]
     },
     "execution_count": 6,
     "metadata": {},
     "output_type": "execute_result"
    }
   ],
   "source": [
    "a.ndim"
   ]
  },
  {
   "cell_type": "markdown",
   "metadata": {},
   "source": [
    "El número de elementos del arreglo:"
   ]
  },
  {
   "cell_type": "code",
   "execution_count": 7,
   "metadata": {},
   "outputs": [
    {
     "data": {
      "text/plain": [
       "4"
      ]
     },
     "execution_count": 7,
     "metadata": {},
     "output_type": "execute_result"
    }
   ],
   "source": [
    "a.size"
   ]
  },
  {
   "cell_type": "markdown",
   "metadata": {},
   "source": [
    "El número de bytes que ocupa el arreglo:"
   ]
  },
  {
   "cell_type": "code",
   "execution_count": 8,
   "metadata": {},
   "outputs": [
    {
     "data": {
      "text/plain": [
       "32"
      ]
     },
     "execution_count": 8,
     "metadata": {},
     "output_type": "execute_result"
    }
   ],
   "source": [
    "a.nbytes"
   ]
  },
  {
   "cell_type": "markdown",
   "metadata": {},
   "source": [
    "El atributo `dtype` describe el \"tipo de datos\" (data type) de los elementos:"
   ]
  },
  {
   "cell_type": "code",
   "execution_count": 9,
   "metadata": {},
   "outputs": [
    {
     "data": {
      "text/plain": [
       "dtype('float64')"
      ]
     },
     "execution_count": 9,
     "metadata": {},
     "output_type": "execute_result"
    }
   ],
   "source": [
    "a.dtype"
   ]
  },
  {
   "cell_type": "markdown",
   "metadata": {},
   "source": [
    "## Creando arreglos"
   ]
  },
  {
   "cell_type": "markdown",
   "metadata": {},
   "source": [
    "Los arreglos pueden ser creaados con listas or tuplas anidadas:"
   ]
  },
  {
   "cell_type": "code",
   "execution_count": 10,
   "metadata": {
    "collapsed": true
   },
   "outputs": [],
   "source": [
    "data = [[0.0, 2.0, 4.0, 6.0], [1.0, 3.0, 5.0, 7.0]]\n",
    "b = np.array(data)"
   ]
  },
  {
   "cell_type": "code",
   "execution_count": 11,
   "metadata": {},
   "outputs": [
    {
     "data": {
      "text/plain": [
       "array([[ 0.,  2.,  4.,  6.],\n",
       "       [ 1.,  3.,  5.,  7.]])"
      ]
     },
     "execution_count": 11,
     "metadata": {},
     "output_type": "execute_result"
    }
   ],
   "source": [
    "b"
   ]
  },
  {
   "cell_type": "code",
   "execution_count": 12,
   "metadata": {},
   "outputs": [
    {
     "data": {
      "text/plain": [
       "((2, 4), 2, 8, 64)"
      ]
     },
     "execution_count": 12,
     "metadata": {},
     "output_type": "execute_result"
    }
   ],
   "source": [
    "b.shape, b.ndim, b.size, b.nbytes"
   ]
  },
  {
   "cell_type": "markdown",
   "metadata": {},
   "source": [
    "La función `arange` es similar a la función `range` de Python, pero crea un arreglo:"
   ]
  },
  {
   "cell_type": "code",
   "execution_count": 13,
   "metadata": {},
   "outputs": [
    {
     "data": {
      "text/plain": [
       "array([ 0.,  1.,  2.,  3.,  4.,  5.,  6.,  7.,  8.,  9.])"
      ]
     },
     "execution_count": 13,
     "metadata": {},
     "output_type": "execute_result"
    }
   ],
   "source": [
    "c = np.arange(0.0, 10.0, 1.0) # paso entre valores de 1.0\n",
    "c"
   ]
  },
  {
   "cell_type": "markdown",
   "metadata": {},
   "source": [
    "La función `linspace` es similar, pero permite especificar el número de puntos:"
   ]
  },
  {
   "cell_type": "code",
   "execution_count": 14,
   "metadata": {},
   "outputs": [
    {
     "data": {
      "text/plain": [
       "array([ 0. ,  0.5,  1. ,  1.5,  2. ,  2.5,  3. ,  3.5,  4. ,  4.5,  5. ])"
      ]
     },
     "execution_count": 14,
     "metadata": {},
     "output_type": "execute_result"
    }
   ],
   "source": [
    "e = np.linspace(0.0, 5.0, 11) # 11 points\n",
    "e"
   ]
  },
  {
   "cell_type": "markdown",
   "metadata": {},
   "source": [
    "También hay funciones `empty`, `zeros` y `ones` (como en Matlab):"
   ]
  },
  {
   "cell_type": "code",
   "execution_count": 15,
   "metadata": {},
   "outputs": [
    {
     "data": {
      "text/plain": [
       "array([[  6.92616278e-310,   6.59066180e-317,   0.00000000e+000,\n",
       "          6.92616367e-310],\n",
       "       [  6.92616359e-310,   6.92616359e-310,   0.00000000e+000,\n",
       "          6.92616363e-310],\n",
       "       [  0.00000000e+000,   0.00000000e+000,   6.92616359e-310,\n",
       "          0.00000000e+000],\n",
       "       [  0.00000000e+000,   6.92616359e-310,   6.92616359e-310,\n",
       "          6.92615590e-310]])"
      ]
     },
     "execution_count": 15,
     "metadata": {},
     "output_type": "execute_result"
    }
   ],
   "source": [
    "np.empty((4,4))"
   ]
  },
  {
   "cell_type": "code",
   "execution_count": 16,
   "metadata": {},
   "outputs": [
    {
     "data": {
      "text/plain": [
       "array([[ 0.,  0.,  0.],\n",
       "       [ 0.,  0.,  0.],\n",
       "       [ 0.,  0.,  0.]])"
      ]
     },
     "execution_count": 16,
     "metadata": {},
     "output_type": "execute_result"
    }
   ],
   "source": [
    "np.zeros((3,3))"
   ]
  },
  {
   "cell_type": "code",
   "execution_count": 17,
   "metadata": {},
   "outputs": [
    {
     "data": {
      "text/plain": [
       "array([[ 1.,  1.,  1.],\n",
       "       [ 1.,  1.,  1.],\n",
       "       [ 1.,  1.,  1.]])"
      ]
     },
     "execution_count": 17,
     "metadata": {},
     "output_type": "execute_result"
    }
   ],
   "source": [
    "np.ones((3,3))"
   ]
  },
  {
   "cell_type": "markdown",
   "metadata": {},
   "source": [
    "Exploren también las siguientes funciones:\n",
    "\n",
    "* `empty_like`, `ones_like`, `zeros_like`\n",
    "* `eye`, `identity`, `diag`"
   ]
  },
  {
   "cell_type": "markdown",
   "metadata": {},
   "source": [
    "## dtype"
   ]
  },
  {
   "cell_type": "markdown",
   "metadata": {},
   "source": [
    "Los arreglos tienen un atributo `dtype` que guarda el tipo de datos de cada elemento. Puede ser definido:\n",
    "\n",
    "* Implicitamente por el tipo de elemento\n",
    "* Al pasarle el argumento `dtype` a una función de creación de arreglos\n",
    "\n",
    "Este es un arreglo de tipo entero:"
   ]
  },
  {
   "cell_type": "code",
   "execution_count": 18,
   "metadata": {
    "collapsed": true
   },
   "outputs": [],
   "source": [
    "a = np.array([0, 1, 2, 3])"
   ]
  },
  {
   "cell_type": "code",
   "execution_count": 19,
   "metadata": {},
   "outputs": [
    {
     "data": {
      "text/plain": [
       "(array([0, 1, 2, 3]), dtype('int64'))"
      ]
     },
     "execution_count": 19,
     "metadata": {},
     "output_type": "execute_result"
    }
   ],
   "source": [
    "a, a.dtype"
   ]
  },
  {
   "cell_type": "markdown",
   "metadata": {},
   "source": [
    "Todas las funciones de creación de arreglos aceptan un argumentp opcional `dtype`:"
   ]
  },
  {
   "cell_type": "code",
   "execution_count": 20,
   "metadata": {},
   "outputs": [
    {
     "data": {
      "text/plain": [
       "array([[ 0.+0.j,  0.+0.j],\n",
       "       [ 0.+0.j,  0.+0.j]], dtype=complex64)"
      ]
     },
     "execution_count": 20,
     "metadata": {},
     "output_type": "execute_result"
    }
   ],
   "source": [
    "b = np.zeros((2,2), dtype=np.complex64)\n",
    "b"
   ]
  },
  {
   "cell_type": "code",
   "execution_count": 21,
   "metadata": {},
   "outputs": [
    {
     "data": {
      "text/plain": [
       "array([ 0.,  2.,  4.,  6.,  8.])"
      ]
     },
     "execution_count": 21,
     "metadata": {},
     "output_type": "execute_result"
    }
   ],
   "source": [
    "c = np.arange(0, 10, 2, dtype=np.float)\n",
    "c"
   ]
  },
  {
   "cell_type": "markdown",
   "metadata": {},
   "source": [
    "También es posible usar el método `astype` para crear una copia del arreglo con un `dtype` dado:"
   ]
  },
  {
   "cell_type": "code",
   "execution_count": 22,
   "metadata": {},
   "outputs": [
    {
     "data": {
      "text/plain": [
       "array([0, 2, 4, 6, 8])"
      ]
     },
     "execution_count": 22,
     "metadata": {},
     "output_type": "execute_result"
    }
   ],
   "source": [
    "d = c.astype(dtype=np.int)\n",
    "d"
   ]
  },
  {
   "cell_type": "markdown",
   "metadata": {},
   "source": [
    "La documentación de NumPy sobre [dtypes](http://docs.scipy.org/doc/numpy/reference/arrays.dtypes.html) (en inglés) describe todas las formas que existen para especificar dtypes."
   ]
  },
  {
   "cell_type": "markdown",
   "metadata": {},
   "source": [
    "## Operaciones sobre arreglos"
   ]
  },
  {
   "cell_type": "markdown",
   "metadata": {},
   "source": [
    "Las operaciones matemáticas básicas son **elemento a elemento** para:\n",
    "\n",
    "* Números y arreglos\n",
    "* Arreglos y arreglos\n",
    "\n",
    "Por ejemplo, a continuacuón creamos un arreglo vacío y lo llenamos con un valor"
   ]
  },
  {
   "cell_type": "code",
   "execution_count": 23,
   "metadata": {},
   "outputs": [
    {
     "data": {
      "text/plain": [
       "array([[ 0.1,  0.1,  0.1],\n",
       "       [ 0.1,  0.1,  0.1],\n",
       "       [ 0.1,  0.1,  0.1]])"
      ]
     },
     "execution_count": 23,
     "metadata": {},
     "output_type": "execute_result"
    }
   ],
   "source": [
    "a = np.empty((3,3))\n",
    "a.fill(0.1)\n",
    "a"
   ]
  },
  {
   "cell_type": "code",
   "execution_count": 24,
   "metadata": {},
   "outputs": [
    {
     "data": {
      "text/plain": [
       "array([[ 1.,  1.,  1.],\n",
       "       [ 1.,  1.,  1.],\n",
       "       [ 1.,  1.,  1.]])"
      ]
     },
     "execution_count": 24,
     "metadata": {},
     "output_type": "execute_result"
    }
   ],
   "source": [
    "b = np.ones((3,3))\n",
    "b"
   ]
  },
  {
   "cell_type": "markdown",
   "metadata": {},
   "source": [
    "La adición es elemento a elemento:"
   ]
  },
  {
   "cell_type": "code",
   "execution_count": 25,
   "metadata": {},
   "outputs": [
    {
     "data": {
      "text/plain": [
       "array([[ 1.1,  1.1,  1.1],\n",
       "       [ 1.1,  1.1,  1.1],\n",
       "       [ 1.1,  1.1,  1.1]])"
      ]
     },
     "execution_count": 25,
     "metadata": {},
     "output_type": "execute_result"
    }
   ],
   "source": [
    "a + b"
   ]
  },
  {
   "cell_type": "markdown",
   "metadata": {},
   "source": [
    "La división es elemento a elemento:"
   ]
  },
  {
   "cell_type": "code",
   "execution_count": 26,
   "metadata": {},
   "outputs": [
    {
     "data": {
      "text/plain": [
       "array([[ 0.1,  0.1,  0.1],\n",
       "       [ 0.1,  0.1,  0.1],\n",
       "       [ 0.1,  0.1,  0.1]])"
      ]
     },
     "execution_count": 26,
     "metadata": {},
     "output_type": "execute_result"
    }
   ],
   "source": [
    "a / b"
   ]
  },
  {
   "cell_type": "markdown",
   "metadata": {},
   "source": [
    "Como también lo son las potencias:"
   ]
  },
  {
   "cell_type": "code",
   "execution_count": 27,
   "metadata": {},
   "outputs": [
    {
     "data": {
      "text/plain": [
       "array([[ 0.01,  0.01,  0.01],\n",
       "       [ 0.01,  0.01,  0.01],\n",
       "       [ 0.01,  0.01,  0.01]])"
      ]
     },
     "execution_count": 27,
     "metadata": {},
     "output_type": "execute_result"
    }
   ],
   "source": [
    "a**2"
   ]
  },
  {
   "cell_type": "markdown",
   "metadata": {},
   "source": [
    "La multiplicación por un escalar es también elemento a elemento:"
   ]
  },
  {
   "cell_type": "code",
   "execution_count": 28,
   "metadata": {},
   "outputs": [
    {
     "data": {
      "text/plain": [
       "array([[ 3.14159265,  3.14159265,  3.14159265],\n",
       "       [ 3.14159265,  3.14159265,  3.14159265],\n",
       "       [ 3.14159265,  3.14159265,  3.14159265]])"
      ]
     },
     "execution_count": 28,
     "metadata": {},
     "output_type": "execute_result"
    }
   ],
   "source": [
    "np.pi * b"
   ]
  },
  {
   "cell_type": "markdown",
   "metadata": {},
   "source": [
    "## Indexado and rebanado"
   ]
  },
  {
   "cell_type": "markdown",
   "metadata": {},
   "source": [
    "El indexado y rebanado proveen una forma eficiente de obtener los valores de un arreglo y de modificarlos."
   ]
  },
  {
   "cell_type": "code",
   "execution_count": 29,
   "metadata": {},
   "outputs": [
    {
     "data": {
      "text/plain": [
       "'%.2f'"
      ]
     },
     "execution_count": 29,
     "metadata": {},
     "output_type": "execute_result"
    }
   ],
   "source": [
    "%precision 2"
   ]
  },
  {
   "cell_type": "code",
   "execution_count": 30,
   "metadata": {
    "collapsed": true
   },
   "outputs": [],
   "source": [
    "a = np.random.rand(9, 9)"
   ]
  },
  {
   "cell_type": "code",
   "execution_count": 31,
   "metadata": {},
   "outputs": [
    {
     "data": {
      "text/plain": [
       "array([[ 0.95,  0.74,  0.21,  0.59,  0.74,  0.38,  0.62,  0.52,  0.33],\n",
       "       [ 0.95,  0.17,  0.98,  0.19,  0.54,  0.58,  0.68,  0.31,  0.62],\n",
       "       [ 0.62,  0.34,  0.94,  0.89,  0.64,  0.3 ,  0.88,  0.95,  0.46],\n",
       "       [ 0.26,  0.03,  0.52,  0.61,  0.58,  0.58,  0.51,  0.38,  0.35],\n",
       "       [ 0.81,  0.85,  0.25,  0.17,  0.27,  0.63,  0.68,  0.48,  0.54],\n",
       "       [ 0.13,  0.31,  0.59,  0.91,  0.02,  0.09,  0.41,  0.2 ,  0.16],\n",
       "       [ 0.42,  0.69,  0.88,  0.96,  0.45,  0.41,  0.07,  0.26,  0.97],\n",
       "       [ 0.72,  0.36,  0.42,  1.  ,  0.8 ,  0.92,  0.53,  0.78,  0.36],\n",
       "       [ 0.05,  0.73,  0.91,  0.86,  0.97,  0.03,  0.16,  0.31,  0.88]])"
      ]
     },
     "execution_count": 31,
     "metadata": {},
     "output_type": "execute_result"
    }
   ],
   "source": [
    "a"
   ]
  },
  {
   "cell_type": "markdown",
   "metadata": {},
   "source": [
    "Al igual que las listas y tuplas de Python, los arreglos de NumPy tienen un indexado que empieza en cero y utilizan los corchetes (`[]`) para obtener y definir valores:"
   ]
  },
  {
   "cell_type": "code",
   "execution_count": 32,
   "metadata": {},
   "outputs": [
    {
     "data": {
      "text/plain": [
       "0.95"
      ]
     },
     "execution_count": 32,
     "metadata": {},
     "output_type": "execute_result"
    }
   ],
   "source": [
    "a[0,0]"
   ]
  },
  {
   "cell_type": "markdown",
   "metadata": {},
   "source": [
    "Un índice de `-1` se refiere al último elemento a lo largo de un eje:"
   ]
  },
  {
   "cell_type": "code",
   "execution_count": 33,
   "metadata": {},
   "outputs": [
    {
     "data": {
      "text/plain": [
       "0.88"
      ]
     },
     "execution_count": 33,
     "metadata": {},
     "output_type": "execute_result"
    }
   ],
   "source": [
    "a[-1,-1]"
   ]
  },
  {
   "cell_type": "markdown",
   "metadata": {},
   "source": [
    "El extraer la columna 0 usa la sintaxis `:`, que denota todos los elementos a lo largo de un eje."
   ]
  },
  {
   "cell_type": "code",
   "execution_count": 34,
   "metadata": {},
   "outputs": [
    {
     "data": {
      "text/plain": [
       "array([ 0.95,  0.95,  0.62,  0.26,  0.81,  0.13,  0.42,  0.72,  0.05])"
      ]
     },
     "execution_count": 34,
     "metadata": {},
     "output_type": "execute_result"
    }
   ],
   "source": [
    "a[:,0]"
   ]
  },
  {
   "cell_type": "markdown",
   "metadata": {},
   "source": [
    "La última fila se extrae así:"
   ]
  },
  {
   "cell_type": "code",
   "execution_count": 35,
   "metadata": {},
   "outputs": [
    {
     "data": {
      "text/plain": [
       "array([ 0.05,  0.73,  0.91,  0.86,  0.97,  0.03,  0.16,  0.31,  0.88])"
      ]
     },
     "execution_count": 35,
     "metadata": {},
     "output_type": "execute_result"
    }
   ],
   "source": [
    "a[-1,:]"
   ]
  },
  {
   "cell_type": "markdown",
   "metadata": {},
   "source": [
    "También se pueden rebanar rangos, así:"
   ]
  },
  {
   "cell_type": "code",
   "execution_count": 36,
   "metadata": {},
   "outputs": [
    {
     "data": {
      "text/plain": [
       "array([[ 0.95,  0.74],\n",
       "       [ 0.95,  0.17]])"
      ]
     },
     "execution_count": 36,
     "metadata": {},
     "output_type": "execute_result"
    }
   ],
   "source": [
    "a[0:2,0:2]"
   ]
  },
  {
   "cell_type": "markdown",
   "metadata": {},
   "source": [
    "La asignación también funciona con rebanados:"
   ]
  },
  {
   "cell_type": "code",
   "execution_count": 37,
   "metadata": {
    "collapsed": true
   },
   "outputs": [],
   "source": [
    "a[0:5,0:5] = 1.0"
   ]
  },
  {
   "cell_type": "code",
   "execution_count": 38,
   "metadata": {},
   "outputs": [
    {
     "data": {
      "text/plain": [
       "array([[ 1.  ,  1.  ,  1.  ,  1.  ,  1.  ,  0.38,  0.62,  0.52,  0.33],\n",
       "       [ 1.  ,  1.  ,  1.  ,  1.  ,  1.  ,  0.58,  0.68,  0.31,  0.62],\n",
       "       [ 1.  ,  1.  ,  1.  ,  1.  ,  1.  ,  0.3 ,  0.88,  0.95,  0.46],\n",
       "       [ 1.  ,  1.  ,  1.  ,  1.  ,  1.  ,  0.58,  0.51,  0.38,  0.35],\n",
       "       [ 1.  ,  1.  ,  1.  ,  1.  ,  1.  ,  0.63,  0.68,  0.48,  0.54],\n",
       "       [ 0.13,  0.31,  0.59,  0.91,  0.02,  0.09,  0.41,  0.2 ,  0.16],\n",
       "       [ 0.42,  0.69,  0.88,  0.96,  0.45,  0.41,  0.07,  0.26,  0.97],\n",
       "       [ 0.72,  0.36,  0.42,  1.  ,  0.8 ,  0.92,  0.53,  0.78,  0.36],\n",
       "       [ 0.05,  0.73,  0.91,  0.86,  0.97,  0.03,  0.16,  0.31,  0.88]])"
      ]
     },
     "execution_count": 38,
     "metadata": {},
     "output_type": "execute_result"
    }
   ],
   "source": [
    "a"
   ]
  },
  {
   "cell_type": "markdown",
   "metadata": {},
   "source": [
    "Es importante notar como aún cuando asignamos el valor a una porción, el arreglo original fue modificado. Esto demuestra que los rebanadosson **vistas** de los mismos datos, no una copia de los mismos."
   ]
  },
  {
   "cell_type": "markdown",
   "metadata": {},
   "source": [
    "### Indexado booleano"
   ]
  },
  {
   "cell_type": "markdown",
   "metadata": {},
   "source": [
    "Los arreglos pueden ser indexados usando otros arreglos que tienen valores booleanos."
   ]
  },
  {
   "cell_type": "code",
   "execution_count": 39,
   "metadata": {
    "collapsed": true
   },
   "outputs": [],
   "source": [
    "edades = np.array([23, 56, 67, 89, 23, 56, 27, 12, 8, 72])\n",
    "generos = np.array(['m', 'm', 'f', 'f', 'm', 'f', 'm', 'm' ,'m', 'f'])"
   ]
  },
  {
   "cell_type": "markdown",
   "metadata": {},
   "source": [
    "Las expresiones booleanas que involucran arreglos crean nuevos arreglos con un tipo de datos `bool` y el resultado elemento a elemento de expresiones de la forma:"
   ]
  },
  {
   "cell_type": "code",
   "execution_count": 40,
   "metadata": {},
   "outputs": [
    {
     "data": {
      "text/plain": [
       "array([False,  True,  True,  True, False,  True, False, False, False,  True], dtype=bool)"
      ]
     },
     "execution_count": 40,
     "metadata": {},
     "output_type": "execute_result"
    }
   ],
   "source": [
    "edades > 30"
   ]
  },
  {
   "cell_type": "code",
   "execution_count": 41,
   "metadata": {},
   "outputs": [
    {
     "data": {
      "text/plain": [
       "array([ True,  True, False, False,  True, False,  True,  True,  True, False], dtype=bool)"
      ]
     },
     "execution_count": 41,
     "metadata": {},
     "output_type": "execute_result"
    }
   ],
   "source": [
    "generos == 'm'"
   ]
  },
  {
   "cell_type": "markdown",
   "metadata": {},
   "source": [
    "Las expresiones booleanas proveen una forma extremadamente rápida y flexible de consultar los contenidos de arreglos:"
   ]
  },
  {
   "cell_type": "code",
   "execution_count": 42,
   "metadata": {},
   "outputs": [
    {
     "data": {
      "text/plain": [
       "array([ True, False, False, False,  True, False,  True,  True, False, False], dtype=bool)"
      ]
     },
     "execution_count": 42,
     "metadata": {},
     "output_type": "execute_result"
    }
   ],
   "source": [
    "(edades > 10) & (edades < 50)"
   ]
  },
  {
   "cell_type": "markdown",
   "metadata": {},
   "source": [
    "Es posible usar un arreglo booleano para para indexar el arreglo original u otro arreglo. Por ejemplo, la siguiente expresión seleccciona las edades de todas las mujeres en el arreglo `generos`:"
   ]
  },
  {
   "cell_type": "code",
   "execution_count": 43,
   "metadata": {},
   "outputs": [
    {
     "data": {
      "text/plain": [
       "array([67, 89, 56, 72])"
      ]
     },
     "execution_count": 43,
     "metadata": {},
     "output_type": "execute_result"
    }
   ],
   "source": [
    "mascara = (generos == 'f')\n",
    "edades[mascara]"
   ]
  },
  {
   "cell_type": "code",
   "execution_count": 44,
   "metadata": {},
   "outputs": [
    {
     "data": {
      "text/plain": [
       "array([56, 67, 89, 56, 72])"
      ]
     },
     "execution_count": 44,
     "metadata": {},
     "output_type": "execute_result"
    }
   ],
   "source": [
    "edades[edades > 30]"
   ]
  },
  {
   "cell_type": "markdown",
   "metadata": {},
   "source": [
    "## Cambiar la forma y transponer arreglos"
   ]
  },
  {
   "cell_type": "code",
   "execution_count": 45,
   "metadata": {
    "collapsed": true
   },
   "outputs": [],
   "source": [
    "a = np.random.rand(3,4)"
   ]
  },
  {
   "cell_type": "code",
   "execution_count": 46,
   "metadata": {},
   "outputs": [
    {
     "data": {
      "text/plain": [
       "array([[ 0.39,  0.87,  0.16,  0.53],\n",
       "       [ 0.39,  0.4 ,  0.56,  0.78],\n",
       "       [ 0.77,  0.99,  0.86,  0.69]])"
      ]
     },
     "execution_count": 46,
     "metadata": {},
     "output_type": "execute_result"
    }
   ],
   "source": [
    "a"
   ]
  },
  {
   "cell_type": "markdown",
   "metadata": {},
   "source": [
    "el atributo `T` contiene la transpuesta del arreglo original:"
   ]
  },
  {
   "cell_type": "code",
   "execution_count": 47,
   "metadata": {},
   "outputs": [
    {
     "data": {
      "text/plain": [
       "array([[ 0.39,  0.39,  0.77],\n",
       "       [ 0.87,  0.4 ,  0.99],\n",
       "       [ 0.16,  0.56,  0.86],\n",
       "       [ 0.53,  0.78,  0.69]])"
      ]
     },
     "execution_count": 47,
     "metadata": {},
     "output_type": "execute_result"
    }
   ],
   "source": [
    "a.T"
   ]
  },
  {
   "cell_type": "markdown",
   "metadata": {},
   "source": [
    "El método `reshape` puede ser usado para cambiar la forma y el número de dimensiones de un arreglo:"
   ]
  },
  {
   "cell_type": "code",
   "execution_count": 48,
   "metadata": {},
   "outputs": [
    {
     "data": {
      "text/plain": [
       "array([[ 0.39,  0.87,  0.16,  0.53,  0.39,  0.4 ],\n",
       "       [ 0.56,  0.78,  0.77,  0.99,  0.86,  0.69]])"
      ]
     },
     "execution_count": 48,
     "metadata": {},
     "output_type": "execute_result"
    }
   ],
   "source": [
    "a.reshape(2,6)"
   ]
  },
  {
   "cell_type": "code",
   "execution_count": 49,
   "metadata": {},
   "outputs": [
    {
     "data": {
      "text/plain": [
       "array([[ 0.39,  0.87],\n",
       "       [ 0.16,  0.53],\n",
       "       [ 0.39,  0.4 ],\n",
       "       [ 0.56,  0.78],\n",
       "       [ 0.77,  0.99],\n",
       "       [ 0.86,  0.69]])"
      ]
     },
     "execution_count": 49,
     "metadata": {},
     "output_type": "execute_result"
    }
   ],
   "source": [
    "a.reshape(6,2)"
   ]
  },
  {
   "cell_type": "markdown",
   "metadata": {},
   "source": [
    "El método `ravel` convierte un arreglo de cualquier número de dimensiones en uno de una sola dimensión:"
   ]
  },
  {
   "cell_type": "code",
   "execution_count": 50,
   "metadata": {},
   "outputs": [
    {
     "data": {
      "text/plain": [
       "array([ 0.39,  0.87,  0.16,  0.53,  0.39,  0.4 ,  0.56,  0.78,  0.77,\n",
       "        0.99,  0.86,  0.69])"
      ]
     },
     "execution_count": 50,
     "metadata": {},
     "output_type": "execute_result"
    }
   ],
   "source": [
    "a.ravel()"
   ]
  },
  {
   "cell_type": "markdown",
   "metadata": {},
   "source": [
    "## Funciones universales"
   ]
  },
  {
   "cell_type": "markdown",
   "metadata": {},
   "source": [
    "Las funciones universales, o \"ufuncs,\" son funciones que toman y retornan arreglos o números. Éstas tienen las siguientes características:\n",
    "\n",
    "* Implementaciones vectorizadas en C, las cuales son mucho más rápidas que ciclos `for` en Python.\n",
    "* Permiten escribir código mucho más compacto\n",
    "* Aquí se encuentra una lista completa de [todas las funciones universales de NumPy](http://docs.scipy.org/doc/numpy/reference/ufuncs.html#available-ufuncs) (en inglés)."
   ]
  },
  {
   "cell_type": "markdown",
   "metadata": {},
   "source": [
    "Esta es una secuencia lineal de valores"
   ]
  },
  {
   "cell_type": "code",
   "execution_count": 51,
   "metadata": {},
   "outputs": [
    {
     "data": {
      "text/plain": [
       "array([  0.  ,   0.13,   0.25,   0.38,   0.51,   0.63,   0.76,   0.89,\n",
       "         1.02,   1.14,   1.27,   1.4 ,   1.52,   1.65,   1.78,   1.9 ,\n",
       "         2.03,   2.16,   2.28,   2.41,   2.54,   2.67,   2.79,   2.92,\n",
       "         3.05,   3.17,   3.3 ,   3.43,   3.55,   3.68,   3.81,   3.93,\n",
       "         4.06,   4.19,   4.32,   4.44,   4.57,   4.7 ,   4.82,   4.95,\n",
       "         5.08,   5.2 ,   5.33,   5.46,   5.59,   5.71,   5.84,   5.97,\n",
       "         6.09,   6.22,   6.35,   6.47,   6.6 ,   6.73,   6.85,   6.98,\n",
       "         7.11,   7.24,   7.36,   7.49,   7.62,   7.74,   7.87,   8.  ,\n",
       "         8.12,   8.25,   8.38,   8.5 ,   8.63,   8.76,   8.89,   9.01,\n",
       "         9.14,   9.27,   9.39,   9.52,   9.65,   9.77,   9.9 ,  10.03,\n",
       "        10.15,  10.28,  10.41,  10.54,  10.66,  10.79,  10.92,  11.04,\n",
       "        11.17,  11.3 ,  11.42,  11.55,  11.68,  11.8 ,  11.93,  12.06,\n",
       "        12.19,  12.31,  12.44,  12.57])"
      ]
     },
     "execution_count": 51,
     "metadata": {},
     "output_type": "execute_result"
    }
   ],
   "source": [
    "t = np.linspace(0.0, 4*np.pi, 100)\n",
    "t"
   ]
  },
  {
   "cell_type": "markdown",
   "metadata": {},
   "source": [
    "Este es el resultado de la función seno aplicada a todos los elementos del arreglo:"
   ]
  },
  {
   "cell_type": "code",
   "execution_count": 52,
   "metadata": {},
   "outputs": [
    {
     "data": {
      "text/plain": [
       "array([  0.00e+00,   1.27e-01,   2.51e-01,   3.72e-01,   4.86e-01,\n",
       "         5.93e-01,   6.90e-01,   7.76e-01,   8.50e-01,   9.10e-01,\n",
       "         9.55e-01,   9.85e-01,   9.99e-01,   9.97e-01,   9.79e-01,\n",
       "         9.45e-01,   8.96e-01,   8.33e-01,   7.56e-01,   6.67e-01,\n",
       "         5.67e-01,   4.58e-01,   3.42e-01,   2.20e-01,   9.51e-02,\n",
       "        -3.17e-02,  -1.58e-01,  -2.82e-01,  -4.01e-01,  -5.14e-01,\n",
       "        -6.18e-01,  -7.13e-01,  -7.96e-01,  -8.66e-01,  -9.22e-01,\n",
       "        -9.64e-01,  -9.90e-01,  -1.00e+00,  -9.94e-01,  -9.72e-01,\n",
       "        -9.34e-01,  -8.81e-01,  -8.15e-01,  -7.35e-01,  -6.43e-01,\n",
       "        -5.41e-01,  -4.30e-01,  -3.12e-01,  -1.89e-01,  -6.34e-02,\n",
       "         6.34e-02,   1.89e-01,   3.12e-01,   4.30e-01,   5.41e-01,\n",
       "         6.43e-01,   7.35e-01,   8.15e-01,   8.81e-01,   9.34e-01,\n",
       "         9.72e-01,   9.94e-01,   1.00e+00,   9.90e-01,   9.64e-01,\n",
       "         9.22e-01,   8.66e-01,   7.96e-01,   7.13e-01,   6.18e-01,\n",
       "         5.14e-01,   4.01e-01,   2.82e-01,   1.58e-01,   3.17e-02,\n",
       "        -9.51e-02,  -2.20e-01,  -3.42e-01,  -4.58e-01,  -5.67e-01,\n",
       "        -6.67e-01,  -7.56e-01,  -8.33e-01,  -8.96e-01,  -9.45e-01,\n",
       "        -9.79e-01,  -9.97e-01,  -9.99e-01,  -9.85e-01,  -9.55e-01,\n",
       "        -9.10e-01,  -8.50e-01,  -7.76e-01,  -6.90e-01,  -5.93e-01,\n",
       "        -4.86e-01,  -3.72e-01,  -2.51e-01,  -1.27e-01,  -4.90e-16])"
      ]
     },
     "execution_count": 52,
     "metadata": {},
     "output_type": "execute_result"
    }
   ],
   "source": [
    "np.sin(t)"
   ]
  },
  {
   "cell_type": "markdown",
   "metadata": {},
   "source": [
    "Como muestran los siguientes ejemplos, múltiples ufuncs pueden ser usadas para crear complejas expresiones matemáticas que pueden ser calculadas eficientemente:"
   ]
  },
  {
   "cell_type": "code",
   "execution_count": 53,
   "metadata": {},
   "outputs": [
    {
     "data": {
      "text/plain": [
       "array([  1.  ,   1.43,   1.66,   1.85,   2.04,   2.22,   2.39,   2.57,\n",
       "         2.74,   2.91,   3.09,   3.26,   3.44,   3.61,   3.79,   3.97,\n",
       "         4.16,   4.34,   4.53,   4.73,   4.92,   5.12,   5.32,   5.52,\n",
       "         5.73,   5.94,   6.15,   6.37,   6.59,   6.81,   7.04,   7.27,\n",
       "         7.5 ,   7.74,   7.98,   8.23,   8.48,   8.73,   8.99,   9.25,\n",
       "         9.52,   9.79,  10.06,  10.34,  10.63,  10.91,  11.21,  11.5 ,\n",
       "        11.8 ,  12.11,  12.42,  12.73,  13.05,  13.38,  13.71,  14.04,\n",
       "        14.38,  14.73,  15.08,  15.43,  15.8 ,  16.16,  16.53,  16.91,\n",
       "        17.29,  17.68,  18.07,  18.47,  18.88,  19.29,  19.7 ,  20.13,\n",
       "        20.56,  20.99,  21.43,  21.88,  22.33,  22.79,  23.26,  23.73,\n",
       "        24.21,  24.69,  25.18,  25.68,  26.19,  26.7 ,  27.22,  27.75,\n",
       "        28.28,  28.82,  29.37,  29.92,  30.49,  31.06,  31.63,  32.22,\n",
       "        32.81,  33.41,  34.02,  34.64])"
      ]
     },
     "execution_count": 53,
     "metadata": {},
     "output_type": "execute_result"
    }
   ],
   "source": [
    "np.exp(np.sqrt(t))"
   ]
  },
  {
   "cell_type": "code",
   "execution_count": 54,
   "metadata": {
    "collapsed": true
   },
   "outputs": [],
   "source": [
    "%matplotlib inline\n",
    "import matplotlib.pyplot as plt\n",
    "plt.style.use('ggplot')"
   ]
  },
  {
   "cell_type": "code",
   "execution_count": 55,
   "metadata": {},
   "outputs": [
    {
     "data": {
      "text/plain": [
       "[<matplotlib.lines.Line2D at 0x7f7faa99f8d0>]"
      ]
     },
     "execution_count": 55,
     "metadata": {},
     "output_type": "execute_result"
    },
    {
     "data": {
      "image/png": "[encoded data removed]",
      "text/plain": [
       "<matplotlib.figure.Figure at 0x7f7fadf7ef28>"
      ]
     },
     "metadata": {},
     "output_type": "display_data"
    }
   ],
   "source": [
    "plt.plot(t, np.exp(-0.1*t)*np.sin(t))"
   ]
  },
  {
   "cell_type": "markdown",
   "metadata": {},
   "source": [
    "En general, siempre se debería intentar utilizar las ufuncs en lugar de ciclos for. Esta clase de cálculos basados en arreglos se conocen como *vectorizados*."
   ]
  },
  {
   "cell_type": "markdown",
   "metadata": {},
   "source": [
    "## Procesamiento básico de datos"
   ]
  },
  {
   "cell_type": "code",
   "execution_count": 56,
   "metadata": {
    "collapsed": true
   },
   "outputs": [],
   "source": [
    "edades = np.array([23, 56, 67, 89, 23, 56, 27, 12, 8, 72])\n",
    "generos = np.array(['m', 'm', 'f', 'f', 'm', 'f', 'm', 'm', 'm', 'f'])"
   ]
  },
  {
   "cell_type": "markdown",
   "metadata": {},
   "source": [
    "Numpy tiene un conjunto básico de métodos y funciones para calcular cantidades básicas sobre ciertos datos."
   ]
  },
  {
   "cell_type": "code",
   "execution_count": 57,
   "metadata": {},
   "outputs": [
    {
     "data": {
      "text/plain": [
       "(8, 89)"
      ]
     },
     "execution_count": 57,
     "metadata": {},
     "output_type": "execute_result"
    }
   ],
   "source": [
    "edades.min(), edades.max()"
   ]
  },
  {
   "cell_type": "markdown",
   "metadata": {},
   "source": [
    "Calcular la media:"
   ]
  },
  {
   "cell_type": "code",
   "execution_count": 58,
   "metadata": {},
   "outputs": [
    {
     "data": {
      "text/plain": [
       "43.30"
      ]
     },
     "execution_count": 58,
     "metadata": {},
     "output_type": "execute_result"
    }
   ],
   "source": [
    "edades.mean()"
   ]
  },
  {
   "cell_type": "markdown",
   "metadata": {},
   "source": [
    "Calcular la varianza y la desviación estandar:"
   ]
  },
  {
   "cell_type": "code",
   "execution_count": 59,
   "metadata": {},
   "outputs": [
    {
     "data": {
      "text/plain": [
       "(711.21, 26.67)"
      ]
     },
     "execution_count": 59,
     "metadata": {},
     "output_type": "execute_result"
    }
   ],
   "source": [
    "edades.var(), edades.std()"
   ]
  },
  {
   "cell_type": "markdown",
   "metadata": {},
   "source": [
    "La función `bincount` cuenta cuantas veces ocurre cada valor en un arreglo:"
   ]
  },
  {
   "cell_type": "code",
   "execution_count": 60,
   "metadata": {},
   "outputs": [
    {
     "data": {
      "text/plain": [
       "array([0, 0, 0, 0, 0, 0, 0, 0, 1, 0, 0, 0, 1, 0, 0, 0, 0, 0, 0, 0, 0, 0, 0,\n",
       "       2, 0, 0, 0, 1, 0, 0, 0, 0, 0, 0, 0, 0, 0, 0, 0, 0, 0, 0, 0, 0, 0, 0,\n",
       "       0, 0, 0, 0, 0, 0, 0, 0, 0, 0, 2, 0, 0, 0, 0, 0, 0, 0, 0, 0, 0, 1, 0,\n",
       "       0, 0, 0, 1, 0, 0, 0, 0, 0, 0, 0, 0, 0, 0, 0, 0, 0, 0, 0, 0, 1])"
      ]
     },
     "execution_count": 60,
     "metadata": {},
     "output_type": "execute_result"
    }
   ],
   "source": [
    "np.bincount(edades)"
   ]
  },
  {
   "cell_type": "markdown",
   "metadata": {},
   "source": [
    "Los métodos `cumsum` y `cumprod` calculan las sumas y productos acumulados:"
   ]
  },
  {
   "cell_type": "code",
   "execution_count": 61,
   "metadata": {},
   "outputs": [
    {
     "data": {
      "text/plain": [
       "array([ 23,  79, 146, 235, 258, 314, 341, 353, 361, 433])"
      ]
     },
     "execution_count": 61,
     "metadata": {},
     "output_type": "execute_result"
    }
   ],
   "source": [
    "edades.cumsum()"
   ]
  },
  {
   "cell_type": "code",
   "execution_count": 62,
   "metadata": {},
   "outputs": [
    {
     "data": {
      "text/plain": [
       "array([              23,             1288,            86296,\n",
       "                7680344,        176647912,       9892283072,\n",
       "           267091642944,    3205099715328,   25640797722624,\n",
       "       1846137436028928])"
      ]
     },
     "execution_count": 62,
     "metadata": {},
     "output_type": "execute_result"
    }
   ],
   "source": [
    "edades.cumprod()"
   ]
  },
  {
   "cell_type": "markdown",
   "metadata": {},
   "source": [
    "La mayoría de las funciones y métodos anteriores toman un argumento llamado `axis` que aplica la operación a lo largo de un eje particular:"
   ]
  },
  {
   "cell_type": "code",
   "execution_count": 63,
   "metadata": {},
   "outputs": [
    {
     "data": {
      "text/plain": [
       "array([[3, 4, 8, 4],\n",
       "       [2, 5, 8, 1],\n",
       "       [2, 8, 5, 2]])"
      ]
     },
     "execution_count": 63,
     "metadata": {},
     "output_type": "execute_result"
    }
   ],
   "source": [
    "a = np.random.randint(0, 10, (3,4))\n",
    "a"
   ]
  },
  {
   "cell_type": "markdown",
   "metadata": {},
   "source": [
    "Con `axis=0`, la operación toma lugar a lo largo de las filas:"
   ]
  },
  {
   "cell_type": "code",
   "execution_count": 64,
   "metadata": {},
   "outputs": [
    {
     "data": {
      "text/plain": [
       "array([ 7, 17, 21,  7])"
      ]
     },
     "execution_count": 64,
     "metadata": {},
     "output_type": "execute_result"
    }
   ],
   "source": [
    "a.sum(axis=0)"
   ]
  },
  {
   "cell_type": "markdown",
   "metadata": {},
   "source": [
    "Con `axis=1` la operación toma lugar a lo largo de las columnas:"
   ]
  },
  {
   "cell_type": "code",
   "execution_count": 65,
   "metadata": {},
   "outputs": [
    {
     "data": {
      "text/plain": [
       "array([19, 16, 17])"
      ]
     },
     "execution_count": 65,
     "metadata": {},
     "output_type": "execute_result"
    }
   ],
   "source": [
    "a.sum(axis=1)"
   ]
  },
  {
   "cell_type": "markdown",
   "metadata": {},
   "source": [
    "La función `unique` es muy útil para trabajar con datos categóricos:"
   ]
  },
  {
   "cell_type": "code",
   "execution_count": 66,
   "metadata": {},
   "outputs": [
    {
     "data": {
      "text/plain": [
       "array(['f', 'm'], \n",
       "      dtype='<U1')"
      ]
     },
     "execution_count": 66,
     "metadata": {},
     "output_type": "execute_result"
    }
   ],
   "source": [
    "np.unique(generos)"
   ]
  },
  {
   "cell_type": "code",
   "execution_count": 67,
   "metadata": {},
   "outputs": [
    {
     "data": {
      "text/plain": [
       "(array(['f', 'm'], \n",
       "       dtype='<U1'), array([4, 6]))"
      ]
     },
     "execution_count": 67,
     "metadata": {},
     "output_type": "execute_result"
    }
   ],
   "source": [
    "np.unique(generos, return_counts=True)"
   ]
  },
  {
   "cell_type": "markdown",
   "metadata": {},
   "source": [
    "La función `where` permite aplicar lógica condicional a los arreglos. Este es un esquema de cómo funciona:\n",
    "\n",
    "```python\n",
    "np.where(condicion, si_falsa, si_verdadera)\n",
    "```"
   ]
  },
  {
   "cell_type": "code",
   "execution_count": 68,
   "metadata": {},
   "outputs": [
    {
     "data": {
      "text/plain": [
       "array([1, 0, 0, 0, 1, 0, 1, 1, 1, 0])"
      ]
     },
     "execution_count": 68,
     "metadata": {},
     "output_type": "execute_result"
    }
   ],
   "source": [
    "np.where(edades > 30, 0, 1)"
   ]
  },
  {
   "cell_type": "markdown",
   "metadata": {},
   "source": [
    "Los valores `si_falsa` y `si_verdadera` pueden ser arreglos:"
   ]
  },
  {
   "cell_type": "code",
   "execution_count": 69,
   "metadata": {},
   "outputs": [
    {
     "data": {
      "text/plain": [
       "array([ 0, 56, 67, 89,  0, 56,  0,  0,  0, 72])"
      ]
     },
     "execution_count": 69,
     "metadata": {},
     "output_type": "execute_result"
    }
   ],
   "source": [
    "np.where(edades < 30, 0, edades)"
   ]
  },
  {
   "cell_type": "markdown",
   "metadata": {},
   "source": [
    "## Lectura y escritura de archivos"
   ]
  },
  {
   "cell_type": "markdown",
   "metadata": {},
   "source": [
    "NumPy tiene varias funciones para leer y escribir arreglos de y hacia el sistema operativo."
   ]
  },
  {
   "cell_type": "markdown",
   "metadata": {},
   "source": [
    "### Single array, binary format"
   ]
  },
  {
   "cell_type": "code",
   "execution_count": 70,
   "metadata": {},
   "outputs": [
    {
     "data": {
      "text/plain": [
       "array([ 0.19,  0.24,  0.57,  0.45,  0.81,  0.36,  0.1 ,  0.42,  0.48,  0.09])"
      ]
     },
     "execution_count": 70,
     "metadata": {},
     "output_type": "execute_result"
    }
   ],
   "source": [
    "a = np.random.rand(10)\n",
    "a"
   ]
  },
  {
   "cell_type": "markdown",
   "metadata": {},
   "source": [
    "Save the array to a binary file named `array1.npy`:"
   ]
  },
  {
   "cell_type": "code",
   "execution_count": 71,
   "metadata": {
    "collapsed": true
   },
   "outputs": [],
   "source": [
    "np.save('array1', a)"
   ]
  },
  {
   "cell_type": "code",
   "execution_count": 72,
   "metadata": {},
   "outputs": [
    {
     "name": "stdout",
     "output_type": "stream",
     "text": [
      "'01. Numpy.ipynb'           MatplotlibBasico.ipynb   array2.txt\r\n",
      "'02. Matplotlib.ipynb'      \u001b[0m\u001b[01;34mPandas\u001b[0m/                  arrays.npz\r\n",
      "'04. Otros modulos.ipynb'   array1.npy               numpy.ipynb\r\n"
     ]
    }
   ],
   "source": [
    "ls"
   ]
  },
  {
   "cell_type": "markdown",
   "metadata": {},
   "source": [
    "Load the array back into memory:"
   ]
  },
  {
   "cell_type": "code",
   "execution_count": 73,
   "metadata": {
    "collapsed": true
   },
   "outputs": [],
   "source": [
    "a_copy = np.load('array1.npy')"
   ]
  },
  {
   "cell_type": "code",
   "execution_count": 74,
   "metadata": {},
   "outputs": [
    {
     "data": {
      "text/plain": [
       "array([ 0.19,  0.24,  0.57,  0.45,  0.81,  0.36,  0.1 ,  0.42,  0.48,  0.09])"
      ]
     },
     "execution_count": 74,
     "metadata": {},
     "output_type": "execute_result"
    }
   ],
   "source": [
    "a_copy"
   ]
  },
  {
   "cell_type": "markdown",
   "metadata": {},
   "source": [
    "### Single array, text format"
   ]
  },
  {
   "cell_type": "code",
   "execution_count": 75,
   "metadata": {},
   "outputs": [
    {
     "data": {
      "text/plain": [
       "array([[0, 5, 7],\n",
       "       [9, 4, 1],\n",
       "       [1, 2, 1],\n",
       "       [2, 0, 8],\n",
       "       [1, 5, 8]])"
      ]
     },
     "execution_count": 75,
     "metadata": {},
     "output_type": "execute_result"
    }
   ],
   "source": [
    "b = np.random.randint(0, 10, (5,3))\n",
    "b"
   ]
  },
  {
   "cell_type": "markdown",
   "metadata": {},
   "source": [
    "The `savetxt` function saves arrays in a simple, textual format that is less effecient, but easier for other languges to read:"
   ]
  },
  {
   "cell_type": "code",
   "execution_count": 76,
   "metadata": {
    "collapsed": true
   },
   "outputs": [],
   "source": [
    "np.savetxt('array2.txt', b)"
   ]
  },
  {
   "cell_type": "code",
   "execution_count": 77,
   "metadata": {},
   "outputs": [
    {
     "name": "stdout",
     "output_type": "stream",
     "text": [
      "'01. Numpy.ipynb'           MatplotlibBasico.ipynb   array2.txt\r\n",
      "'02. Matplotlib.ipynb'      \u001b[0m\u001b[01;34mPandas\u001b[0m/                  arrays.npz\r\n",
      "'04. Otros modulos.ipynb'   array1.npy               numpy.ipynb\r\n"
     ]
    }
   ],
   "source": [
    "ls"
   ]
  },
  {
   "cell_type": "markdown",
   "metadata": {},
   "source": [
    "Using `%pycat` to look at the contents shows that the files is indeed a plain text file:"
   ]
  },
  {
   "cell_type": "code",
   "execution_count": 78,
   "metadata": {},
   "outputs": [],
   "source": [
    "%pycat array2.txt"
   ]
  },
  {
   "cell_type": "code",
   "execution_count": 79,
   "metadata": {},
   "outputs": [
    {
     "data": {
      "text/plain": [
       "array([[ 0.,  5.,  7.],\n",
       "       [ 9.,  4.,  1.],\n",
       "       [ 1.,  2.,  1.],\n",
       "       [ 2.,  0.,  8.],\n",
       "       [ 1.,  5.,  8.]])"
      ]
     },
     "execution_count": 79,
     "metadata": {},
     "output_type": "execute_result"
    }
   ],
   "source": [
    "np.loadtxt('array2.txt')"
   ]
  },
  {
   "cell_type": "markdown",
   "metadata": {},
   "source": [
    "### Multiple arrays, binary format"
   ]
  },
  {
   "cell_type": "markdown",
   "metadata": {},
   "source": [
    "The `savez` function provides an efficient way of saving multiple arrays to a single file:"
   ]
  },
  {
   "cell_type": "code",
   "execution_count": 80,
   "metadata": {
    "collapsed": true
   },
   "outputs": [],
   "source": [
    "np.savez('arrays.npz', a=a, b=b)"
   ]
  },
  {
   "cell_type": "markdown",
   "metadata": {},
   "source": [
    "The `load` function returns a dictionary like object that provides access to the individual arrays:"
   ]
  },
  {
   "cell_type": "code",
   "execution_count": 81,
   "metadata": {
    "collapsed": true
   },
   "outputs": [],
   "source": [
    "a_and_b = np.load('arrays.npz')"
   ]
  },
  {
   "cell_type": "code",
   "execution_count": 82,
   "metadata": {},
   "outputs": [
    {
     "data": {
      "text/plain": [
       "array([ 0.19,  0.24,  0.57,  0.45,  0.81,  0.36,  0.1 ,  0.42,  0.48,  0.09])"
      ]
     },
     "execution_count": 82,
     "metadata": {},
     "output_type": "execute_result"
    }
   ],
   "source": [
    "a_and_b['a']"
   ]
  },
  {
   "cell_type": "code",
   "execution_count": 83,
   "metadata": {},
   "outputs": [
    {
     "data": {
      "text/plain": [
       "array([[0, 5, 7],\n",
       "       [9, 4, 1],\n",
       "       [1, 2, 1],\n",
       "       [2, 0, 8],\n",
       "       [1, 5, 8]])"
      ]
     },
     "execution_count": 83,
     "metadata": {},
     "output_type": "execute_result"
    }
   ],
   "source": [
    "a_and_b['b']"
   ]
  },
  {
   "cell_type": "markdown",
   "metadata": {},
   "source": [
    "## Algebra lineal"
   ]
  },
  {
   "cell_type": "markdown",
   "metadata": {},
   "source": [
    "NumPy has excellent linear algebra capabilities."
   ]
  },
  {
   "cell_type": "code",
   "execution_count": 84,
   "metadata": {
    "collapsed": true
   },
   "outputs": [],
   "source": [
    "a = np.random.rand(5,5)\n",
    "b = np.random.rand(5,5)"
   ]
  },
  {
   "cell_type": "markdown",
   "metadata": {},
   "source": [
    "Remember that array operations are elementwise. Thus, this is **not** matrix multiplication:"
   ]
  },
  {
   "cell_type": "code",
   "execution_count": 85,
   "metadata": {},
   "outputs": [
    {
     "data": {
      "text/plain": [
       "array([[ 0.11,  0.44,  0.18,  0.06,  0.01],\n",
       "       [ 0.27,  0.42,  0.48,  0.08,  0.23],\n",
       "       [ 0.29,  0.18,  0.38,  0.67,  0.67],\n",
       "       [ 0.31,  0.01,  0.13,  0.1 ,  0.24],\n",
       "       [ 0.3 ,  0.57,  0.27,  0.1 ,  0.34]])"
      ]
     },
     "execution_count": 85,
     "metadata": {},
     "output_type": "execute_result"
    }
   ],
   "source": [
    "a * b"
   ]
  },
  {
   "cell_type": "markdown",
   "metadata": {},
   "source": [
    "To get matrix multiplication use `np.dot`:"
   ]
  },
  {
   "cell_type": "code",
   "execution_count": 86,
   "metadata": {},
   "outputs": [
    {
     "data": {
      "text/plain": [
       "array([[ 0.96,  1.08,  1.01,  0.66,  0.71],\n",
       "       [ 1.94,  1.6 ,  1.51,  1.85,  1.64],\n",
       "       [ 2.18,  1.78,  1.56,  1.63,  1.58],\n",
       "       [ 2.03,  1.27,  1.19,  1.58,  1.46],\n",
       "       [ 1.55,  1.49,  1.38,  1.59,  1.39]])"
      ]
     },
     "execution_count": 86,
     "metadata": {},
     "output_type": "execute_result"
    }
   ],
   "source": [
    "np.dot(a, b)"
   ]
  },
  {
   "cell_type": "markdown",
   "metadata": {},
   "source": [
    "Or, NumPy as a `matrix` subclass for which matrix operations are the default:"
   ]
  },
  {
   "cell_type": "code",
   "execution_count": 87,
   "metadata": {
    "collapsed": true
   },
   "outputs": [],
   "source": [
    "m1 = np.matrix(a)\n",
    "m2 = np.matrix(b)"
   ]
  },
  {
   "cell_type": "code",
   "execution_count": 88,
   "metadata": {},
   "outputs": [
    {
     "data": {
      "text/plain": [
       "matrix([[ 0.96,  1.08,  1.01,  0.66,  0.71],\n",
       "        [ 1.94,  1.6 ,  1.51,  1.85,  1.64],\n",
       "        [ 2.18,  1.78,  1.56,  1.63,  1.58],\n",
       "        [ 2.03,  1.27,  1.19,  1.58,  1.46],\n",
       "        [ 1.55,  1.49,  1.38,  1.59,  1.39]])"
      ]
     },
     "execution_count": 88,
     "metadata": {},
     "output_type": "execute_result"
    }
   ],
   "source": [
    "m1 * m2"
   ]
  },
  {
   "cell_type": "markdown",
   "metadata": {},
   "source": [
    "The `np.linalg` package has a wide range of fast linear algebra operations.\n",
    "\n",
    "Here is determinant:"
   ]
  },
  {
   "cell_type": "code",
   "execution_count": 89,
   "metadata": {},
   "outputs": [
    {
     "data": {
      "text/plain": [
       "-0.01"
      ]
     },
     "execution_count": 89,
     "metadata": {},
     "output_type": "execute_result"
    }
   ],
   "source": [
    "np.linalg.det(a)"
   ]
  },
  {
   "cell_type": "markdown",
   "metadata": {},
   "source": [
    "Matrix inverse:"
   ]
  },
  {
   "cell_type": "code",
   "execution_count": 90,
   "metadata": {},
   "outputs": [
    {
     "data": {
      "text/plain": [
       "array([[  3.07,  -3.73,  -4.43,   4.03,   3.93],\n",
       "       [ -0.16,  -2.23,   1.52,  -0.38,   1.6 ],\n",
       "       [  0.16,  14.36,   0.19,  -4.77, -11.53],\n",
       "       [  1.24,   1.67,  -0.5 ,   1.  ,  -2.87],\n",
       "       [ -2.69, -10.54,   2.  ,   2.03,   9.79]])"
      ]
     },
     "execution_count": 90,
     "metadata": {},
     "output_type": "execute_result"
    }
   ],
   "source": [
    "np.linalg.inv(a)"
   ]
  },
  {
   "cell_type": "markdown",
   "metadata": {},
   "source": [
    "Eigenvalues:"
   ]
  },
  {
   "cell_type": "code",
   "execution_count": 91,
   "metadata": {},
   "outputs": [
    {
     "data": {
      "text/plain": [
       "array([ 2.68+0.j  , -0.35+0.j  ,  0.12+0.08j,  0.12-0.08j,  0.43+0.j  ])"
      ]
     },
     "execution_count": 91,
     "metadata": {},
     "output_type": "execute_result"
    }
   ],
   "source": [
    "np.linalg.eigvals(a)"
   ]
  },
  {
   "cell_type": "markdown",
   "metadata": {},
   "source": [
    "## Random numbers"
   ]
  },
  {
   "cell_type": "markdown",
   "metadata": {},
   "source": [
    "NumPy has functions for creating arrays of random numbers from different distributions in `np.random`, as well as handling things like permutation, shuffling, and choosing.\n",
    "\n",
    "Here is the [numpy.random documentation](http://docs.scipy.org/doc/numpy/reference/routines.random.html)."
   ]
  },
  {
   "cell_type": "code",
   "execution_count": 92,
   "metadata": {},
   "outputs": [
    {
     "data": {
      "text/plain": [
       "<matplotlib.text.Text at 0x7f7faa91a8d0>"
      ]
     },
     "execution_count": 92,
     "metadata": {},
     "output_type": "execute_result"
    },
    {
     "data": {
      "image/png": "[encoded data removed]",
      "text/plain": [
       "<matplotlib.figure.Figure at 0x7f7faa9deb00>"
      ]
     },
     "metadata": {},
     "output_type": "display_data"
    }
   ],
   "source": [
    "plt.hist(np.random.random(250))\n",
    "plt.title('Uniform Random Distribution $[0,1]$')\n",
    "plt.xlabel('value')\n",
    "plt.ylabel('count')"
   ]
  },
  {
   "cell_type": "code",
   "execution_count": 93,
   "metadata": {},
   "outputs": [
    {
     "data": {
      "text/plain": [
       "<matplotlib.text.Text at 0x7f7faa0bfa20>"
      ]
     },
     "execution_count": 93,
     "metadata": {},
     "output_type": "execute_result"
    },
    {
     "data": {
      "image/png": "[encoded data removed]",
      "text/plain": [
       "<matplotlib.figure.Figure at 0x7f7faa0b9978>"
      ]
     },
     "metadata": {},
     "output_type": "display_data"
    }
   ],
   "source": [
    "plt.hist(np.random.randn(250))\n",
    "plt.title('Standard Normal Distribution')\n",
    "plt.xlabel('value')\n",
    "plt.ylabel('count')"
   ]
  },
  {
   "cell_type": "markdown",
   "metadata": {},
   "source": [
    "The `shuffle` function shuffles an array in place:"
   ]
  },
  {
   "cell_type": "code",
   "execution_count": 94,
   "metadata": {},
   "outputs": [
    {
     "name": "stdout",
     "output_type": "stream",
     "text": [
      "[0 1 2 3 4 5 6 7 8 9]\n",
      "[2 6 3 8 5 4 1 0 9 7]\n"
     ]
    }
   ],
   "source": [
    "a = np.arange(0,10)\n",
    "print(a)\n",
    "np.random.shuffle(a)\n",
    "print(a)"
   ]
  },
  {
   "cell_type": "markdown",
   "metadata": {},
   "source": [
    "The `permutation` function does the same thing but first makes a copy:"
   ]
  },
  {
   "cell_type": "code",
   "execution_count": 95,
   "metadata": {},
   "outputs": [
    {
     "name": "stdout",
     "output_type": "stream",
     "text": [
      "[1 3 0 8 4 7 9 2 6 5]\n",
      "[0 1 2 3 4 5 6 7 8 9]\n"
     ]
    }
   ],
   "source": [
    "a = np.arange(0,10)\n",
    "print(np.random.permutation(a))\n",
    "print(a)"
   ]
  },
  {
   "cell_type": "markdown",
   "metadata": {},
   "source": [
    "The `choice` function provides a powerful way of creating synthetic data sets of discrete data:"
   ]
  },
  {
   "cell_type": "code",
   "execution_count": 96,
   "metadata": {},
   "outputs": [
    {
     "data": {
      "text/plain": [
       "array(['f', 'f', 'm', 'f', 'f', 'm', 'f', 'f', 'f', 'm', 'f', 'f', 'f',\n",
       "       'f', 'f', 'f', 'f', 'f', 'f', 'f'], \n",
       "      dtype='<U1')"
      ]
     },
     "execution_count": 96,
     "metadata": {},
     "output_type": "execute_result"
    }
   ],
   "source": [
    "np.random.choice(['m','f'], 20, p=[0.25,0.75])"
   ]
  },
  {
   "cell_type": "markdown",
   "metadata": {},
   "source": [
    "## Vectorización"
   ]
  },
  {
   "cell_type": "markdown",
   "metadata": {},
   "source": [
    "Vectorización es la manera más fácil de acelerar programas de python. Se utiliza cuando hay cómputos pesados con arreglos. Adicionalmente, la vectorización produce código que es más fácil de leer.\n"
   ]
  },
  {
   "cell_type": "code",
   "execution_count": 97,
   "metadata": {},
   "outputs": [
    {
     "name": "stdout",
     "output_type": "stream",
     "text": [
      "8.17 ms ± 295 µs per loop (mean ± std. dev. of 7 runs, 100 loops each)\n",
      "251 µs ± 5.03 µs per loop (mean ± std. dev. of 7 runs, 1000 loops each)\n"
     ]
    }
   ],
   "source": [
    "datos = np.random.random(10000)\n",
    "def function(x):\n",
    "    return np.log(x)\n",
    "%timeit  resultados=[function(x) for x in datos]\n",
    "%timeit  resultados=function(datos)"
   ]
  },
  {
   "cell_type": "markdown",
   "metadata": {},
   "source": [
    "No todas las funciones se vectorizan automáticamente"
   ]
  },
  {
   "cell_type": "code",
   "execution_count": 98,
   "metadata": {},
   "outputs": [
    {
     "ename": "ValueError",
     "evalue": "The truth value of an array with more than one element is ambiguous. Use a.any() or a.all()",
     "output_type": "error",
     "traceback": [
      "\u001b[0;31m---------------------------------------------------------------------------\u001b[0m",
      "\u001b[0;31mValueError\u001b[0m                                Traceback (most recent call last)",
      "\u001b[0;32m<ipython-input-98-fdd987232d80>\u001b[0m in \u001b[0;36m<module>\u001b[0;34m()\u001b[0m\n\u001b[1;32m      4\u001b[0m     \u001b[0;32melse\u001b[0m\u001b[0;34m:\u001b[0m\u001b[0;34m\u001b[0m\u001b[0m\n\u001b[1;32m      5\u001b[0m         \u001b[0;32mreturn\u001b[0m \u001b[0;36m1.\u001b[0m\u001b[0;34m\u001b[0m\u001b[0m\n\u001b[0;32m----> 6\u001b[0;31m \u001b[0mescalon\u001b[0m\u001b[0;34m(\u001b[0m\u001b[0mnp\u001b[0m\u001b[0;34m.\u001b[0m\u001b[0mlinspace\u001b[0m\u001b[0;34m(\u001b[0m\u001b[0;34m-\u001b[0m\u001b[0;36m1\u001b[0m\u001b[0;34m,\u001b[0m\u001b[0;36m1\u001b[0m\u001b[0;34m,\u001b[0m\u001b[0;36m3\u001b[0m\u001b[0;34m)\u001b[0m\u001b[0;34m)\u001b[0m\u001b[0;34m\u001b[0m\u001b[0m\n\u001b[0m",
      "\u001b[0;32m<ipython-input-98-fdd987232d80>\u001b[0m in \u001b[0;36mescalon\u001b[0;34m(x)\u001b[0m\n\u001b[1;32m      1\u001b[0m \u001b[0;32mdef\u001b[0m \u001b[0mescalon\u001b[0m\u001b[0;34m(\u001b[0m\u001b[0mx\u001b[0m\u001b[0;34m)\u001b[0m\u001b[0;34m:\u001b[0m\u001b[0;34m\u001b[0m\u001b[0m\n\u001b[0;32m----> 2\u001b[0;31m     \u001b[0;32mif\u001b[0m \u001b[0mx\u001b[0m\u001b[0;34m<\u001b[0m\u001b[0;36m0\u001b[0m\u001b[0;34m:\u001b[0m\u001b[0;34m\u001b[0m\u001b[0m\n\u001b[0m\u001b[1;32m      3\u001b[0m         \u001b[0;32mreturn\u001b[0m \u001b[0;36m0.\u001b[0m\u001b[0;34m\u001b[0m\u001b[0m\n\u001b[1;32m      4\u001b[0m     \u001b[0;32melse\u001b[0m\u001b[0;34m:\u001b[0m\u001b[0;34m\u001b[0m\u001b[0m\n\u001b[1;32m      5\u001b[0m         \u001b[0;32mreturn\u001b[0m \u001b[0;36m1.\u001b[0m\u001b[0;34m\u001b[0m\u001b[0m\n",
      "\u001b[0;31mValueError\u001b[0m: The truth value of an array with more than one element is ambiguous. Use a.any() or a.all()"
     ]
    }
   ],
   "source": [
    "def escalon(x):\n",
    "    if x<0:\n",
    "        return 0.\n",
    "    else:\n",
    "        return 1.\n",
    "escalon(np.linspace(-1,1,3))"
   ]
  },
  {
   "cell_type": "markdown",
   "metadata": {},
   "source": [
    "Puede usarse la función vectorize, que no es muy eficiente, para vectorizar la función"
   ]
  },
  {
   "cell_type": "code",
   "execution_count": 100,
   "metadata": {},
   "outputs": [
    {
     "name": "stdout",
     "output_type": "stream",
     "text": [
      "[ 0.  0.  0.  0.  0.  0.  0.  0.  0.  0.  0.  0.  0.  0.  0.  1.  1.  1.\n",
      "  1.  1.  1.  1.  1.  1.  1.  1.  1.  1.  1.  1.]\n",
      "33.9 µs ± 904 ns per loop (mean ± std. dev. of 7 runs, 10000 loops each)\n"
     ]
    }
   ],
   "source": [
    "escalonvec = np.vectorize(escalon)\n",
    "print(escalonvec(np.linspace(-1,1,30)))\n",
    "%timeit escalonvec(np.linspace(-1,1,30))"
   ]
  },
  {
   "cell_type": "markdown",
   "metadata": {},
   "source": [
    "Podemos reescribirlo usando funciones de numpy"
   ]
  },
  {
   "cell_type": "code",
   "execution_count": 101,
   "metadata": {},
   "outputs": [
    {
     "name": "stdout",
     "output_type": "stream",
     "text": [
      "[0 0 0 0 0 0 0 0 0 0 0 0 0 0 0 1 1 1 1 1 1 1 1 1 1 1 1 1 1 1]\n",
      "8.76 µs ± 58.8 ns per loop (mean ± std. dev. of 7 runs, 100000 loops each)\n"
     ]
    }
   ],
   "source": [
    "def escalon2(x):\n",
    "    return np.where(x<0,0,1)\n",
    "\n",
    "print(escalon2(np.linspace(-1,1,30)))\n",
    "%timeit escalon2(np.linspace(-1,1,30))"
   ]
  },
  {
   "cell_type": "markdown",
   "metadata": {},
   "source": [
    "## Resources"
   ]
  },
  {
   "cell_type": "markdown",
   "metadata": {},
   "source": [
    "* [NumPy Reference Documentation](http://docs.scipy.org/doc/numpy/reference/)\n",
    "* [Python Scientific Lecture Notes](http://scipy-lectures.github.io/index.html), Edited by Valentin Haenel,\n",
    "Emmanuelle Gouillart and Gaël Varoquaux.\n",
    "* [Lectures on Scientific Computing with Python](https://github.com/jrjohansson/scientific-python-lectures), J.R. Johansson.\n",
    "* [Introduction to Scientific Computing in Python](http://nbviewer.ipython.org/github/jakevdp/2014_fall_ASTR599/tree/master/), Jake Vanderplas."
   ]
  }
 ],
 "metadata": {
  "kernelspec": {
   "display_name": "Python [conda root]",
   "language": "python",
   "name": "conda-root-py"
  },
  "language_info": {
   "codemirror_mode": {
    "name": "ipython",
    "version": 3
   },
   "file_extension": ".py",
   "mimetype": "text/x-python",
   "name": "python",
   "nbconvert_exporter": "python",
   "pygments_lexer": "ipython3",
   "version": "3.5.2"
  }
 },
 "nbformat": 4,
 "nbformat_minor": 1
}
