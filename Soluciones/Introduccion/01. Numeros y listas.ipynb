{
 "cells": [
  {
   "cell_type": "markdown",
   "metadata": {},
   "source": [
    "# Soluciones"
   ]
  },
  {
   "cell_type": "markdown",
   "metadata": {},
   "source": [
    "### Problema 1\n",
    "\n",
    "Construir una lista que tenga `100` repeticiones de los números `-1`, `0` y `1`, en ese orden exacto."
   ]
  },
  {
   "cell_type": "code",
   "execution_count": 1,
   "metadata": {
    "collapsed": false
   },
   "outputs": [
    {
     "name": "stdout",
     "output_type": "stream",
     "text": [
      "[-1, 0, 1, -1, 0, 1, -1, 0, 1, -1, 0, 1, -1, 0, 1, -1, 0, 1, -1, 0, 1, -1, 0, 1, -1, 0, 1, -1, 0, 1, -1, 0, 1, -1, 0, 1, -1, 0, 1, -1, 0, 1, -1, 0, 1, -1, 0, 1, -1, 0, 1, -1, 0, 1, -1, 0, 1, -1, 0, 1, -1, 0, 1, -1, 0, 1, -1, 0, 1, -1, 0, 1, -1, 0, 1, -1, 0, 1, -1, 0, 1, -1, 0, 1, -1, 0, 1, -1, 0, 1, -1, 0, 1, -1, 0, 1, -1, 0, 1, -1, 0, 1, -1, 0, 1, -1, 0, 1, -1, 0, 1, -1, 0, 1, -1, 0, 1, -1, 0, 1, -1, 0, 1, -1, 0, 1, -1, 0, 1, -1, 0, 1, -1, 0, 1, -1, 0, 1, -1, 0, 1, -1, 0, 1, -1, 0, 1, -1, 0, 1, -1, 0, 1, -1, 0, 1, -1, 0, 1, -1, 0, 1, -1, 0, 1, -1, 0, 1, -1, 0, 1, -1, 0, 1, -1, 0, 1, -1, 0, 1, -1, 0, 1, -1, 0, 1, -1, 0, 1, -1, 0, 1, -1, 0, 1, -1, 0, 1, -1, 0, 1, -1, 0, 1, -1, 0, 1, -1, 0, 1, -1, 0, 1, -1, 0, 1, -1, 0, 1, -1, 0, 1, -1, 0, 1, -1, 0, 1, -1, 0, 1, -1, 0, 1, -1, 0, 1, -1, 0, 1, -1, 0, 1, -1, 0, 1, -1, 0, 1, -1, 0, 1, -1, 0, 1, -1, 0, 1, -1, 0, 1, -1, 0, 1, -1, 0, 1, -1, 0, 1, -1, 0, 1, -1, 0, 1, -1, 0, 1, -1, 0, 1, -1, 0, 1, -1, 0, 1, -1, 0, 1, -1, 0, 1, -1, 0, 1, -1, 0, 1]\n"
     ]
    }
   ],
   "source": [
    "l1 = [-1,0,1]*100\n",
    "\n",
    "print(l1)"
   ]
  },
  {
   "cell_type": "markdown",
   "metadata": {},
   "source": [
    "### Problema 2\n",
    "\n",
    "Construir una lista que tenga un `1` rodeado de dos listas, cada una con `20` ceros."
   ]
  },
  {
   "cell_type": "code",
   "execution_count": 2,
   "metadata": {
    "collapsed": false
   },
   "outputs": [
    {
     "name": "stdout",
     "output_type": "stream",
     "text": [
      "[0, 0, 0, 0, 0, 0, 0, 0, 0, 0, 0, 0, 0, 0, 0, 0, 0, 0, 0, 0, 1, 0, 0, 0, 0, 0, 0, 0, 0, 0, 0, 0, 0, 0, 0, 0, 0, 0, 0, 0, 0]\n"
     ]
    }
   ],
   "source": [
    "l2 = [0]*20 + [1] + [0]*20\n",
    "\n",
    "print(l2)"
   ]
  },
  {
   "cell_type": "markdown",
   "metadata": {},
   "source": [
    "### Problema 3\n",
    "\n",
    "Calcular el promedio de la siguiente lista:"
   ]
  },
  {
   "cell_type": "code",
   "execution_count": 3,
   "metadata": {
    "collapsed": true
   },
   "outputs": [],
   "source": [
    "li = [3, 18, 17, 44, 14, 12, 29, 19, 4, 6, 17, 7, 14, 6, 8, 17, 17, 21, 65,\\\n",
    "      19, 10, 31, 92, 17, 5, 15, 3, 14, 20, 12, 29, 57, 15, 2, 17, 1, 6, 17, 2,\\\n",
    "      71, 12, 11, 62, 14, 9, 20, 43, 19, 4, 15]"
   ]
  },
  {
   "cell_type": "markdown",
   "metadata": {},
   "source": [
    "*Respuesta*:\n",
    "\n",
    "    20.04\n",
    "\n",
    "**Nota**: Usar el comando `sum(li)` para obtener la suma de los elementos de la lista, y el comando `len(li)` para obtener cuantos elementos tiene."
   ]
  },
  {
   "cell_type": "code",
   "execution_count": 4,
   "metadata": {
    "collapsed": false
   },
   "outputs": [
    {
     "name": "stdout",
     "output_type": "stream",
     "text": [
      "20.04\n"
     ]
    }
   ],
   "source": [
    "p3 = sum(li)/len(li)\n",
    "\n",
    "print(p3)"
   ]
  },
  {
   "cell_type": "markdown",
   "metadata": {},
   "source": [
    "### Problema 4\n",
    "\n",
    "La media móvil es un concepto usado en economía para tratar de observar si existe una tendencia al alza o a la baja en los precios de las acciones de una empresa. Para ello, lo que hace es crear una serie de promedios de distintos subconjuntos del conjunto de datos original.\n",
    "\n",
    "Por ejemplo, si en siete días las acciones de una empresa tuvieron los siguientes precios:\n",
    "\n",
    "    Precios: 11, 12, 13, 14, 15, 16, 17\n",
    "\n",
    "Podemos calcular la media móvil, en periodos de cinco días, de la siguiente forma:\n",
    "\n",
    "    Primera media móvil de 5 días: (11 + 12 + 13 + 14 + 15) / 5 = 13\n",
    "\n",
    "    Segunda media móvil de 5 días: (12 + 13 + 14 + 15 + 16) / 5 = 14\n",
    "\n",
    "    Tercera media móvil de 5 días: (13 + 14 + 15 + 16 + 17) / 5 = 15\n",
    "\n",
    "Con esta descripción, encontrar de la cuarta, séptima y décima medias móviles, en periodos de 10 días, para los siguientes precios de las acciones de Intel registrados entre el 24 de Marzo y el 5 de Mayo de 2010:"
   ]
  },
  {
   "cell_type": "code",
   "execution_count": 5,
   "metadata": {
    "collapsed": true
   },
   "outputs": [],
   "source": [
    "intel = [22.27, 22.19, 22.08, 22.17, 22.18, 22.13, 22.23, 22.43, 22.24,\\\n",
    "         22.29, 22.15, 22.39, 22.38, 22.61, 23.36, 24.05, 23.75, 23.83, 23.95,\\\n",
    "         23.63, 23.82, 23.87, 23.65, 23.19, 23.10, 23.33, 22.68, 23.10, 22.40,\\\n",
    "         22.17]"
   ]
  },
  {
   "cell_type": "markdown",
   "metadata": {},
   "source": [
    "*Respuesta*:\n",
    "\n",
    "    22.259, 22.613, 23.076\n",
    "    \n",
    "**Nota**: Utilizar las operaciones de rebanado descritas arriba."
   ]
  },
  {
   "cell_type": "code",
   "execution_count": 7,
   "metadata": {
    "collapsed": false
   },
   "outputs": [
    {
     "name": "stdout",
     "output_type": "stream",
     "text": [
      "22.259000000000004 22.613000000000007 23.076\n"
     ]
    }
   ],
   "source": [
    "p41 = sum(intel[3:3+10])/10\n",
    "p42 = sum(intel[6:6+10])/10\n",
    "p43 = sum(intel[9:9+10])/10\n",
    "\n",
    "print(p41, p42, p43)"
   ]
  },
  {
   "cell_type": "markdown",
   "metadata": {},
   "source": [
    "### Problema 5\n",
    "\n",
    "Calcular la mediana de la lista del tercer ejercicio, i.e. de la lista `li`. Recordar que para calcular la mediana hay que organizar los datos de menor a mayor y después utilizar la fórmula:\n",
    "\n",
    "$\\tilde{x}=\n",
    " \\begin{cases}\n",
    " x_{\\frac{n+1}{2}}\\quad, & \\textrm{si n es impar}\\\\\n",
    " \\frac{1}{2}\\left(x_{\\frac{n}{2}}+x_{\\frac{n}{2}+1}\\right)\\quad, & \\textrm{si\n",
    " n es par}\n",
    " \\end{cases}\n",
    "$\n",
    "\n",
    "donde *n* es el número de elementos de la lista."
   ]
  },
  {
   "cell_type": "code",
   "execution_count": 8,
   "metadata": {
    "collapsed": false
   },
   "outputs": [
    {
     "name": "stdout",
     "output_type": "stream",
     "text": [
      "50\n"
     ]
    }
   ],
   "source": [
    "# Escribir la solución aquí\n",
    "li = [3, 18, 17, 44, 14, 12, 29, 19, 4, 6, 17, 7, 14, 6, 8, 17, 17, 21, 65,\\\n",
    "      19, 10, 31, 92, 17, 5, 15, 3, 14, 20, 12, 29, 57, 15, 2, 17, 1, 6, 17, 2,\\\n",
    "      71, 12, 11, 62, 14, 9, 20, 43, 19, 4, 15]\n",
    "\n",
    "li.sort()\n",
    "\n",
    "n = len(li)\n",
    "n2 = n//2\n",
    "\n",
    "print(n)"
   ]
  },
  {
   "cell_type": "code",
   "execution_count": 9,
   "metadata": {
    "collapsed": false
   },
   "outputs": [
    {
     "name": "stdout",
     "output_type": "stream",
     "text": [
      "15.0\n"
     ]
    }
   ],
   "source": [
    "p5 = 0.5*(li[n2-1]+li[n2])\n",
    "\n",
    "print(p5)"
   ]
  },
  {
   "cell_type": "markdown",
   "metadata": {},
   "source": [
    " *Respuesta*:\n",
    "\n",
    "      15.0\n",
    "     \n",
    "**Notas**:\n",
    "\n",
    "1. Usar el comando ``sorted(li)`` para organizar los elementos de la lista de menor a mayor.\n",
    "2. Utilizar división entera en operaciones como $\\frac{n}{2}$, al momento de tomar los elementos correspondientes de `li`."
   ]
  },
  {
   "cell_type": "code",
   "execution_count": null,
   "metadata": {
    "collapsed": true
   },
   "outputs": [],
   "source": []
  }
 ],
 "metadata": {
  "kernelspec": {
   "display_name": "Python [default]",
   "language": "python",
   "name": "python3"
  },
  "language_info": {
   "codemirror_mode": {
    "name": "ipython",
    "version": 3
   },
   "file_extension": ".py",
   "mimetype": "text/x-python",
   "name": "python",
   "nbconvert_exporter": "python",
   "pygments_lexer": "ipython3",
   "version": "3.5.2"
  }
 },
 "nbformat": 4,
 "nbformat_minor": 1
}
