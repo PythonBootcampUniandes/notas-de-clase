{
 "cells": [
  {
   "cell_type": "markdown",
   "metadata": {},
   "source": [
    "# Soluciones: Clases"
   ]
  },
  {
   "cell_type": "markdown",
   "metadata": {},
   "source": [
    "### Problema 1\n",
    "\n",
    "Definir una clase `Vector3D` para representar vectores en 3 dimensiones, con las siguientes características\n",
    "\n",
    "* Tres atributos: `x`, `y`, y `z`, usados para guardar sus coordenadas.\n",
    "\n",
    "* Un método llamado `punto` que calcule el producto punto entre dos vectores, mediante la fórmula:\n",
    "\n",
    "    $$\\vec{v} \\cdot \\vec{w} = v_{x}w_{x} + v_{y}w_{y} + v_{z}w_{z}$$\n",
    "\n",
    "    Por ejemplo, para los dos vectores definidos a continuación, su producto punto es:\n",
    "\n",
    "```python\n",
    "v = Vector3D(2, 0, 1)\n",
    "w = Vector3D(1, -1, 3)\n",
    "```\n",
    "    \n",
    "```python\n",
    "v.punto(w)\n",
    "5\n",
    "```\n",
    "\n",
    "* Un método llamado `cruz` que calcule el producto cruz entre dos vectores mediante la fórmula:\n",
    "\n",
    "    $$\n",
    "    \\vec{v} \\times \\vec{w} = \\left(v_{y}w_{z}-v_{z}w_{y}\\right)\\hat{i} -\n",
    "    \\left(v_{x}w_{z}-v_{z}w_{x}\\right)\\hat{j} + \\left(v_{x}w_{y}-\n",
    "    v_{y}w_{x}\\right)\\hat{k}\n",
    "    $$\n",
    "\n",
    "    Por ejemplo, para los vectores definidos arriba el producto $\\vec{v} \\times \\vec{w}$ es igual a:\n",
    "\n",
    "```python\n",
    "u1 = v.cruz(w)\n",
    "u1.x, u1.y, u1.z\n",
    "(1, -5, -2)\n",
    "```"
   ]
  },
  {
   "cell_type": "code",
   "execution_count": 20,
   "metadata": {
    "collapsed": true
   },
   "outputs": [],
   "source": [
    "class Vector3D(object):\n",
    "    def __init__(self, x, y, z):\n",
    "        self.x = x\n",
    "        self.y = y\n",
    "        self.z = z\n",
    "\n",
    "    def punto(self, otro_vector):\n",
    "        pp = self.x*otro_vector.x + self.y*otro_vector.y + self.z*otro_vector.z\n",
    "        \n",
    "        return pp\n",
    "    \n",
    "    def cruz(self, otro_vector):\n",
    "        pc_x = self.y*otro_vector.z - self.z*otro_vector.y\n",
    "        pc_y = -(self.x*otro_vector.z - self.z*otro_vector.x)\n",
    "        pc_z = self.x*otro_vector.y - self.y*otro_vector.x\n",
    "        \n",
    "        res = Vector3D(pc_x, pc_y, pc_z)\n",
    "        \n",
    "        return res"
   ]
  },
  {
   "cell_type": "code",
   "execution_count": 21,
   "metadata": {
    "collapsed": false
   },
   "outputs": [
    {
     "data": {
      "text/plain": [
       "5"
      ]
     },
     "execution_count": 21,
     "metadata": {},
     "output_type": "execute_result"
    }
   ],
   "source": [
    "v = Vector3D(2, 0, 1)\n",
    "w = Vector3D(1, -1, 3)\n",
    "\n",
    "v.punto(w)"
   ]
  },
  {
   "cell_type": "code",
   "execution_count": 22,
   "metadata": {
    "collapsed": false
   },
   "outputs": [
    {
     "name": "stdout",
     "output_type": "stream",
     "text": [
      "1 -5 -2\n"
     ]
    }
   ],
   "source": [
    "u1 = v.cruz(w)\n",
    "\n",
    "print(u1.x, u1.y, u1.z)"
   ]
  },
  {
   "cell_type": "markdown",
   "metadata": {},
   "source": [
    "### Problema 2\n",
    "\n",
    "Redefinir la clase anterior para que en lugar de los atributos, `x`, `y`, y `z`, tenga uno sólo llamado `coord`, que sea una lista de tres elementos. También redefinir los métodos según esto.\n",
    "\n",
    "**Nota**:\n",
    "\n",
    "En el método `__init__` revisar que la lista que se va a guardar en `coord` tenga **exactamente** tres elementos. Si tiene más o menos, asignarle a `coord` una lista vacía."
   ]
  },
  {
   "cell_type": "code",
   "execution_count": 29,
   "metadata": {
    "collapsed": true
   },
   "outputs": [],
   "source": [
    "class Vector3D(object):\n",
    "    def __init__(self, coord):\n",
    "        if (len(coord) != 3):\n",
    "            coord = []\n",
    "        self.coord = coord\n",
    "\n",
    "    def punto(self, otro_vector):\n",
    "        pp = 0\n",
    "        for i in range(3): \n",
    "            pp += self.coord[i]*otro_vector.coord[i]\n",
    "        \n",
    "        return pp\n",
    "    \n",
    "    def cruz(self, otro_vector):\n",
    "        x, y, z = self.coord[0], self.coord[1], self.coord[2]\n",
    "        otro_x, otro_y, otro_z = otro_vector.coord[0], otro_vector.coord[1], otro_vector.coord[2]\n",
    "        \n",
    "        pc_x = y*otro_z - z*otro_y\n",
    "        pc_y = -(x*otro_z - z*otro_x)\n",
    "        pc_z = x*otro_y - y*otro_x\n",
    "        \n",
    "        res = Vector3D([pc_x, pc_y, pc_z])\n",
    "        \n",
    "        return res"
   ]
  },
  {
   "cell_type": "code",
   "execution_count": 30,
   "metadata": {
    "collapsed": false
   },
   "outputs": [
    {
     "data": {
      "text/plain": [
       "5"
      ]
     },
     "execution_count": 30,
     "metadata": {},
     "output_type": "execute_result"
    }
   ],
   "source": [
    "v = Vector3D([2, 0, 1])\n",
    "w = Vector3D([1, -1, 3])\n",
    "\n",
    "v.punto(w)"
   ]
  },
  {
   "cell_type": "code",
   "execution_count": 31,
   "metadata": {
    "collapsed": false
   },
   "outputs": [
    {
     "name": "stdout",
     "output_type": "stream",
     "text": [
      "[1, -5, -2]\n"
     ]
    }
   ],
   "source": [
    "u1 = v.cruz(w)\n",
    "\n",
    "print(u1.coord)"
   ]
  },
  {
   "cell_type": "markdown",
   "metadata": {},
   "source": [
    "### Problema 3\n",
    "\n",
    "Definir una clase `Tiempo` para representar una hora del día, que tenga las siguientes condiciones (Tomado de *Aprenda a pensar como un programador con Python*):\n",
    "\n",
    "* Tres atributos: `h`, `m` y `s`, para guardar las horas, minutos y segundos.\n",
    "\n",
    "* Un método llamado `imprimir_tiempo` que imprima el tiempo almacenado en una instancia, de la siguiente forma:\n",
    "\n",
    "```python\n",
    "t1 = Tiempo(16, 7, 1)\n",
    "t1.imprimir_tiempo()\n",
    "'16:07:01'\n",
    "```\n",
    "\n",
    "```python\n",
    "t2 = Tiempo(2, 6, 32)\n",
    "t2.imprimir_tiempo()\n",
    "'02:06:32'\n",
    "```\n",
    "\n",
    "*  Un método `sumar` que sume dos tiempos diferentes.\n",
    "\n",
    "    **Nota**:\n",
    "    \n",
    "    - Sumar cada atributo por separado, es decir, segundo con segundos, minutos con minutos y horas con horas.\n",
    "\n",
    "    - Para obtener el resultado de los segundos y los minutos, la suma debe realizarse módulo 60. Por ejemplo, si un Tiempo tiene 50       segundos y otra 15, su suma **no** debe darnos 65 sino 5, lo que se obtiene como:\n",
    "\n",
    "            (50 + 15)%60 = 5\n",
    "         \n",
    "        Para las horas, tomar la suma módulo 24.\n",
    "\n",
    "    - Verificar si la suma de los segundos, **sin** tomar el módulo, es mayor o igual a `60`, y si lo es, incrementar en `1` el valor de los minutos. Tener en cuenta lo mismo para la suma de los minutos y el valor de las horas.\n",
    "    \n",
    "   Un ejemplo de éste método es:\n",
    "\n",
    "```python\n",
    "t1 = Tiempo(23, 50, 45)\n",
    "t2 = Tiempo(3, 40, 40)\n",
    "\n",
    "t3 = t1.sumar(t2)\n",
    "t3.imprimir_tiempo()\n",
    "'03:31:25'\n",
    "```"
   ]
  },
  {
   "cell_type": "code",
   "execution_count": 45,
   "metadata": {
    "collapsed": true
   },
   "outputs": [],
   "source": [
    "class Tiempo(object):\n",
    "    def __init__(self, h, m, s):\n",
    "        self.h = h\n",
    "        self.m = m\n",
    "        self.s = s\n",
    "\n",
    "    def imprimir_tiempo(self):\n",
    "        \n",
    "        def anteponer_cero(num):\n",
    "            s = str(num)\n",
    "            if len(s) == 1:\n",
    "                s = '0'+s\n",
    "            return s\n",
    "        \n",
    "        h_str = anteponer_cero(self.h)\n",
    "        m_str = anteponer_cero(self.m)\n",
    "        s_str = anteponer_cero(self.s)\n",
    "        \n",
    "        print(h_str + ':' + m_str + ':' + s_str)\n",
    "        \n",
    "    def sumar(self, t):\n",
    "        \n",
    "        s = self.s + t.s\n",
    "        s_efectivo = s%60\n",
    "        m_extra = s//60\n",
    "        \n",
    "        m = self.m + t.m + m_extra\n",
    "        m_efectivo = m%60\n",
    "        h_extra = m//60\n",
    "        \n",
    "        h = self.h + t.h + h_extra\n",
    "        h_efectivo = h%24\n",
    "        h_extra = h//60\n",
    "        \n",
    "        nuevo_t = Tiempo(h_efectivo, m_efectivo, s_efectivo)\n",
    "        \n",
    "        return nuevo_t"
   ]
  },
  {
   "cell_type": "code",
   "execution_count": 46,
   "metadata": {
    "collapsed": false
   },
   "outputs": [
    {
     "name": "stdout",
     "output_type": "stream",
     "text": [
      "16:07:01\n",
      "02:06:32\n"
     ]
    }
   ],
   "source": [
    "t1 = Tiempo(16, 7, 1)\n",
    "t1.imprimir_tiempo()\n",
    "\n",
    "t2 = Tiempo(2, 6, 32)\n",
    "t2.imprimir_tiempo()"
   ]
  },
  {
   "cell_type": "code",
   "execution_count": 47,
   "metadata": {
    "collapsed": false
   },
   "outputs": [
    {
     "name": "stdout",
     "output_type": "stream",
     "text": [
      "03:31:25\n"
     ]
    }
   ],
   "source": [
    "t1 = Tiempo(23, 50, 45)\n",
    "t2 = Tiempo(3, 40, 40)\n",
    "\n",
    "t3 = t1.sumar(t2)\n",
    "t3.imprimir_tiempo()"
   ]
  },
  {
   "cell_type": "code",
   "execution_count": null,
   "metadata": {
    "collapsed": true
   },
   "outputs": [],
   "source": []
  }
 ],
 "metadata": {
  "kernelspec": {
   "display_name": "Python [default]",
   "language": "python",
   "name": "python3"
  },
  "language_info": {
   "codemirror_mode": {
    "name": "ipython",
    "version": 3
   },
   "file_extension": ".py",
   "mimetype": "text/x-python",
   "name": "python",
   "nbconvert_exporter": "python",
   "pygments_lexer": "ipython3",
   "version": "3.5.2"
  }
 },
 "nbformat": 4,
 "nbformat_minor": 1
}
