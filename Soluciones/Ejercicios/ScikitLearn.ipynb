{
 "cells": [
  {
   "cell_type": "markdown",
   "metadata": {},
   "source": [
    "### Ejercicio\n",
    "\n",
    "A partir del mismo conjunto de datos y las funciones `explained_variance_score` y `LinearRegression` encuentre el mejor modelo de dos variables para predecir el precio de una casa en Boston. Para esto utilice como metrica la explained `variance`, teniendo en cuenta que es necesario hacer varias veces el corte training/test."
   ]
  },
  {
   "cell_type": "code",
   "execution_count": 1,
   "metadata": {
    "collapsed": true
   },
   "outputs": [],
   "source": [
    "%matplotlib inline\n",
    "import numpy as np\n",
    "import pandas as pd\n",
    "from sklearn import datasets\n",
    "import matplotlib.pyplot as plt\n",
    "from sklearn import linear_model\n",
    "from sklearn.model_selection import train_test_split\n",
    "from sklearn.metrics import explained_variance_score"
   ]
  },
  {
   "cell_type": "code",
   "execution_count": 2,
   "metadata": {
    "collapsed": false
   },
   "outputs": [],
   "source": [
    "boston = datasets.load_boston()"
   ]
  },
  {
   "cell_type": "code",
   "execution_count": 3,
   "metadata": {
    "collapsed": false
   },
   "outputs": [],
   "source": [
    "boston_df = pd.DataFrame(boston.data, columns=boston['feature_names'])\n",
    "boston_df = boston_df.assign(PRICE=boston.target)"
   ]
  },
  {
   "cell_type": "code",
   "execution_count": 4,
   "metadata": {
    "collapsed": true
   },
   "outputs": [],
   "source": [
    "def get_evs(data_set, target = 'PRICE'):\n",
    "    regresion = linear_model.LinearRegression()\n",
    "    \n",
    "    names = list(data_set.columns)\n",
    "    names.remove(target)\n",
    "    names2 = list(names)\n",
    "    \n",
    "    results = {}\n",
    "    \n",
    "    for name in names:\n",
    "        if names2:\n",
    "            names2.remove(name)\n",
    "        for name2 in names2:\n",
    "            X_train, X_test, Y_train, Y_test = train_test_split(data_set[[name, name2]], \n",
    "                                                        data_set[target], test_size=0.25)\n",
    "            regresion.fit(X_train,Y_train.values.reshape(-1,1)) \n",
    "            Y_predict = regresion.predict(X_test)\n",
    "            ev = explained_variance_score(Y_test, Y_predict)\n",
    "            results[\"%s %s\"%(name, name2)] = ev\n",
    "            \n",
    "    return results"
   ]
  },
  {
   "cell_type": "code",
   "execution_count": 5,
   "metadata": {
    "collapsed": false
   },
   "outputs": [],
   "source": [
    "hist = {}\n",
    "values = {}\n",
    "for i in range(100):\n",
    "    results = get_evs(boston_df)\n",
    "    result = sorted(results, key = results.get, reverse=True)[0]\n",
    "    value = results[result]\n",
    "    if result in hist:\n",
    "        hist[result] += 1\n",
    "        values[result].append(value)\n",
    "    else:\n",
    "        hist[result] = 1\n",
    "        values[result] = [value]\n",
    "        \n",
    "for key in values:\n",
    "    values[key] = sum(values[key])/len(values[key])"
   ]
  },
  {
   "cell_type": "code",
   "execution_count": 6,
   "metadata": {
    "collapsed": false
   },
   "outputs": [
    {
     "data": {
      "image/png": "[encoded data removed]",
      "text/plain": [
       "<matplotlib.figure.Figure at 0x7fac1c20a3c8>"
      ]
     },
     "metadata": {},
     "output_type": "display_data"
    }
   ],
   "source": [
    "N = len(hist)\n",
    "hist_values = list(hist.values())\n",
    "keys = list(hist.keys())\n",
    "\n",
    "fig = plt.figure(figsize=(12, 5))\n",
    "plt.bar(range(N), hist_values)\n",
    "plt.xticks(range(N), keys, rotation='vertical')\n",
    "\n",
    "for i in range(N):\n",
    "    plt.text(i-0.25, hist_values[i] + 4, \"%.3f\"%values[keys[i]], rotation = 'vertical')\n",
    "\n",
    "plt.ylim(0, max(hist_values) + 6)\n",
    "plt.show()"
   ]
  }
 ],
 "metadata": {
  "anaconda-cloud": {},
  "kernelspec": {
   "display_name": "Python [conda root]",
   "language": "python",
   "name": "conda-root-py"
  },
  "language_info": {
   "codemirror_mode": {
    "name": "ipython",
    "version": 3
   },
   "file_extension": ".py",
   "mimetype": "text/x-python",
   "name": "python",
   "nbconvert_exporter": "python",
   "pygments_lexer": "ipython3",
   "version": "3.4.4"
  }
 },
 "nbformat": 4,
 "nbformat_minor": 2
}
