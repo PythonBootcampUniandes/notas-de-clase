{
 "cells": [
  {
   "cell_type": "code",
   "execution_count": 1,
   "metadata": {
    "collapsed": true
   },
   "outputs": [],
   "source": [
    "%matplotlib inline\n",
    "import numpy as np\n",
    "import pandas as pd\n",
    "from sklearn import datasets\n",
    "import matplotlib.pyplot as plt\n",
    "from sklearn import linear_model\n",
    "from sklearn.model_selection import train_test_split\n",
    "from sklearn.metrics import explained_variance_score"
   ]
  },
  {
   "cell_type": "code",
   "execution_count": 2,
   "metadata": {
    "collapsed": false
   },
   "outputs": [],
   "source": [
    "boston = datasets.load_boston()"
   ]
  },
  {
   "cell_type": "code",
   "execution_count": 3,
   "metadata": {
    "collapsed": false
   },
   "outputs": [],
   "source": [
    "boston_df = pd.DataFrame(boston.data, columns=boston['feature_names'])\n",
    "boston_df = boston_df.assign(PRICE=boston.target)"
   ]
  },
  {
   "cell_type": "markdown",
   "metadata": {},
   "source": [
    "# ScikitLearn\n",
    "\n",
    "\n",
    "### Ejercicio 1\n",
    "\n",
    "Haga la regresion lineal de `PRICE` utilizando solamente la variable `RM`. Repita la grafica de `model vs. observation`"
   ]
  },
  {
   "cell_type": "code",
   "execution_count": 4,
   "metadata": {
    "collapsed": true
   },
   "outputs": [],
   "source": [
    "regresion = linear_model.LinearRegression()\n",
    "X_train, X_test, Y_train, Y_test = train_test_split(boston_df['RM'], boston_df['PRICE'], test_size=0.25)"
   ]
  },
  {
   "cell_type": "code",
   "execution_count": 5,
   "metadata": {
    "collapsed": false
   },
   "outputs": [
    {
     "data": {
      "text/plain": [
       "(array([-36.76563353]), array([[ 9.39208249]]))"
      ]
     },
     "execution_count": 5,
     "metadata": {},
     "output_type": "execute_result"
    }
   ],
   "source": [
    "regresion.fit(X_train.values.reshape(-1,1), Y_train.values.reshape(-1,1))\n",
    "regresion.intercept_, regresion.coef_"
   ]
  },
  {
   "cell_type": "code",
   "execution_count": 6,
   "metadata": {
    "collapsed": true
   },
   "outputs": [],
   "source": [
    "beta_0 = regresion.intercept_[0]\n",
    "beta_1 = regresion.coef_[0,0]\n",
    "Y_predict = beta_0 + beta_1 * X_test"
   ]
  },
  {
   "cell_type": "code",
   "execution_count": 7,
   "metadata": {
    "collapsed": false
   },
   "outputs": [
    {
     "data": {
      "text/plain": [
       "<matplotlib.legend.Legend at 0x7f4576fa2c18>"
      ]
     },
     "execution_count": 7,
     "metadata": {},
     "output_type": "execute_result"
    },
    {
     "data": {
      "image/png": "[encoded data removed]",
      "text/plain": [
       "<matplotlib.figure.Figure at 0x7f4579ccf320>"
      ]
     },
     "metadata": {},
     "output_type": "display_data"
    }
   ],
   "source": [
    "Y_predict = beta_0 + beta_1 * X_test\n",
    "plt.scatter(X_test, Y_predict, c='blue', label='model')\n",
    "plt.scatter(X_test, Y_test, c='red', label='observation')\n",
    "plt.xlabel('RM')\n",
    "plt.ylabel('PRICE')\n",
    "plt.legend()"
   ]
  },
  {
   "cell_type": "markdown",
   "metadata": {},
   "source": [
    "### Ejercicio 2\n",
    "Calcule ev para la regresion lineal hecha con la variable RM."
   ]
  },
  {
   "cell_type": "code",
   "execution_count": 8,
   "metadata": {
    "collapsed": false
   },
   "outputs": [
    {
     "data": {
      "text/plain": [
       "0.43171188873645239"
      ]
     },
     "execution_count": 8,
     "metadata": {},
     "output_type": "execute_result"
    }
   ],
   "source": [
    "explained_variance_score(Y_test, Y_predict)"
   ]
  },
  {
   "cell_type": "markdown",
   "metadata": {},
   "source": [
    "### Ejercicio 3\n",
    "\n",
    "Haga una regresion lineal de PRICE como funcion lineal variables ZN y CRIM.\n",
    "\n",
    "* Grafique PRICE vs CRIM y PRICE vs ZN\n",
    "* Calcule ev para este modelo.\n"
   ]
  },
  {
   "cell_type": "code",
   "execution_count": 9,
   "metadata": {
    "collapsed": false
   },
   "outputs": [],
   "source": [
    "def apply_regression(X, Y):\n",
    "    regresion = linear_model.LinearRegression()\n",
    "    X_train, X_test, Y_train, Y_test = train_test_split(X, Y, test_size=0.25)\n",
    "    \n",
    "    if X_train.ndim == 1:\n",
    "        X_train = X_train.values.reshape(-1,1)\n",
    "        X_test = X_test.values.reshape(-1,1)\n",
    "        \n",
    "    regresion.fit(X_train, Y_train.values.reshape(-1,1)) \n",
    "    Y_predict = regresion.predict(X_test)\n",
    "    return X_test, Y_test, Y_predict"
   ]
  },
  {
   "cell_type": "code",
   "execution_count": 10,
   "metadata": {
    "collapsed": false
   },
   "outputs": [
    {
     "data": {
      "image/png": "[encoded data removed]",
      "text/plain": [
       "<matplotlib.figure.Figure at 0x7f4576f74f28>"
      ]
     },
     "metadata": {},
     "output_type": "display_data"
    }
   ],
   "source": [
    "X_test, Y_test, Y_predict = apply_regression(boston_df[['ZN', 'CRIM']], boston_df['PRICE'])\n",
    "\n",
    "fig, (ax1, ax2) = plt.subplots(1, 2, sharey=True)\n",
    "ax1.scatter(boston_df['CRIM'], boston_df['PRICE'])\n",
    "ax2.scatter(boston_df['ZN'], boston_df['PRICE'])\n",
    "\n",
    "ax1.set_ylabel(\"PRICE\")\n",
    "ax1.set_xlabel(\"CRIM\")\n",
    "ax2.set_xlabel(\"ZN\")\n",
    "\n",
    "fig.subplots_adjust(wspace = 0)"
   ]
  },
  {
   "cell_type": "code",
   "execution_count": 11,
   "metadata": {
    "collapsed": false
   },
   "outputs": [
    {
     "data": {
      "text/plain": [
       "0.21153214655013852"
      ]
     },
     "execution_count": 11,
     "metadata": {},
     "output_type": "execute_result"
    }
   ],
   "source": [
    "explained_variance_score(Y_test, Y_predict)"
   ]
  },
  {
   "cell_type": "markdown",
   "metadata": {},
   "source": [
    "### Ejercicio 4\n",
    "\n",
    "Para decidir si el modelo de `PRICE` en funcion de `[ZN,CRIM]` es mejor que el modelo en funcion de `[LSTAT, NOX]` vamos a hacer un tornedo entre los dos modelos. Los torneos tienen 100 rondas de comparacion.\n",
    "\n",
    "Para una ronda, haga la regresion con `[ZN,CRIM]` y calcule `ev_1` para este modelo. Luego haga la regresion con `[LSTAT, NOX]` y calcule `ev_2` para este modelo. Si `ev_1` es mayor que `ev_2` el primer modelo gano esta primera ronda comparacion.\n",
    "\n",
    "Repita esta misma comparacion 100 veces (cada vez creando nuevos conjuntos de `test/training`) y cuente cuantas comparaciones gano cada uno de los modelos.\n",
    "\n",
    "Vamos a decir que el modelo que gano mayor cantidad de comparaciones es el mejor en predecir `PRICE`."
   ]
  },
  {
   "cell_type": "code",
   "execution_count": 12,
   "metadata": {
    "collapsed": true
   },
   "outputs": [],
   "source": [
    "def torneo_ronda(data_set, models, target = 'PRICE'):     \n",
    "    results = {}\n",
    "    \n",
    "    for model in models:\n",
    "        X_test, Y_test, Y_predict = apply_regression(data_set[model], data_set[target])\n",
    "        results[\" \".join(model)] = explained_variance_score(Y_test, Y_predict)\n",
    "            \n",
    "    return results"
   ]
  },
  {
   "cell_type": "code",
   "execution_count": 13,
   "metadata": {
    "collapsed": false
   },
   "outputs": [
    {
     "name": "stdout",
     "output_type": "stream",
     "text": [
      "0 100\n"
     ]
    }
   ],
   "source": [
    "modelos = [['ZN', 'CRIM'], ['LSTAT', 'NOX']]\n",
    "ev1 = 0\n",
    "ev2 = 0\n",
    "for i in range(100):\n",
    "    results = torneo_ronda(boston_df, modelos)\n",
    "    if results['ZN CRIM'] > results['LSTAT NOX']:\n",
    "        ev1 += 1\n",
    "    else:\n",
    "        ev2 += 1      \n",
    "print(ev1, ev2)"
   ]
  },
  {
   "cell_type": "markdown",
   "metadata": {},
   "source": [
    "### Ejercicio 5\n",
    "\n",
    "Con el mismo procedimiento anterior vamos a hacer un torneo de 100 rondas de comparacion para elegir el mejor de los modelos entre `[LSTAT, NOX]`, `[NOX, INDUS]` y `[AGE, RM]`. Esta vez en cada ronda gana el modelo con el maximo `ev`.\n",
    "\n",
    "Escriba los 3 modelos en orden decreciente del numero de rondas ganadas.\n",
    "\n",
    "Asi mismo para cada modelo, ademas del numero de competencias ganadas, escriba el promedio y desviacion estandar de `ev` calculado sobre los 100 valores todas las rondas.\n"
   ]
  },
  {
   "cell_type": "code",
   "execution_count": 14,
   "metadata": {
    "collapsed": true
   },
   "outputs": [],
   "source": [
    "def torneo(data_set, models, target = 'PRICE', rounds = 100):\n",
    "    hist = {}\n",
    "    values = {}\n",
    "    std = {}\n",
    "    for model in models:\n",
    "        hist[\" \".join(model)] = 0\n",
    "        values[\" \".join(model)] = [0]\n",
    "        std[\" \".join(model)] = [0]\n",
    "        \n",
    "    for i in range(rounds):\n",
    "        results = torneo_ronda(data_set, models, target)\n",
    "        result = sorted(results, key = results.get, reverse=True)[0]\n",
    "        value = results[result]\n",
    "        if result in hist:\n",
    "            hist[result] += 1\n",
    "            values[result].append(value)\n",
    "\n",
    "    for key in values:\n",
    "        std[key] = np.std(values[key])\n",
    "        values[key] = np.mean(values[key])\n",
    "        \n",
    "    return hist, values, std"
   ]
  },
  {
   "cell_type": "code",
   "execution_count": 15,
   "metadata": {
    "collapsed": false
   },
   "outputs": [
    {
     "name": "stdout",
     "output_type": "stream",
     "text": [
      "0. AGE RM: ganó 54 veces. Promedio = 0.585, std = 0.090\n",
      "1. LSTAT NOX: ganó 46 veces. Promedio = 0.536, std = 0.089\n",
      "2. NOX INDUS: ganó 0 veces. Promedio = 0.000, std = 0.000\n"
     ]
    }
   ],
   "source": [
    "modelos = [['LSTAT', 'NOX'], ['NOX', 'INDUS'], ['AGE', 'RM']]\n",
    "win, mean, std = torneo(boston_df, modelos)\n",
    "\n",
    "ordenados = sorted(win, key = win.get, reverse=True)\n",
    "for (i, key) in enumerate(ordenados):\n",
    "    print(\"%d. %s: ganó %d veces. Promedio = %.3f, std = %.3f\"%(i, key, win[key], mean[key], std[key]))"
   ]
  },
  {
   "cell_type": "markdown",
   "metadata": {},
   "source": [
    "### Ejercicio 6\n",
    "\n",
    "Cree una lista que contenga todas las combinaciones de pares de variables en el `dataset`. La lista no debe contener los duplicados del tipo `[LSTAT,NOX]` y `[NOX,LSTAT]`, en ese caso solamente uno de los dos pares debe estar en la lista.\n",
    "\n",
    "Hay 13 parametros, asi que la lista debe tener $(13\\times 12)/2=78$ items."
   ]
  },
  {
   "cell_type": "code",
   "execution_count": 16,
   "metadata": {
    "collapsed": false
   },
   "outputs": [
    {
     "data": {
      "text/plain": [
       "([['CRIM', 'ZN'],\n",
       "  ['CRIM', 'INDUS'],\n",
       "  ['CRIM', 'CHAS'],\n",
       "  ['CRIM', 'NOX'],\n",
       "  ['CRIM', 'RM'],\n",
       "  ['CRIM', 'AGE'],\n",
       "  ['CRIM', 'DIS'],\n",
       "  ['CRIM', 'RAD'],\n",
       "  ['CRIM', 'TAX'],\n",
       "  ['CRIM', 'PTRATIO'],\n",
       "  ['CRIM', 'B'],\n",
       "  ['CRIM', 'LSTAT'],\n",
       "  ['ZN', 'INDUS'],\n",
       "  ['ZN', 'CHAS'],\n",
       "  ['ZN', 'NOX'],\n",
       "  ['ZN', 'RM'],\n",
       "  ['ZN', 'AGE'],\n",
       "  ['ZN', 'DIS'],\n",
       "  ['ZN', 'RAD'],\n",
       "  ['ZN', 'TAX'],\n",
       "  ['ZN', 'PTRATIO'],\n",
       "  ['ZN', 'B'],\n",
       "  ['ZN', 'LSTAT'],\n",
       "  ['INDUS', 'CHAS'],\n",
       "  ['INDUS', 'NOX'],\n",
       "  ['INDUS', 'RM'],\n",
       "  ['INDUS', 'AGE'],\n",
       "  ['INDUS', 'DIS'],\n",
       "  ['INDUS', 'RAD'],\n",
       "  ['INDUS', 'TAX'],\n",
       "  ['INDUS', 'PTRATIO'],\n",
       "  ['INDUS', 'B'],\n",
       "  ['INDUS', 'LSTAT'],\n",
       "  ['CHAS', 'NOX'],\n",
       "  ['CHAS', 'RM'],\n",
       "  ['CHAS', 'AGE'],\n",
       "  ['CHAS', 'DIS'],\n",
       "  ['CHAS', 'RAD'],\n",
       "  ['CHAS', 'TAX'],\n",
       "  ['CHAS', 'PTRATIO'],\n",
       "  ['CHAS', 'B'],\n",
       "  ['CHAS', 'LSTAT'],\n",
       "  ['NOX', 'RM'],\n",
       "  ['NOX', 'AGE'],\n",
       "  ['NOX', 'DIS'],\n",
       "  ['NOX', 'RAD'],\n",
       "  ['NOX', 'TAX'],\n",
       "  ['NOX', 'PTRATIO'],\n",
       "  ['NOX', 'B'],\n",
       "  ['NOX', 'LSTAT'],\n",
       "  ['RM', 'AGE'],\n",
       "  ['RM', 'DIS'],\n",
       "  ['RM', 'RAD'],\n",
       "  ['RM', 'TAX'],\n",
       "  ['RM', 'PTRATIO'],\n",
       "  ['RM', 'B'],\n",
       "  ['RM', 'LSTAT'],\n",
       "  ['AGE', 'DIS'],\n",
       "  ['AGE', 'RAD'],\n",
       "  ['AGE', 'TAX'],\n",
       "  ['AGE', 'PTRATIO'],\n",
       "  ['AGE', 'B'],\n",
       "  ['AGE', 'LSTAT'],\n",
       "  ['DIS', 'RAD'],\n",
       "  ['DIS', 'TAX'],\n",
       "  ['DIS', 'PTRATIO'],\n",
       "  ['DIS', 'B'],\n",
       "  ['DIS', 'LSTAT'],\n",
       "  ['RAD', 'TAX'],\n",
       "  ['RAD', 'PTRATIO'],\n",
       "  ['RAD', 'B'],\n",
       "  ['RAD', 'LSTAT'],\n",
       "  ['TAX', 'PTRATIO'],\n",
       "  ['TAX', 'B'],\n",
       "  ['TAX', 'LSTAT'],\n",
       "  ['PTRATIO', 'B'],\n",
       "  ['PTRATIO', 'LSTAT'],\n",
       "  ['B', 'LSTAT']],\n",
       " 78)"
      ]
     },
     "execution_count": 16,
     "metadata": {},
     "output_type": "execute_result"
    }
   ],
   "source": [
    "iterador1 = list(boston_df.columns)\n",
    "iterador1.remove('PRICE')\n",
    "iterador2 = list(iterador1)\n",
    "\n",
    "permutaciones = []\n",
    "for name1 in iterador1:\n",
    "    if iterador2:\n",
    "        iterador2.remove(name1)\n",
    "    for name2 in iterador2:\n",
    "        permutaciones.append([name1, name2])\n",
    "        \n",
    "permutaciones, len(permutaciones)"
   ]
  },
  {
   "cell_type": "markdown",
   "metadata": {},
   "source": [
    "### Ejercicio 7\n",
    "\n",
    "Ahora el torneo tiene los 78 competidores de la lista anterior. Haga 500 rondas de comparacion y calcule el numero de veces que cada modelo gana. Finalmente, escriba los modelos en orden decreciente de numero de rondas ganadas junto a su valor promedio de ev sobre las 500 rondas.\n",
    "\n",
    "Finalmente, cual es el par de variables que mejor describe los datos?"
   ]
  },
  {
   "cell_type": "code",
   "execution_count": 17,
   "metadata": {
    "collapsed": true
   },
   "outputs": [],
   "source": [
    "win, mean, std = torneo(boston_df, permutaciones, rounds=500)"
   ]
  },
  {
   "cell_type": "code",
   "execution_count": 18,
   "metadata": {
    "collapsed": false
   },
   "outputs": [
    {
     "data": {
      "image/png": "[encoded data removed]",
      "text/plain": [
       "<matplotlib.figure.Figure at 0x7f4576dcab38>"
      ]
     },
     "metadata": {},
     "output_type": "display_data"
    }
   ],
   "source": [
    "N = len(win)\n",
    "hist_values = list(win.values())\n",
    "keys = list(win.keys())\n",
    "\n",
    "fig = plt.figure(figsize=(12, 5))\n",
    "plt.bar(range(N), hist_values)\n",
    "plt.xticks(range(N), keys, rotation='vertical', fontsize=5)\n",
    "\n",
    "for i in range(N):\n",
    "    if mean[keys[i]] > 0:\n",
    "        plt.text(i-0.25, hist_values[i] + 15, \"%.3f\"%mean[keys[i]], rotation = 'vertical', fontsize=8)\n",
    "\n",
    "plt.ylim(0, max(hist_values) + 15)\n",
    "plt.show()"
   ]
  }
 ],
 "metadata": {
  "anaconda-cloud": {},
  "kernelspec": {
   "display_name": "Python [conda root]",
   "language": "python",
   "name": "conda-root-py"
  },
  "language_info": {
   "codemirror_mode": {
    "name": "ipython",
    "version": 3
   },
   "file_extension": ".py",
   "mimetype": "text/x-python",
   "name": "python",
   "nbconvert_exporter": "python",
   "pygments_lexer": "ipython3",
   "version": "3.4.4"
  }
 },
 "nbformat": 4,
 "nbformat_minor": 2
}
