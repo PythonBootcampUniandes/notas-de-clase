{
 "cells": [
  {
   "cell_type": "markdown",
   "metadata": {},
   "source": [
    "# Soluciones: Cadenas"
   ]
  },
  {
   "cell_type": "markdown",
   "metadata": {},
   "source": [
    "### Problema 1\n",
    "\n",
    "Tomar la variable `dulce`, hacer que se repita 50 veces, y separar las palabras con un espacio, de tal forma que obtengamos algo como lo siguiente, pero **sin** generar un espacio al final.\n",
    "\n",
    "        'bocadillo bocadillo ...'"
   ]
  },
  {
   "cell_type": "code",
   "execution_count": 3,
   "metadata": {
    "collapsed": false
   },
   "outputs": [
    {
     "name": "stdout",
     "output_type": "stream",
     "text": [
      "bocadillo bocadillo bocadillo bocadillo bocadillo bocadillo bocadillo bocadillo bocadillo bocadillo bocadillo bocadillo bocadillo bocadillo bocadillo bocadillo bocadillo bocadillo bocadillo bocadillo bocadillo bocadillo bocadillo bocadillo bocadillo bocadillo bocadillo bocadillo bocadillo bocadillo bocadillo bocadillo bocadillo bocadillo bocadillo bocadillo bocadillo bocadillo bocadillo bocadillo bocadillo bocadillo bocadillo bocadillo bocadillo bocadillo bocadillo bocadillo bocadillo bocadillo\n"
     ]
    }
   ],
   "source": [
    "dulce = 'bocadillo'\n",
    "espacio = ' '\n",
    "\n",
    "p1 = (dulce + espacio)*49 + dulce\n",
    "\n",
    "print(p1)"
   ]
  },
  {
   "cell_type": "markdown",
   "metadata": {},
   "source": [
    "### Problema 2\n",
    "\n",
    "¿Cuántas veces se repite la palabra `banano` en la siguiente cadena?:"
   ]
  },
  {
   "cell_type": "code",
   "execution_count": 12,
   "metadata": {
    "collapsed": false
   },
   "outputs": [
    {
     "name": "stdout",
     "output_type": "stream",
     "text": [
      "150\n"
     ]
    }
   ],
   "source": [
    "muchas_frutas = 'banAnobanAnobananobanaNobananobananobanaNobaNanobanano\\\n",
    "bananobananobaNanobananobananobaNanobAnanobananobananobanaNobananobanAno\\\n",
    "bananobananobanaNobananobananobananobananobananobananobananobananobAnAno\\\n",
    "bAnanobananobananobananobananobananobanANobananobananobanaNobananobanano\\\n",
    "bananobanaNobAnAnobananobananobananobananobananobAnAnobananobananobanano\\\n",
    "baNanobananobananobaNaNobananobANanobananobananobananobAnanobananobanano\\\n",
    "bananobananobAnanobananobaNAnobananobananobananobaNanobanaNobANanobanano\\\n",
    "baNanobananobananobAnanobananobananobananobaNAnobananobanANobananobAnano\\\n",
    "bANanobanAnobananobaNanobananobananobananobananobananobananobAnanobanano\\\n",
    "bananobanAnobananobananobanAnobananobananobananobanAnobananobananobaNano\\\n",
    "bAnanobananobAnanobaNanobananobanaNobananobananobanANobananobananobANAno\\\n",
    "bananobananobaNAnobanaNobAnanobanAnobananobananobanAnobaNanobananobanaNo\\\n",
    "banaNobANAnobananobananobanAnobananobananobanANobananobanAnobananobanano\\\n",
    "banaNobananobAnanobananobAnanobananobanANobananobananobanAnobanaNobanano\\\n",
    "bananobAnanobananobaNanobananobanANobananobananobananobaNAnobananobanAno\\\n",
    "bananobananobananobaNanobananobananobanAnobananobananobANanobananobanano\\\n",
    "bananobananobaNanobananobananobananobAnanobananobananobananobananobanano\\\n",
    "bananobanANobananobanaNobAnanobananobaNanobaNAnobananobananobananobanano\\\n",
    "bananobananobananobananobananobAnanobanaNobananobananobaNAnobananobanANo\\\n",
    "bananobanaNobananobananobananobananobananobaNanobananobanaNobanAnobanAno\\\n",
    "bananobanAno'"
   ]
  },
  {
   "cell_type": "markdown",
   "metadata": {},
   "source": [
    "*Respuesta*:\n",
    "\n",
    "    150"
   ]
  },
  {
   "cell_type": "code",
   "execution_count": 13,
   "metadata": {
    "collapsed": false
   },
   "outputs": [
    {
     "name": "stdout",
     "output_type": "stream",
     "text": [
      "150\n"
     ]
    }
   ],
   "source": [
    "print(muchas_frutas.count('banano'))"
   ]
  },
  {
   "cell_type": "markdown",
   "metadata": {},
   "source": [
    "### Problema 3\n",
    "\n",
    "Cuántas veces se repite `banano` en la cadena anterior, sin importar si algunas de sus letras están en mayúsculas o no?\n",
    "\n",
    "*Respuesta*:\n",
    "\n",
    "    239"
   ]
  },
  {
   "cell_type": "code",
   "execution_count": 14,
   "metadata": {
    "collapsed": false
   },
   "outputs": [
    {
     "name": "stdout",
     "output_type": "stream",
     "text": [
      "239\n"
     ]
    }
   ],
   "source": [
    "print(muchas_frutas.lower().count('banano'))"
   ]
  },
  {
   "cell_type": "markdown",
   "metadata": {},
   "source": [
    "### Problema 4\n",
    "\n",
    "¿Qué produce el método `center`?\n",
    "\n",
    "Experimentar con los siguientes comandos para ver que produce:"
   ]
  },
  {
   "cell_type": "code",
   "execution_count": 15,
   "metadata": {
    "collapsed": false
   },
   "outputs": [
    {
     "data": {
      "text/plain": [
       "'bocadillo'"
      ]
     },
     "execution_count": 15,
     "metadata": {},
     "output_type": "execute_result"
    }
   ],
   "source": [
    "dulce.center(2)"
   ]
  },
  {
   "cell_type": "code",
   "execution_count": 16,
   "metadata": {
    "collapsed": false
   },
   "outputs": [
    {
     "data": {
      "text/plain": [
       "'bocadillo '"
      ]
     },
     "execution_count": 16,
     "metadata": {},
     "output_type": "execute_result"
    }
   ],
   "source": [
    "dulce.center(10)"
   ]
  },
  {
   "cell_type": "code",
   "execution_count": 17,
   "metadata": {
    "collapsed": false
   },
   "outputs": [
    {
     "data": {
      "text/plain": [
       "'   bocadillo    '"
      ]
     },
     "execution_count": 17,
     "metadata": {},
     "output_type": "execute_result"
    }
   ],
   "source": [
    "dulce.center(16)"
   ]
  },
  {
   "cell_type": "code",
   "execution_count": 18,
   "metadata": {
    "collapsed": false
   },
   "outputs": [
    {
     "data": {
      "text/plain": [
       "'          bocadillo           '"
      ]
     },
     "execution_count": 18,
     "metadata": {},
     "output_type": "execute_result"
    }
   ],
   "source": [
    "dulce.center(30)"
   ]
  },
  {
   "cell_type": "markdown",
   "metadata": {},
   "source": [
    "# Soluciones: Tuplas"
   ]
  },
  {
   "cell_type": "markdown",
   "metadata": {},
   "source": [
    "### Problema 1\n",
    "\n",
    "¿Es posible calcular el promedio a la lista de la siguiente tupla?"
   ]
  },
  {
   "cell_type": "code",
   "execution_count": 26,
   "metadata": {
    "collapsed": true
   },
   "outputs": [],
   "source": [
    "li = (3, 18, 17, 44, 14, 12, 29, 19, 4, 6, 17, 7, 14, 6, 8, 17, 17, 21, 65,\\\n",
    "      19, 10, 31, 92, 17, 5, 15, 3, 14, 20, 12, 29, 57, 15, 2, 17, 1, 6, 17, 2,\\\n",
    "      71, 12, 11, 62, 14, 9, 20, 43, 19, 4, 15)"
   ]
  },
  {
   "cell_type": "code",
   "execution_count": 27,
   "metadata": {
    "collapsed": false
   },
   "outputs": [
    {
     "name": "stdout",
     "output_type": "stream",
     "text": [
      "20.04\n"
     ]
    }
   ],
   "source": [
    "prom = sum(li)/len(li)\n",
    "\n",
    "print(prom)"
   ]
  },
  {
   "cell_type": "markdown",
   "metadata": {},
   "source": [
    "### Problema 2\n",
    "\n",
    "Crear una tupla que tenga un sólo elemento"
   ]
  },
  {
   "cell_type": "code",
   "execution_count": 29,
   "metadata": {
    "collapsed": false
   },
   "outputs": [
    {
     "name": "stdout",
     "output_type": "stream",
     "text": [
      "12\n"
     ]
    }
   ],
   "source": [
    "tp2 = (12)\n",
    "\n",
    "print(tp2)"
   ]
  },
  {
   "cell_type": "markdown",
   "metadata": {},
   "source": [
    "### Problema 3\n",
    "\n",
    "¿Qué efecto tiene esta operación"
   ]
  },
  {
   "cell_type": "code",
   "execution_count": 31,
   "metadata": {
    "collapsed": false
   },
   "outputs": [],
   "source": [
    "tp1 = 'a', 'b', 2\n",
    "\n",
    "x, y, z = tp1"
   ]
  },
  {
   "cell_type": "markdown",
   "metadata": {},
   "source": [
    "dado el valor de `tp1` definido arriba?"
   ]
  },
  {
   "cell_type": "code",
   "execution_count": 32,
   "metadata": {
    "collapsed": false
   },
   "outputs": [
    {
     "name": "stdout",
     "output_type": "stream",
     "text": [
      "a\n",
      "b\n",
      "2\n"
     ]
    }
   ],
   "source": [
    "print(x)\n",
    "print(y)\n",
    "print(z)"
   ]
  },
  {
   "cell_type": "markdown",
   "metadata": {},
   "source": [
    "Teniendo en cuenta esto, explicar qué ocurre al realizar esta operación entre los elementos de una lista"
   ]
  },
  {
   "cell_type": "code",
   "execution_count": 34,
   "metadata": {
    "collapsed": true
   },
   "outputs": [],
   "source": [
    "l = [-1, 6, 7, 9]\n",
    "l[0], l[2] = l[2], l[0]"
   ]
  },
  {
   "cell_type": "code",
   "execution_count": 35,
   "metadata": {
    "collapsed": false
   },
   "outputs": [
    {
     "name": "stdout",
     "output_type": "stream",
     "text": [
      "[7, 6, -1, 9]\n"
     ]
    }
   ],
   "source": [
    "print(l)"
   ]
  },
  {
   "cell_type": "markdown",
   "metadata": {},
   "source": [
    "### Problema 4\n",
    "\n",
    "¿Por qué, en cambio, esta operación falla?"
   ]
  },
  {
   "cell_type": "code",
   "execution_count": 38,
   "metadata": {
    "collapsed": false
   },
   "outputs": [
    {
     "name": "stdout",
     "output_type": "stream",
     "text": [
      "3\n"
     ]
    },
    {
     "ename": "ValueError",
     "evalue": "too many values to unpack (expected 2)",
     "output_type": "error",
     "traceback": [
      "\u001b[0;31m---------------------------------------------------------------------------\u001b[0m",
      "\u001b[0;31mValueError\u001b[0m                                Traceback (most recent call last)",
      "\u001b[0;32m<ipython-input-38-f4989caa5ad1>\u001b[0m in \u001b[0;36m<module>\u001b[0;34m()\u001b[0m\n\u001b[1;32m      1\u001b[0m \u001b[0mprint\u001b[0m\u001b[0;34m(\u001b[0m\u001b[0mlen\u001b[0m\u001b[0;34m(\u001b[0m\u001b[0mtp1\u001b[0m\u001b[0;34m)\u001b[0m\u001b[0;34m)\u001b[0m\u001b[0;34m\u001b[0m\u001b[0m\n\u001b[1;32m      2\u001b[0m \u001b[0;34m\u001b[0m\u001b[0m\n\u001b[0;32m----> 3\u001b[0;31m \u001b[0mu\u001b[0m\u001b[0;34m,\u001b[0m \u001b[0mv\u001b[0m \u001b[0;34m=\u001b[0m \u001b[0mtp1\u001b[0m\u001b[0;34m\u001b[0m\u001b[0m\n\u001b[0m",
      "\u001b[0;31mValueError\u001b[0m: too many values to unpack (expected 2)"
     ]
    }
   ],
   "source": [
    "print(len(tp1))\n",
    "\n",
    "u, v = tp1"
   ]
  },
  {
   "cell_type": "markdown",
   "metadata": {},
   "source": [
    "### Problema 5\n",
    "\n",
    "¿Cómo se calcula el máximo de una tupla?"
   ]
  },
  {
   "cell_type": "code",
   "execution_count": 39,
   "metadata": {
    "collapsed": false
   },
   "outputs": [
    {
     "name": "stdout",
     "output_type": "stream",
     "text": [
      "92\n"
     ]
    }
   ],
   "source": [
    "li = (3, 18, 17, 44, 14, 12, 29, 19, 4, 6, 17, 7, 14, 6, 8, 17, 17, 21, 65,\\\n",
    "      19, 10, 31, 92, 17, 5, 15, 3, 14, 20, 12, 29, 57, 15, 2, 17, 1, 6, 17, 2,\\\n",
    "      71, 12, 11, 62, 14, 9, 20, 43, 19, 4, 15)\n",
    "\n",
    "print(max(li))"
   ]
  },
  {
   "cell_type": "markdown",
   "metadata": {},
   "source": [
    "# Soluciones: Diccionarios"
   ]
  },
  {
   "cell_type": "markdown",
   "metadata": {},
   "source": [
    "### Problema 1\n",
    "\n",
    "Definir un diccionario que represente una función que sólo puede tomar los valores del producto cartesiano de los conjuntos $\\{0\\}$ con\n",
    "$\\{1\\}$ (i.e. $\\{0, 0\\}$, $\\{0, 1\\}$, etc), y que retorna el segundo valor de cada tupla."
   ]
  },
  {
   "cell_type": "code",
   "execution_count": 42,
   "metadata": {
    "collapsed": false
   },
   "outputs": [
    {
     "name": "stdout",
     "output_type": "stream",
     "text": [
      "0\n"
     ]
    }
   ],
   "source": [
    "producto_cartesiano = {'0,0': 0, '0,1': 1, '1,0': 0, '1,1': 1}\n",
    "\n",
    "print(producto_cartesiano['0,0'])"
   ]
  },
  {
   "cell_type": "markdown",
   "metadata": {},
   "source": [
    "### Problema 2\n",
    "\n",
    "Una forma eficiente de definir y evaluar polinomios, es a través de un diccionario. En éste las claves corresponden a las potencias del polinomio y sus valores al coeficiente de la potencia correspondiente.\n",
    "\n",
    "Por ejemplo, el polinomio $5x^{2} - x + 3$ corresponde al diccionario:\n",
    "    \n",
    "```python\n",
    "{0: 3, 1: -1, 2: 5}\n",
    "```\n",
    "    \n",
    "Definir un diccionario para el polinomio $4x^{7} - 2x^{3} + 3x$ y obtener cuál es su valor cuando $x = 2$, usando el diccionario (Tomado de *A Primer on Scientific Programming with Python*, de Hans Petter Langtangen)\n",
    "\n",
    "*Respuesta*\n",
    "    \n",
    "    502"
   ]
  },
  {
   "cell_type": "code",
   "execution_count": 45,
   "metadata": {
    "collapsed": false
   },
   "outputs": [
    {
     "name": "stdout",
     "output_type": "stream",
     "text": [
      "dict_keys([1, 3, 7])\n"
     ]
    }
   ],
   "source": [
    "polinomio = {1: 3, 3: -2, 7: 4}\n",
    "\n",
    "print(polinomio.keys())"
   ]
  },
  {
   "cell_type": "code",
   "execution_count": 48,
   "metadata": {
    "collapsed": false
   },
   "outputs": [
    {
     "name": "stdout",
     "output_type": "stream",
     "text": [
      "502\n"
     ]
    }
   ],
   "source": [
    "x = 2\n",
    "polinomio_evaluado = polinomio[1]*(x**1) + polinomio[3]*(x**3) + polinomio[7]*(x**7)\n",
    "\n",
    "print(polinomio_evaluado)"
   ]
  }
 ],
 "metadata": {
  "kernelspec": {
   "display_name": "Python [default]",
   "language": "python",
   "name": "python3"
  },
  "language_info": {
   "codemirror_mode": {
    "name": "ipython",
    "version": 3
   },
   "file_extension": ".py",
   "mimetype": "text/x-python",
   "name": "python",
   "nbconvert_exporter": "python",
   "pygments_lexer": "ipython3",
   "version": "3.5.2"
  }
 },
 "nbformat": 4,
 "nbformat_minor": 1
}
