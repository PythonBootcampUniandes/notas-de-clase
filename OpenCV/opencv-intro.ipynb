{
 "cells": [
  {
   "cell_type": "markdown",
   "metadata": {},
   "source": [
    "## OpenCV"
   ]
  },
  {
   "cell_type": "markdown",
   "metadata": {},
   "source": []
  },
  {
   "cell_type": "markdown",
   "metadata": {},
   "source": [
    "Antes de iniciar con este tutorial, es necesario instalar las dependencias requeridas para la ejecución del mismo, en este caso, se requiere ``opencv`` y ``pygame``, como se muestra a continuación:\n",
    "\n",
    "### OpenCV:\n",
    "```bash\n",
    "conda install opencv3 -c menpo\n",
    "```\n",
    " ### Pygame:\n",
    "```bash\n",
    "pip install -U pygame\n",
    "```\n",
    " "
   ]
  }
 ],
 "metadata": {
  "kernelspec": {
   "display_name": "Python 3",
   "language": "python",
   "name": "python3"
  },
  "language_info": {
   "codemirror_mode": {
    "name": "ipython",
    "version": 3
   },
   "file_extension": ".py",
   "mimetype": "text/x-python",
   "name": "python",
   "nbconvert_exporter": "python",
   "pygments_lexer": "ipython3",
   "version": "3.6.0"
  }
 },
 "nbformat": 4,
 "nbformat_minor": 2
}
