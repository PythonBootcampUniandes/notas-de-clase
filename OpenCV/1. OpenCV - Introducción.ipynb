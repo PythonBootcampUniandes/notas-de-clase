{
 "cells": [
  {
   "cell_type": "markdown",
   "metadata": {},
   "source": [
    "# OpenCV"
   ]
  },
  {
   "cell_type": "markdown",
   "metadata": {},
   "source": [
    "\n",
    "<img src=\"https://upload.wikimedia.org/wikipedia/commons/3/32/OpenCV_Logo_with_text_svg_version.svg\" alt=\"Drawing\" style=\"width: 200px;\"/>\n",
    "\n",
    "## Acerca de\n",
    "\n",
    "OpenCV (Open Source Computer Vision) es una librería Open Source de Visión Artificial. Ésta fue concebida para otorgar una plataforma común entre las aplicaciones de Visión y para acelerar su despliegue y ejecución final en apliaciones comerciales, debido a la licencia BSD, la cual resulta flexible para iniciativas privadas.\n",
    "\n",
    "En la actualidad, la librería cuenta con más de 2500 algoritmos implementados de forma óptima y eficiente, los cuales emplean técnicas y aproximaciones clásicas, así como rutinas del estado del arte basadas en Machine Learning. El conjunto de algoritmos presentes en OpenCV permiten resolver diversas tareas, tales como: \n",
    "* Detección y reconocimiento facial\n",
    "* Detección de objetos\n",
    "* Clasificación de acciones e identificación de patrones\n",
    "* Seguimiento de objetos en movimiento\n",
    "* Reconstrucción 3D de objetos\n",
    "* Estimación de pose\n",
    "* Realidad aumentada\n",
    "* Entre otros\n",
    "\n",
    "Esta librería, se encuentra desarrollada principalmente en C/C++, sin embargo cuenta con extensiones para ser empleada en diversos lenguajes de programación, tal como Python, MATLAB y Java. Además es posible emplearla en los principales sistemas operativos: Windows, Linux, OSX y Android.\n",
    "\n",
    "A pesar de que la velocidad del código escrito en Python es mucho menor a la velocidad de las rutinas implementadas en C/C++ las extensiones de OpenCV para Python se encuentran escritas de forma nativa, lo cual certifica que cada uno de los algoritmos se ejecutan con la mayor velocidad, con la facilidad de escritura de Python."
   ]
  },
  {
   "cell_type": "markdown",
   "metadata": {},
   "source": [
    "## Contenido"
   ]
  },
  {
   "cell_type": "markdown",
   "metadata": {},
   "source": [
    "El siguiente tutorial pretende introducir a las funcionalidades principales de OpenCV, a partir de la comprensión de cuatro familias de funciones principales presentes en la librería, de acuerdo a la tarea de Visión Artificial a resolver. Actualmente, la familia de funciones de interés se encuentran relacionadas con:\n",
    "* Entrada y salida de imágenes\n",
    "    * Representación\n",
    "    * Espacios de color\n",
    "    * Operaciones sobre imágenes\n",
    "* Procesamiento de imágenes\n",
    "    * Detección de contornos\n",
    "    * Umbralización y detección de bordes\n",
    "* Reconstrucción y detección\n",
    "    * Detección facial\n",
    "    * Proyección de puntos 3D en una imagen"
   ]
  },
  {
   "cell_type": "markdown",
   "metadata": {},
   "source": [
    "Antes de iniciar con este tutorial, es necesario instalar las dependencias requeridas para la ejecución del mismo, en este caso, se requiere ``opencv`` y ``pygame``, como se muestra a continuación:\n",
    "\n",
    "### OpenCV:\n",
    "```bash\n",
    "conda install opencv3 -c menpo\n",
    "```\n",
    " ### Pygame:\n",
    "```bash\n",
    "pip install -U pygame\n",
    "```\n",
    "### Otras dependencias\n",
    "```bash\n",
    "conda install -c conda-forge ipywidgets\n",
    "```\n",
    "o\n",
    "```bash\n",
    "pip install ipywidgets\n",
    "jupyter nbextension enable --py widgetsnbextension\n",
    "```"
   ]
  }
 ],
 "metadata": {
  "kernelspec": {
   "display_name": "Python 3",
   "language": "python",
   "name": "python3"
  },
  "language_info": {
   "codemirror_mode": {
    "name": "ipython",
    "version": 2
   },
   "file_extension": ".py",
   "mimetype": "text/x-python",
   "name": "python",
   "nbconvert_exporter": "python",
   "pygments_lexer": "ipython2",
   "version": "2.7.12"
  }
 },
 "nbformat": 4,
 "nbformat_minor": 2
}
