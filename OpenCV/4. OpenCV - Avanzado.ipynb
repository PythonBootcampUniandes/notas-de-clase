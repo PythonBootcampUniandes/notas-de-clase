{
 "cells": [
  {
   "cell_type": "markdown",
   "metadata": {},
   "source": [
    "# Funciones y ejemplos avanzados\n",
    "El presente módulo pretende ser puramente ilustrativo acerca de las funcionalidades más avanzadas que OpenCV ofrece, en este caso, se presentará un pequeño ejemplo de detección facial (En tiempo real). Asímismo, se presentará una aplicación (ociosa) de conceptos importantes en reconstrucción 3D. "
   ]
  }
 ],
 "metadata": {
  "kernelspec": {
   "display_name": "Python 3",
   "language": "python",
   "name": "python3"
  },
  "language_info": {
   "codemirror_mode": {
    "name": "ipython",
    "version": 2
   },
   "file_extension": ".py",
   "mimetype": "text/x-python",
   "name": "python",
   "nbconvert_exporter": "python",
   "pygments_lexer": "ipython2",
   "version": "2.7.12"
  }
 },
 "nbformat": 4,
 "nbformat_minor": 2
}
