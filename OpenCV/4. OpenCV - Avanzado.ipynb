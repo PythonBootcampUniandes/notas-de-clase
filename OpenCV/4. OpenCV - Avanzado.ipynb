{
 "cells": [
  {
   "cell_type": "markdown",
   "metadata": {},
   "source": [
    "# Funciones y ejemplos avanzados\n",
    "El presente módulo pretende ser puramente ilustrativo acerca de las funcionalidades más avanzadas que OpenCV ofrece, en este caso, se presentará un pequeño ejemplo de detección facial (En tiempo real). Asímismo, se presentará una aplicación (ociosa) de conceptos importantes en reconstrucción 3D. \n",
    "\n",
    "## Proyección de puntos 3D en una superficie de la imagen (Estimación de pose)\n",
    "Muchas de las aplicaciones modernas que se integran a una cámara se basan en el concepto de realidad aumentada, bajo la cual es posible proyectar modelos 3D en una superficie 2D proyectada en una imagen. Este principio se basa en la estimación de la matriz de calibración de la cámara sujeta a evaluación, esta matriz permite caracterizar los principales parámetros de la cámara que permiten corregir errores de distorsión en las imágenes capturadas.\n",
    "\n",
    "En este caso, la matriz de proyección estima las distancias focales $f_x$ y $f_y$, así como los centros ópticos $c_x$, $c_y$. Debido a que estos parámetros caracterizan la proyección de puntos 3D desde el mundo real hasta la imagen final que se encuentra en 2D, la estimación de esta matriz permitirá transformar coordenadas que se encuentran en el mundo real hacia sus respectivas coordenadas en la imagen.\n",
    "\n",
    "### Calibración\n",
    "\n",
    "Para calibrar la cámara, es necesario contar con un patrón de tablero de ajedrez y capturar diferentes imagenes que permitan capturar distintos ángulos de perspectiva. Para este fin, se ha definido el demo ``projection/calibration.py``, en este programa es posible capturar la información requerida para estimar la matriz de calibración de la cámara. El demo debería ser similar al siguiente ejemplo:\n",
    "\n",
    "![alt text](./Assets/calibration.gif \"Patrón de calibración de una cámara\")\n",
    "\n",
    "Este demo permite capturar 10 imágenes empleando la barra espaciadora, tras realizar este proceso, se procede a estimar la matriz de calibración de la cámara, la cual es almacenada en un archivo binario de numpy.\n",
    "\n",
    "**Nota:** Las imágenes seleccionadas deben encontrarse bajo distintas condiciones de perspectiva\n",
    "\n",
    "### Estimación de pose\n",
    "Tras calcular la matriz de calibración, no solo es posible corregir posibles anomalías de distorsión, también es posible realizar la proyección de puntos 3D sobre la imagen, y de forma más específica, sobre el patrón de calibración. En el demo ``projection/projection.py`` es posible apreciar esta transformación, a partir de la proyección de un cubo en el tablero de ajedrez:\n",
    "\n",
    "![alt text](./Assets/projection.gif \"Proyección 3D en una imagen\")\n",
    "\n",
    "**Reto:** Intentar dibujar otras construcciones 3D en la imagen\n",
    "\n",
    "## Detección facial\n",
    "Detección facial, uno de las aplicaciones de detección más conocidas a nivel histórico, por supuesto que OpenCV también lo permite realizar, a través de las cascadas de Haar. En el demo ``face_detection/haar.py``, se presenta el uso de esta funcionalidad. Si desea obtener mayor información relacionada con el funcionamiento de esta técnica, por favor dirigirse a su guía de OpenCV más cercana: http://docs.opencv.org/trunk/d7/d8b/tutorial_py_face_detection.html\n",
    "\n",
    "![alt text](./Assets/face.gif \"Detección de rostros usando las cascadas de Haar\")\n",
    "\n",
    "\n",
    "**Nota:** El modelo de cascadas de Haar puede ser empleado también para realizar detecciones de partes específicas del rostro, tal como ojos, nariz y orejas. Bajo la carpeta ``haarcascades`` se encuentran los modelos asociados a estos detectores.\n"
   ]
  }
 ],
 "metadata": {
  "kernelspec": {
   "display_name": "Python 3",
   "language": "python",
   "name": "python3"
  },
  "language_info": {
   "codemirror_mode": {
    "name": "ipython",
    "version": 3
   },
   "file_extension": ".py",
   "mimetype": "text/x-python",
   "name": "python",
   "nbconvert_exporter": "python",
   "pygments_lexer": "ipython3",
   "version": "3.6.0"
  }
 },
 "nbformat": 4,
 "nbformat_minor": 2
}
