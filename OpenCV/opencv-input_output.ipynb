{
 "cells": [
  {
   "cell_type": "markdown",
   "metadata": {},
   "source": [
    "# Entrada y salida de imágenes\n",
    "\n",
    "## Representación\n",
    "Perceptualmente, una imagen digital consta de una secuencia de intensidades (píxeles) agrupadas en una matriz de dimension $H \\times W$. Inicialmente, cada valor de intensidad presente en la matriz puede encontrarse en el rango $[0, 255]$ o en el rango $[0, 1]$ (Normalizado). \n",
    "\n",
    "Ahora bien las imágenes pueden ser representadas a color o en escala de grises. En este caso, la variación radica en el número de matrices que representan a una imagen. Si una imagen presenta tres matrices (RGB inicialmente), entonces es posible afirmar que la imagen descrita contiene información cromática. Por el contrario, si una imagen se encuentra descrita por una única matriz, ésta se encuentra en escala de grises.\n",
    "\n",
    "![alt text](./Assets/rgb_image.png \"Imágen a color\")\n",
    "\n",
    "**Nota:** Si una imagen cuenta con una capa de transparencia, esta se encontrará descrita por 4 matrices. Sin embargo, esta información puede resultar de utilidad en aplicaciones de visualización.\n",
    "\n",
    "A continuación se presentarán dos ejemplos en los cuales se presenta esta distinción, asímismo, se presentarán las funciones básicas de carga de imágenes en OpenCV. "
   ]
  },
  {
   "cell_type": "markdown",
   "metadata": {},
   "source": [
    "## Carga de imágenes\n",
    "Debido a que las imágenes se encuentran representadas a través de matrices, OpenCV opera sobre arreglos de Numpy, lo cual permite emplear las funciones de esta librería, así como ``scipy``, ``matplotlib``  y otras librerías que puedan realizar operaciones sobre matrices. \n",
    "\n",
    "En este caso, se presentan dos funciones diseñadas para la carga de imágenes en Python, la primera basada en ``matplotlib.image`` y la segunda, basada en OpenCV (``cv2``). La diferencia entre las dos radica principalmente en el orden de los canales RGB, mientras la función ``matplotlib.image.imread`` retorna las tres matrices en el orden $[R, G, B]$, la función ``cv2.imread`` retorna una imagen con canales $[B, G, R]$.\n",
    "\n",
    "**Nota:** A lo largo del tutorial se empleará la función de Matplotlib.\n",
    "\n",
    "Para visualizar las imágenes es posible usar la función ``matplotlib.pyplot.imshow``, como se presenta a continuación:"
   ]
  },
  {
   "cell_type": "code",
   "execution_count": null,
   "metadata": {
    "collapsed": true
   },
   "outputs": [],
   "source": [
    "# Importación de librerías básicas\n",
    "import cv2 # OpenCV\n",
    "import numpy as np # Numpy\n",
    "%matplotlib inline\n",
    "import matplotlib.pyplot as plt # matplotlib.pyplot\n",
    "import matplotlib.image as mpimg # matplotlib.image"
   ]
  },
  {
   "cell_type": "markdown",
   "metadata": {},
   "source": [
    "### Carga y visualización de imágenes RGB"
   ]
  },
  {
   "cell_type": "code",
   "execution_count": null,
   "metadata": {},
   "outputs": [],
   "source": [
    "img = mpimg.imread('img/DSC_0280.JPG')\n",
    "ax = plt.imshow(img)\n",
    "print(\"Dimensiones: {0}\".format(img.shape)) # Las dimensiones de la imagen"
   ]
  },
  {
   "cell_type": "markdown",
   "metadata": {},
   "source": [
    "## Espacios de color\n",
    "En ocasiones, el espacio de representación RGB es limitado para realizar ciertas operaciones sobre las imágenes, como por ejemplo, para hallar las regiones de la imágen que son de un color específico, o para encontrar el gradiente de la imagen, como se presentará en el siguiente módulo. En estos casos, otros espacios de color como la escala de grises o [HSV](https://en.wikipedia.org/wiki/HSL_and_HSV) pueden ser óptimos para estas aplicaciones. Para este fin, OpenCV dispone de la función ``cv2.cvtColor``, la cual permite transformar una imagen desde un espacio de representación a otro.\n",
    "\n",
    "Las conversiones permitidas por la función se encuentran descritas a través de un conjunto de constantes ``cv2.COlOR_*``, presentes en el módulo ``cv2``. En el presente ejemplo, se emplearán las constantes ``cv2.COLOR_RGB2GRAY`` y ``cv2.COLOR_RGB2HSV``, sin embargo, el listado completo de dichas constantes se puede obtener con la siguiente instrucción: "
   ]
  },
  {
   "cell_type": "code",
   "execution_count": null,
   "metadata": {},
   "outputs": [],
   "source": [
    "flags = [i for i in dir(cv2) if i.startswith('COLOR_')]\n",
    "print(flags)"
   ]
  },
  {
   "cell_type": "markdown",
   "metadata": {},
   "source": [
    "A continuación se procede a cambiar el espacio de representación de la imagen cargada"
   ]
  },
  {
   "cell_type": "code",
   "execution_count": null,
   "metadata": {
    "scrolled": true
   },
   "outputs": [],
   "source": [
    "gray = cv2.cvtColor(img, cv2.COLOR_RGB2GRAY)\n",
    "ax = plt.imshow(gray, cmap='gray') # Nótese el uso del keyword cmap para visualizar la imagen en escala de grises\n",
    "print('Dimensiones: {0}'.format(gray.shape))"
   ]
  },
  {
   "cell_type": "code",
   "execution_count": null,
   "metadata": {},
   "outputs": [],
   "source": [
    "hsv_img = cv2.cvtColor(img, cv2.COLOR_RGB2HSV)\n",
    "ax = plt.imshow(hsv_img) # Notar que las regiones que comparten un color tienen valores de intensidad HSV similares"
   ]
  },
  {
   "cell_type": "markdown",
   "metadata": {},
   "source": [
    "Debido a que la función ``plt.imshow`` espera una imagen representada en el espacio RGB, si se carga una imagen en escala de grises, hsv u otro espacio de color, es necesario cambiar de mapa de colores a través del argumento ``cmap``. La lista completa de mapas de colores disponibles en matplotlib se encuentra en: http://matplotlib.org/users/colormaps.html"
   ]
  },
  {
   "cell_type": "markdown",
   "metadata": {},
   "source": [
    "## Operaciones sobre canales de color\n",
    "Debido a que una imagen se comporta como una matriz de numpy, es posible realizar las operaciones habituales sobre las mismas, por ejemplo, acceder al valor de un índice en específico, realizar slicing (rebanado) y otras operaciones sobre una matriz. _e.g.,_"
   ]
  },
  {
   "cell_type": "code",
   "execution_count": null,
   "metadata": {},
   "outputs": [],
   "source": [
    "# Recortar una imagen usando slicing\n",
    "crop = img[0:3000, 100:2000, :] # Se realiza la operación sobre los tres canales\n",
    "plt.imshow(crop)"
   ]
  },
  {
   "cell_type": "code",
   "execution_count": null,
   "metadata": {
    "scrolled": true
   },
   "outputs": [],
   "source": [
    "# Extraer los canales individuales de una imagen\n",
    "r, g, b = np.rollaxis(img[:,:,...], axis=-1)\n",
    "plt.imshow(b, cmap='gray')"
   ]
  },
  {
   "cell_type": "code",
   "execution_count": null,
   "metadata": {},
   "outputs": [],
   "source": [
    "# Hallar el máximo valor de intensidad en la imagen\n",
    "np.max(img)"
   ]
  },
  {
   "cell_type": "code",
   "execution_count": null,
   "metadata": {},
   "outputs": [],
   "source": [
    "# Calcular la raíz cuadrada de la imagen\n",
    "plt.imshow(np.sqrt(img))"
   ]
  },
  {
   "cell_type": "code",
   "execution_count": null,
   "metadata": {},
   "outputs": [],
   "source": [
    "# Cambiar los valores de una region\n",
    "img[2500:4000, 0:2000, :] = img[2500:4000, 4000:6000, :]\n",
    "plt.imshow(img)"
   ]
  }
 ],
 "metadata": {
  "kernelspec": {
   "display_name": "Python 3",
   "language": "python",
   "name": "python3"
  },
  "language_info": {
   "codemirror_mode": {
    "name": "ipython",
    "version": 2
   },
   "file_extension": ".py",
   "mimetype": "text/x-python",
   "name": "python",
   "nbconvert_exporter": "python",
   "pygments_lexer": "ipython2",
   "version": "2.7.12"
  }
 },
 "nbformat": 4,
 "nbformat_minor": 2
}
