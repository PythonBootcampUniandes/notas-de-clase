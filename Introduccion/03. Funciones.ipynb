{
 "cells": [
  {
   "cell_type": "markdown",
   "metadata": {},
   "source": [
    "# Funciones\n",
    "\n",
    "Como en cualquier otro lenguaje, en *Python* también es posible definir funciones, es decir, secuencias de enunciados que reciben ciertos datos, ejecutan algunas operaciones sobre ellos y devuelven un resultado.\n",
    "\n",
    "Para definir una función se usa la palabra clave `def`, y el valor que va a retornar siempre debe ser precedido por un `return`. La sintaxis de una función es como se ve a continuación::\n",
    "\n",
    "```python\n",
    "def NOMBRE(LISTA DE ARGUMENTOS):\n",
    "    ENUNCIADOS\n",
    "    return VALOR\n",
    "```\n",
    "\n",
    "ó\n",
    "\n",
    "```python\n",
    "def NOMBRE(LISTA DE ARGUMENTOS):\n",
    "    ENUNCIADOS\n",
    "    print(VALOR)\n",
    "```\n",
    "\n",
    "La línea que contiene el `return` (o `print`) es opcional, pues no todas las funciones deben retornar algo. Por ejemplo, hay algunas que sólo modifican los valores de ciertas variables, por lo que no necesitan retornar o imprimir ningún valor."
   ]
  },
  {
   "cell_type": "markdown",
   "metadata": {},
   "source": [
    "**Nota**:\n",
    "\n",
    "Es muy importante tener en cuenta que los enunciados que hacen parte de la función deben estar **cuatro espacios** por dentro del encabezado. En otras palabras, todo lo que esté indentado con cuatro espacios por dentro de la definición, pertenece al cuerpo de la función, ya que en Python la indentación es lo único que define la forma en que se agrupa el código. Sólo cuando el nivel de indentación se retorne al punto en que se escribió el primer `def` se considera que ha terminado la definición de la función."
   ]
  },
  {
   "cell_type": "markdown",
   "metadata": {},
   "source": [
    "Un ejemplo muy sencillo de una función que toma un argumento `x` y retorna este argumento elevado al cuadrado es:"
   ]
  },
  {
   "cell_type": "code",
   "execution_count": null,
   "metadata": {
    "collapsed": true
   },
   "outputs": [],
   "source": [
    "def cuadrado(x):\n",
    "    return x**2"
   ]
  },
  {
   "cell_type": "markdown",
   "metadata": {},
   "source": [
    "Podemos comprobar que la función esta operando correctamente al pasarle varios argumentos y ver los resultados que retorna:"
   ]
  },
  {
   "cell_type": "code",
   "execution_count": null,
   "metadata": {},
   "outputs": [],
   "source": [
    "cuadrado(3)"
   ]
  },
  {
   "cell_type": "code",
   "execution_count": null,
   "metadata": {},
   "outputs": [],
   "source": [
    "cuadrado(5)"
   ]
  },
  {
   "cell_type": "code",
   "execution_count": null,
   "metadata": {},
   "outputs": [],
   "source": [
    "cuadrado(10)"
   ]
  },
  {
   "cell_type": "code",
   "execution_count": null,
   "metadata": {},
   "outputs": [],
   "source": [
    "cuadrado('a')"
   ]
  },
  {
   "cell_type": "markdown",
   "metadata": {},
   "source": [
    "En el último caso vemos que si intentamos pasarle a la función un argumento que no puede ser procesado, Python simplemente retorna un error."
   ]
  },
  {
   "cell_type": "markdown",
   "metadata": {},
   "source": [
    "## Parámetros opcionales"
   ]
  },
  {
   "cell_type": "markdown",
   "metadata": {},
   "source": [
    "En ocasiones, se desea que una función cuente con unos párametros por defecto. Por ejemplo si se desean imprimir mensajes de ejecución en una función, u otro valor númerico que cuenta con una inicialización específica para una rutina de cálculo, estos párametros se definen empleando la sintaxis ``arg=value``, dónde ``arg`` es el nombre del argumento y ``value``, el valor de inicialización por defecto. \n",
    "\n",
    "A continuación se presenta un ejemplo de una función que recibe argumentos opcionales."
   ]
  },
  {
   "cell_type": "code",
   "execution_count": null,
   "metadata": {
    "collapsed": true
   },
   "outputs": [],
   "source": [
    "def suma(x, y, verbose=False):\n",
    "    if verbose:\n",
    "        print(\"Sumaré {0} y {1}\".format(x, y))\n",
    "    return x + y"
   ]
  },
  {
   "cell_type": "markdown",
   "metadata": {},
   "source": [
    "Como es posible apreciar, la función recibe un parámetro opcional ``verbose``, el cual permite imprimir los argumentos a sumar, ahora procedemos a invocar esta función, primero sin el parámetro opcional:"
   ]
  },
  {
   "cell_type": "code",
   "execution_count": null,
   "metadata": {},
   "outputs": [],
   "source": [
    "suma(-1, 2.5)"
   ]
  },
  {
   "cell_type": "markdown",
   "metadata": {},
   "source": [
    "Ahora, podemos cambiar el valor del parámetro opcional con el fin de observar los argumentos a sumar:"
   ]
  },
  {
   "cell_type": "code",
   "execution_count": null,
   "metadata": {
    "scrolled": true
   },
   "outputs": [],
   "source": [
    "suma(-1, 2.5, verbose=True)"
   ]
  },
  {
   "cell_type": "markdown",
   "metadata": {},
   "source": [
    "Es posible definir múltiples argumentos opcionales, como por ejemplo en la siguiente función que imprime el nombre de una persona:"
   ]
  },
  {
   "cell_type": "code",
   "execution_count": null,
   "metadata": {
    "collapsed": true
   },
   "outputs": [],
   "source": [
    "def imprimir_nombre(primer_nombre, segundo_nombre='', apellidos=''):\n",
    "    print(\"Nombre: \", primer_nombre, segundo_nombre, apellidos)"
   ]
  },
  {
   "cell_type": "markdown",
   "metadata": {},
   "source": [
    "Ahora veamos los distintos resultados de esta función"
   ]
  },
  {
   "cell_type": "code",
   "execution_count": null,
   "metadata": {},
   "outputs": [],
   "source": [
    "imprimir_nombre('Carlos')"
   ]
  },
  {
   "cell_type": "code",
   "execution_count": null,
   "metadata": {
    "collapsed": true
   },
   "outputs": [],
   "source": [
    "imprimir_nombre('Carlos', segundo_nombre='Andrés')"
   ]
  },
  {
   "cell_type": "code",
   "execution_count": null,
   "metadata": {
    "collapsed": true
   },
   "outputs": [],
   "source": [
    "imprimir_nombre('Carlos', segundo_nombre='Andrés', apellidos='Córdoba Chaves')"
   ]
  },
  {
   "cell_type": "markdown",
   "metadata": {},
   "source": [
    "## Funciones internas"
   ]
  },
  {
   "cell_type": "markdown",
   "metadata": {},
   "source": [
    "Python permite definir funciones al interior de otra función, las cuales se denominan funciones internas. Estas funciones pueden acceder al espacio de variables de la función que la encapsula. Sin embargo, estas funciones no son accesibles desde el exterior de la función.\n",
    "\n",
    "Por ejemplo, a continuación se presenta una función que toma por párametro un elemento y retorna una lista con distintas operaciones sobre el elemento inicial:"
   ]
  },
  {
   "cell_type": "code",
   "execution_count": null,
   "metadata": {},
   "outputs": [],
   "source": [
    "def doblar_y_dividir_por_dos(x):\n",
    "    def doblar():\n",
    "        return 2 * x\n",
    "\n",
    "    def dividir_por_dos():\n",
    "        return x / 2\n",
    "\n",
    "    return [doblar(), dividir_por_dos()]"
   ]
  },
  {
   "cell_type": "code",
   "execution_count": null,
   "metadata": {
    "collapsed": true
   },
   "outputs": [],
   "source": [
    "doblar_y_dividir_por_dos(10)"
   ]
  },
  {
   "cell_type": "markdown",
   "metadata": {},
   "source": [
    "Si se intenta invocar a las funciones internas directamente, veremos que aparece un error debido a éstas no existen por fuera de `doblar_y_dividir_por_dos`:"
   ]
  },
  {
   "cell_type": "code",
   "execution_count": null,
   "metadata": {},
   "outputs": [],
   "source": [
    "doblar"
   ]
  },
  {
   "cell_type": "code",
   "execution_count": null,
   "metadata": {
    "collapsed": true
   },
   "outputs": [],
   "source": [
    "dividir_por_dos"
   ]
  },
  {
   "cell_type": "markdown",
   "metadata": {},
   "source": [
    "## Funciones anónimas"
   ]
  },
  {
   "cell_type": "markdown",
   "metadata": {},
   "source": [
    "Inspirado en los lenguajes funcionales, Python también permite definir funciones anónimas, las cuales corresponden a funciones que se pueden asignar a variables o pueden ser empleadas en los argumentos de otras funciones que requieran una función por parámetro. Estas funciones se crean empleando la palabra clave `lambda`, como es posible apreciar a continuación:"
   ]
  },
  {
   "cell_type": "code",
   "execution_count": null,
   "metadata": {
    "scrolled": true
   },
   "outputs": [],
   "source": [
    "f = lambda x, y: x + y"
   ]
  },
  {
   "cell_type": "code",
   "execution_count": null,
   "metadata": {},
   "outputs": [],
   "source": [
    "f(2, 3)"
   ]
  },
  {
   "cell_type": "markdown",
   "metadata": {},
   "source": [
    "En el contexto de otras funciones, es posible recordar la función `sorted`, introducida en el módulo de listas. Esta función además de ordenar elementos sencillos, también puede ordenar listas que contienen elementos más complejos (por ejemplo diccionarios) empleando un criterio específico tal como el valor de una llave específica a través del argumento `key`. Este argumento espera una función que tiene como parámetro un elemento de la lista, y retorna el valor por el cual debe ordenarse el elemento en la lista:"
   ]
  },
  {
   "cell_type": "code",
   "execution_count": null,
   "metadata": {
    "scrolled": true
   },
   "outputs": [],
   "source": [
    "lista_desordenada = [{'nombre': 'enlatado', 'precio': 1000},\n",
    "                     {'name': 'jamón', 'precio': 2000},\n",
    "                     {'nombre': 'huevos', 'precio': 200}]"
   ]
  },
  {
   "cell_type": "code",
   "execution_count": null,
   "metadata": {
    "collapsed": true
   },
   "outputs": [],
   "source": [
    "lista_ordenada_por_precio = sorted(lista_desordenada, key=lambda x: x['precio'])"
   ]
  },
  {
   "cell_type": "code",
   "execution_count": null,
   "metadata": {},
   "outputs": [],
   "source": [
    "lista_ordenada_por_precio"
   ]
  },
  {
   "cell_type": "markdown",
   "metadata": {},
   "source": [
    "**Nota:** Las funciones anónimas solo pueden ser empleadas para realizar operaciones básicas, así como invocación de funciones. Sin embargo, no es posible realizar flujos de control más complejos (e.g. ciclos `for`, `while`, etc)."
   ]
  },
  {
   "cell_type": "markdown",
   "metadata": {},
   "source": [
    "## Problemas"
   ]
  },
  {
   "cell_type": "markdown",
   "metadata": {},
   "source": [
    "### Problema 1\n",
    "\n",
    "Definir una función `imprimir_doble` que tome un argumento `x` y lo imprima dos veces, con un espacio entre una palabra y la siguiente. Por ejemplo, al evaluarla debe retornar:\n",
    "\n",
    "```python\n",
    "imprimir_doble(5)\n",
    "5 5\n",
    "```\n",
    "     \n",
    "```python\n",
    "imprimir_doble('hola')\n",
    "hola hola\n",
    "```\n",
    "     \n",
    "```python\n",
    "imprimir_doble([3,9,4])\n",
    "[3,9,4] [3,9,4]\n",
    "```"
   ]
  },
  {
   "cell_type": "code",
   "execution_count": null,
   "metadata": {
    "collapsed": true
   },
   "outputs": [],
   "source": [
    "# Escribir la solución aquí\n"
   ]
  },
  {
   "cell_type": "code",
   "execution_count": null,
   "metadata": {
    "collapsed": true
   },
   "outputs": [],
   "source": [
    "# Evaluar la función aquí\n"
   ]
  },
  {
   "cell_type": "markdown",
   "metadata": {},
   "source": [
    "### Problema 2\n",
    "\n",
    "Definir una función `distancia` que tome dos argumentos `x,y`, que sean listas de dos elementos, y calcule la distancia entre ellos usando el teorema de Pitágoras:\n",
    "\n",
    "$$\\sqrt{\\left(x_{1}-y_{1}\\right)^{2}+\\left(x_{2}-y_{2}\\right)^{2}}$$\n",
    "\n",
    "Pueden comprobar que la función está haciendo su trabajo correctamente si retorna estos valores:\n",
    "\n",
    "```python\n",
    "distancia([0,0], [1,1])\n",
    "1.4142135623730951\n",
    "```\n",
    "\n",
    "```python\n",
    "distancia([1,5], [2,2])\n",
    "3.1622776601683795\n",
    "```"
   ]
  },
  {
   "cell_type": "code",
   "execution_count": null,
   "metadata": {
    "collapsed": true
   },
   "outputs": [],
   "source": [
    "# Escribir la solución aquí\n"
   ]
  },
  {
   "cell_type": "code",
   "execution_count": null,
   "metadata": {
    "collapsed": true
   },
   "outputs": [],
   "source": [
    "# Evaluar la función\n"
   ]
  },
  {
   "cell_type": "markdown",
   "metadata": {},
   "source": [
    "### Problema 3\n",
    "\n",
    "Definir una función `digitos` que tome un numero `x` y retorne los dígitos de que se compone, como cadenas. Por ejemplo, `digitos` debe retornar:\n",
    "\n",
    "```python\n",
    "digitos(1234)\n",
    "['1', '2', '3', '4']\n",
    "```\n",
    "\n",
    "```python\n",
    "digitos(99861)\n",
    "['9', '9', '8', '6', '1']\n",
    "```\n",
    "\n",
    "**Nota**: Utilizar los comandos de conversión entre tipos de datos, vistos al final de la sección anterior"
   ]
  },
  {
   "cell_type": "code",
   "execution_count": null,
   "metadata": {
    "collapsed": true
   },
   "outputs": [],
   "source": [
    "# Escribir la solución aquí\n"
   ]
  },
  {
   "cell_type": "code",
   "execution_count": null,
   "metadata": {
    "collapsed": true
   },
   "outputs": [],
   "source": [
    "# Evaluar la función aquí\n"
   ]
  }
 ],
 "metadata": {
  "kernelspec": {
   "display_name": "Python 3",
   "language": "python",
   "name": "python3"
  },
  "language_info": {
   "codemirror_mode": {
    "name": "ipython",
    "version": 3
   },
   "file_extension": ".py",
   "mimetype": "text/x-python",
   "name": "python",
   "nbconvert_exporter": "python",
   "pygments_lexer": "ipython3",
   "version": "3.5.2+"
  }
 },
 "nbformat": 4,
 "nbformat_minor": 1
}
