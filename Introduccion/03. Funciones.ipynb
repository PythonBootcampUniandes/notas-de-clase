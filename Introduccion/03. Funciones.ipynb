{
 "cells": [
  {
   "cell_type": "markdown",
   "metadata": {},
   "source": [
    "# Funciones\n",
    "\n",
    "Como en cualquier otro lenguaje, en *Python* también es posible definir funciones, es decir, secuencias de enunciados que reciben ciertos datos, ejecutan algunas operaciones sobre ellos y devuelven un resultado.\n",
    "\n",
    "Para definir una función se usa la palabra clave `def`, y el valor que va a retornar siempre debe ser precedido por un `return`. La sintaxis de una función es como se ve a continuación::\n",
    "\n",
    "```python\n",
    "def NOMBRE(LISTA DE ARGUMENTOS):\n",
    "    ENUNCIADOS\n",
    "    return VALOR\n",
    "```\n",
    "\n",
    "ó\n",
    "\n",
    "```python\n",
    "def NOMBRE(LISTA DE ARGUMENTOS):\n",
    "    ENUNCIADOS\n",
    "    print(VALOR)\n",
    "```\n",
    "\n",
    "La línea que contiene el `return` (o `print`) es opcional, pues no todas las funciones deben retornar algo. Por ejemplo, hay algunas que sólo modifican los valores de ciertas variables, por lo que no necesitan retornar o imprimir ningún valor."
   ]
  },
  {
   "cell_type": "markdown",
   "metadata": {},
   "source": [
    "**Nota**:\n",
    "\n",
    "Es muy importante tener en cuenta que los enunciados que hacen parte de la función deben estar **cuatro espacios** por dentro del encabezado. En otras palabras, todo lo que esté indentado con cuatro espacios por dentro de la definición, pertenece al cuerpo de la función, ya que en Python la indentación es lo único que define la forma en que se agrupa el código. Sólo cuando el nivel de indentación se retorne al punto en que se escribió el primer `def` se considera que ha terminado la definición de la función."
   ]
  },
  {
   "cell_type": "markdown",
   "metadata": {},
   "source": [
    "Un ejemplo muy sencillo de una función que toma un argumento `x` y retorna este argumento elevado al cuadrado es:"
   ]
  },
  {
   "cell_type": "code",
   "execution_count": 1,
   "metadata": {
    "collapsed": true
   },
   "outputs": [],
   "source": [
    "def cuadrado(x):\n",
    "    return x**2"
   ]
  },
  {
   "cell_type": "markdown",
   "metadata": {},
   "source": [
    "Podemos comprobar que la función esta operando correctamente al pasarle varios argumentos y ver los resultados que retorna:"
   ]
  },
  {
   "cell_type": "code",
   "execution_count": 2,
   "metadata": {},
   "outputs": [
    {
     "data": {
      "text/plain": [
       "9"
      ]
     },
     "execution_count": 2,
     "metadata": {},
     "output_type": "execute_result"
    }
   ],
   "source": [
    "cuadrado(3)"
   ]
  },
  {
   "cell_type": "code",
   "execution_count": 3,
   "metadata": {},
   "outputs": [
    {
     "data": {
      "text/plain": [
       "25"
      ]
     },
     "execution_count": 3,
     "metadata": {},
     "output_type": "execute_result"
    }
   ],
   "source": [
    "cuadrado(5)"
   ]
  },
  {
   "cell_type": "code",
   "execution_count": 4,
   "metadata": {},
   "outputs": [
    {
     "data": {
      "text/plain": [
       "100"
      ]
     },
     "execution_count": 4,
     "metadata": {},
     "output_type": "execute_result"
    }
   ],
   "source": [
    "cuadrado(10)"
   ]
  },
  {
   "cell_type": "code",
   "execution_count": 5,
   "metadata": {},
   "outputs": [
    {
     "ename": "TypeError",
     "evalue": "unsupported operand type(s) for ** or pow(): 'str' and 'int'",
     "output_type": "error",
     "traceback": [
      "\u001b[0;31m---------------------------------------------------------------------------\u001b[0m",
      "\u001b[0;31mTypeError\u001b[0m                                 Traceback (most recent call last)",
      "\u001b[0;32m<ipython-input-5-d15440223ddf>\u001b[0m in \u001b[0;36m<module>\u001b[0;34m()\u001b[0m\n\u001b[0;32m----> 1\u001b[0;31m \u001b[0mcuadrado\u001b[0m\u001b[0;34m(\u001b[0m\u001b[0;34m'a'\u001b[0m\u001b[0;34m)\u001b[0m\u001b[0;34m\u001b[0m\u001b[0m\n\u001b[0m",
      "\u001b[0;32m<ipython-input-1-cd128e5d2a6b>\u001b[0m in \u001b[0;36mcuadrado\u001b[0;34m(x)\u001b[0m\n\u001b[1;32m      1\u001b[0m \u001b[0;32mdef\u001b[0m \u001b[0mcuadrado\u001b[0m\u001b[0;34m(\u001b[0m\u001b[0mx\u001b[0m\u001b[0;34m)\u001b[0m\u001b[0;34m:\u001b[0m\u001b[0;34m\u001b[0m\u001b[0m\n\u001b[0;32m----> 2\u001b[0;31m     \u001b[0;32mreturn\u001b[0m \u001b[0mx\u001b[0m\u001b[0;34m**\u001b[0m\u001b[0;36m2\u001b[0m\u001b[0;34m\u001b[0m\u001b[0m\n\u001b[0m",
      "\u001b[0;31mTypeError\u001b[0m: unsupported operand type(s) for ** or pow(): 'str' and 'int'"
     ]
    }
   ],
   "source": [
    "cuadrado('a')"
   ]
  },
  {
   "cell_type": "markdown",
   "metadata": {},
   "source": [
    "En el último caso vemos que si intentamos pasarle a la función un argumento que no puede ser procesado, Python simplemente retorna un error."
   ]
  },
  {
   "cell_type": "markdown",
   "metadata": {},
   "source": [
    "## Parámetros opcionales"
   ]
  },
  {
   "cell_type": "markdown",
   "metadata": {},
   "source": [
    "En ocasiones, se desea que una función cuente con unos párametros por defecto. Por ejemplo si se desean imprimir mensajes de ejecución en una función, u otro valor númerico que cuenta con una inicialización específica para una rutina de cálculo, estos párametros se definen empleando la sintaxis ``arg=value``, dónde ``arg`` es el nombre del argumento y ``value``, el valor de inicialización por defecto. \n",
    "\n",
    "A continuación se presenta un ejemplo de una función que recibe argumentos opcionales."
   ]
  },
  {
   "cell_type": "code",
   "execution_count": 6,
   "metadata": {
    "collapsed": true
   },
   "outputs": [],
   "source": [
    "def sum_func(x, y, verbose=False):\n",
    "    if verbose:\n",
    "        print(\"Sumaré {0} y {1}\".format(x, y))\n",
    "    return x + y"
   ]
  },
  {
   "cell_type": "markdown",
   "metadata": {},
   "source": [
    "Como es posible apreciar, la función recibe un parámetro opcional ``verbose``, el cual permite imprimir los argumentos a sumar, ahora procedemos a invocar esta función, primero sin el parámetro opcional:"
   ]
  },
  {
   "cell_type": "code",
   "execution_count": 7,
   "metadata": {},
   "outputs": [
    {
     "data": {
      "text/plain": [
       "1.5"
      ]
     },
     "execution_count": 7,
     "metadata": {},
     "output_type": "execute_result"
    }
   ],
   "source": [
    "sum_func(-1, 2.5)"
   ]
  },
  {
   "cell_type": "markdown",
   "metadata": {},
   "source": [
    "Ahora, podemos cambiar el valor del parámetro opcional con el fin de observar los argumentos a sumar:"
   ]
  },
  {
   "cell_type": "code",
   "execution_count": 8,
   "metadata": {
    "scrolled": true
   },
   "outputs": [
    {
     "name": "stdout",
     "output_type": "stream",
     "text": [
      "Sumaré -1 y 2.5\n"
     ]
    },
    {
     "data": {
      "text/plain": [
       "1.5"
      ]
     },
     "execution_count": 8,
     "metadata": {},
     "output_type": "execute_result"
    }
   ],
   "source": [
    "sum_func(-1, 2.5, verbose=True)"
   ]
  },
  {
   "cell_type": "markdown",
   "metadata": {},
   "source": [
    "Es posible definir múltiples argumentos opcionales, como por ejemplo en la siguiente implementación de la serie de Fibonacci recursiva:"
   ]
  },
  {
   "cell_type": "code",
   "execution_count": 9,
   "metadata": {},
   "outputs": [
    {
     "data": {
      "text/plain": [
       "89"
      ]
     },
     "execution_count": 9,
     "metadata": {},
     "output_type": "execute_result"
    }
   ],
   "source": [
    "def fib(N, F1=1, F2=1):\n",
    "    if N == 0:\n",
    "        return F1\n",
    "    return fib(N - 1, F2, F1 + F2) # Esto es equivalente a invocar fib(N-1, F1=F2, F2=F1 + F2)\n",
    "\n",
    "fib(10)"
   ]
  },
  {
   "cell_type": "markdown",
   "metadata": {},
   "source": [
    "## Funciones internas"
   ]
  },
  {
   "cell_type": "markdown",
   "metadata": {},
   "source": [
    "Python permite definir funciones al interior de otra función, las cuales se denominan funciones internas. Estas funciones pueden acceder al espacio de variables de la función que la encapsula, sin embargo, estas funciones no son accesibles desde el exterior de la función. Por ejemplo, a continuación se presenta una función que toma por párametro un elemento y retorna una función que permite sumar otro elemento con el elemento inicial."
   ]
  },
  {
   "cell_type": "code",
   "execution_count": 10,
   "metadata": {},
   "outputs": [
    {
     "data": {
      "text/plain": [
       "7"
      ]
     },
     "execution_count": 10,
     "metadata": {},
     "output_type": "execute_result"
    }
   ],
   "source": [
    "def sum_by(x):\n",
    "    def inner_sum(y):\n",
    "        return x + y\n",
    "    return inner_sum\n",
    "\n",
    "sum_by_3 = sum_by(3) # func_1 es una función que permite sumar un número con 3\n",
    "sum_by_3(4)"
   ]
  },
  {
   "cell_type": "markdown",
   "metadata": {},
   "source": [
    "Si se intenta invocar a la función interna directamente en el intérprete de Python, éste debería reportar que la función no existe:"
   ]
  },
  {
   "cell_type": "code",
   "execution_count": 11,
   "metadata": {},
   "outputs": [
    {
     "ename": "NameError",
     "evalue": "name 'inner_sum' is not defined",
     "output_type": "error",
     "traceback": [
      "\u001b[0;31m---------------------------------------------------------------------------\u001b[0m",
      "\u001b[0;31mNameError\u001b[0m                                 Traceback (most recent call last)",
      "\u001b[0;32m<ipython-input-11-e8fddaa23f8c>\u001b[0m in \u001b[0;36m<module>\u001b[0;34m()\u001b[0m\n\u001b[0;32m----> 1\u001b[0;31m \u001b[0minner_sum\u001b[0m\u001b[0;34m\u001b[0m\u001b[0m\n\u001b[0m",
      "\u001b[0;31mNameError\u001b[0m: name 'inner_sum' is not defined"
     ]
    }
   ],
   "source": [
    "inner_sum"
   ]
  },
  {
   "cell_type": "markdown",
   "metadata": {},
   "source": [
    "## Funciones anónimas"
   ]
  },
  {
   "cell_type": "markdown",
   "metadata": {},
   "source": [
    "Inspirado en los lenguajes funcionales, Python permite definir funciones anónimas, las cuales corresponden a funciones que se pueden asignar a variables o pueden ser empleadas en los argumentos de otras funciones que requieran una función por parámetro. Estas funciones se crean empleando el keyword ``lambda``, como es posible apreciar a continuación:"
   ]
  },
  {
   "cell_type": "code",
   "execution_count": 12,
   "metadata": {
    "scrolled": true
   },
   "outputs": [
    {
     "data": {
      "text/plain": [
       "5"
      ]
     },
     "execution_count": 12,
     "metadata": {},
     "output_type": "execute_result"
    }
   ],
   "source": [
    "f = lambda x, y: x + y\n",
    "f(2, 3)"
   ]
  },
  {
   "cell_type": "markdown",
   "metadata": {},
   "source": [
    "En el contexto de otras funciones, es posible recordar la función ``sorted``, introducida en el módulo de listas. Esta función además de ordenar elementos sencillos, puede ordenar listas que contienen elementos más complejos, por ejemplo, diccionarios o tuplas, empleando un criterio específico tal como el valor de una llave específica a través del argumento ``key``. Este argumento espera una función que tiene como parámetro un elemento de la lista, y retorna el valor por el cual debe ordenarse el elemento en la lista:"
   ]
  },
  {
   "cell_type": "code",
   "execution_count": 13,
   "metadata": {
    "scrolled": true
   },
   "outputs": [
    {
     "data": {
      "text/plain": [
       "[{'name': 'eggs', 'price': 200},\n",
       " {'name': 'ham', 'price': 1000},\n",
       " {'name': 'spam', 'price': 2000}]"
      ]
     },
     "execution_count": 13,
     "metadata": {},
     "output_type": "execute_result"
    }
   ],
   "source": [
    "unordered_list = [{'name': 'spam', 'price': 2000}, {'name': 'ham', 'price': 1000}, {'name': 'eggs', 'price': 200}]\n",
    "ordered_price_list = sorted(unordered_list, key=lambda x: x['price'])\n",
    "ordered_price_list"
   ]
  },
  {
   "cell_type": "markdown",
   "metadata": {},
   "source": [
    "**Nota:** Las funciones anónimas solo pueden ser empleadas para realizar operaciones básicas, así como invocación de funciones. Sin embargo, no es posible realizar flujos de control más complejos. Por ejemplo, es posible emplear una función anónima para reducir el número de argumentos de otra función:"
   ]
  },
  {
   "cell_type": "code",
   "execution_count": 14,
   "metadata": {},
   "outputs": [
    {
     "data": {
      "text/plain": [
       "7"
      ]
     },
     "execution_count": 14,
     "metadata": {},
     "output_type": "execute_result"
    }
   ],
   "source": [
    "def sum_func(x, y):\n",
    "    return x + y\n",
    "\n",
    "sum_by_3 = lambda y: sum_func(3, y)\n",
    "sum_by_3(4)"
   ]
  },
  {
   "cell_type": "markdown",
   "metadata": {},
   "source": [
    "## Problemas"
   ]
  },
  {
   "cell_type": "markdown",
   "metadata": {},
   "source": [
    "### Problema 1\n",
    "\n",
    "Definir una función `imprimir_doble` que tome un argumento `x` y lo imprima dos veces, con un espacio entre una palabra y la siguiente. Por ejemplo, al evaluarla debe retornar:\n",
    "\n",
    "```python\n",
    "imprimir_doble(5)\n",
    "5 5\n",
    "```\n",
    "     \n",
    "```python\n",
    "imprimir_doble('hola')\n",
    "hola hola\n",
    "```\n",
    "     \n",
    "```python\n",
    "imprimir_doble([3,9,4])\n",
    "[3,9,4] [3,9,4]\n",
    "```"
   ]
  },
  {
   "cell_type": "code",
   "execution_count": 15,
   "metadata": {
    "collapsed": true
   },
   "outputs": [],
   "source": [
    "# Escribir la solución aquí\n"
   ]
  },
  {
   "cell_type": "code",
   "execution_count": 16,
   "metadata": {
    "collapsed": true
   },
   "outputs": [],
   "source": [
    "# Evaluar la función aquí\n"
   ]
  },
  {
   "cell_type": "markdown",
   "metadata": {},
   "source": [
    "### Problema 2\n",
    "\n",
    "Definir una función `distancia` que tome dos argumentos `x,y`, que sean listas de dos elementos, y calcule la distancia entre ellos usando el teorema de Pitágoras:\n",
    "\n",
    "$$\\sqrt{\\left(x_{1}-y_{1}\\right)^{2}+\\left(x_{2}-y_{2}\\right)^{2}}$$\n",
    "\n",
    "Pueden comprobar que la función está haciendo su trabajo correctamente si retorna estos valores:\n",
    "\n",
    "```python\n",
    "distancia([0,0], [1,1])\n",
    "1.4142135623730951\n",
    "```\n",
    "\n",
    "```python\n",
    "distancia([1,5], [2,2])\n",
    "3.1622776601683795\n",
    "```"
   ]
  },
  {
   "cell_type": "code",
   "execution_count": 17,
   "metadata": {
    "collapsed": true
   },
   "outputs": [],
   "source": [
    "# Escribir la solución aquí\n"
   ]
  },
  {
   "cell_type": "code",
   "execution_count": 18,
   "metadata": {
    "collapsed": true
   },
   "outputs": [],
   "source": [
    "# Evaluar la función\n"
   ]
  },
  {
   "cell_type": "markdown",
   "metadata": {},
   "source": [
    "### Problema 3\n",
    "\n",
    "Definir una función `digitos` que tome un numero `x` y retorne los dígitos de que se compone, como cadenas. Por ejemplo, `digitos` debe retornar:\n",
    "\n",
    "```python\n",
    "digitos(1234)\n",
    "['1', '2', '3', '4']\n",
    "```\n",
    "\n",
    "```python\n",
    "digitos(99861)\n",
    "['9', '9', '8', '6', '1']\n",
    "```\n",
    "\n",
    "**Nota**: Utilizar los comandos de conversión entre tipos de datos, vistos al final de la sección anterior"
   ]
  },
  {
   "cell_type": "code",
   "execution_count": 19,
   "metadata": {
    "collapsed": true
   },
   "outputs": [],
   "source": [
    "# Escribir la solución aquí\n"
   ]
  },
  {
   "cell_type": "code",
   "execution_count": 20,
   "metadata": {
    "collapsed": true
   },
   "outputs": [],
   "source": [
    "# Evaluar la función aquí\n"
   ]
  },
  {
   "cell_type": "markdown",
   "metadata": {},
   "source": [
    "### Problema 4\n",
    "\n",
    "Definir una función `mediana` que pueda calcular la mediana de cualquier lista, y aplicarla a la siguiente lista para comprobar:\n",
    "\n",
    "*Respuesta:*\n",
    "\n",
    "    15.0"
   ]
  },
  {
   "cell_type": "code",
   "execution_count": 21,
   "metadata": {
    "collapsed": true
   },
   "outputs": [],
   "source": [
    "li = [3, 18, 17, 44, 14, 12, 29, 19, 4, 6, 17, 7, 14, 6, 8, 17, 17, 21, 65,\\\n",
    "      19, 10, 31, 92, 17, 5, 15, 3, 14, 20, 12, 29, 57, 15, 2, 17, 1, 6, 17, 2,\\\n",
    "      71, 12, 11, 62, 14, 9, 20, 43, 19, 4, 15]"
   ]
  },
  {
   "cell_type": "code",
   "execution_count": 22,
   "metadata": {
    "collapsed": true
   },
   "outputs": [],
   "source": [
    "# Escribir la solución aquí\n"
   ]
  },
  {
   "cell_type": "code",
   "execution_count": 23,
   "metadata": {
    "collapsed": true
   },
   "outputs": [],
   "source": [
    "# Evaluar la función aquí\n"
   ]
  }
 ],
 "metadata": {
  "kernelspec": {
   "display_name": "Python [default]",
   "language": "python",
   "name": "python3"
  },
  "language_info": {
   "codemirror_mode": {
    "name": "ipython",
    "version": 3
   },
   "file_extension": ".py",
   "mimetype": "text/x-python",
   "name": "python",
   "nbconvert_exporter": "python",
   "pygments_lexer": "ipython3",
   "version": "3.5.2"
  }
 },
 "nbformat": 4,
 "nbformat_minor": 1
}
