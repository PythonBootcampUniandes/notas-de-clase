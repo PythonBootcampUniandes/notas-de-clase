{
 "cells": [
  {
   "cell_type": "markdown",
   "metadata": {},
   "source": [
    "Para leer archivos de texto que pueden tener simbolos de diferentes idiomas\n",
    "podemos utilizar la siguiente secuencia de comandos"
   ]
  },
  {
   "cell_type": "code",
   "execution_count": 1,
   "metadata": {
    "collapsed": true
   },
   "outputs": [],
   "source": [
    "file = \"Textos/1.txt\"\n",
    "a  = open(file, 'r', encoding='utf-8')\n",
    "lines = a.readlines()\n",
    "a.close()"
   ]
  },
  {
   "cell_type": "markdown",
   "metadata": {},
   "source": [
    "El numero total de lineas es "
   ]
  },
  {
   "cell_type": "code",
   "execution_count": 2,
   "metadata": {},
   "outputs": [
    {
     "data": {
      "text/plain": [
       "204"
      ]
     },
     "execution_count": 2,
     "metadata": {},
     "output_type": "execute_result"
    }
   ],
   "source": [
    "len(lines)"
   ]
  },
  {
   "cell_type": "markdown",
   "metadata": {},
   "source": [
    "En este caso `lines` es una lista de cadenas de caracteres"
   ]
  },
  {
   "cell_type": "code",
   "execution_count": 3,
   "metadata": {},
   "outputs": [
    {
     "name": "stdout",
     "output_type": "stream",
     "text": [
      "Kolumbien (amtlich República de Colombia, deutsch Republik Kolumbien; Kurzform\n",
      "\n",
      "auf Spanisch Colombia) ist eine Republik im nördlichen Teil von Südamerika. Es\n",
      "\n",
      "grenzt sowohl an den Pazifischen Ozean als auch an das Karibische Meer und auf\n",
      "\n",
      "dem Festland an Panama, Venezuela, Brasilien, Peru und Ecuador.  Der Landesname\n",
      "\n",
      "ist von Christoph Kolumbus abgeleitet. Bogotá ist Hauptstadt und\n",
      "\n",
      "wirtschaftliches und kulturelles Zentrum Kolumbiens.\n",
      "\n",
      "\n",
      "\n",
      "Physische Geographie\n",
      "\n",
      "\n",
      "\n",
      "Kolumbien liegt im Nordwesten Südamerikas und grenzt sowohl an den atlantischen\n",
      "\n",
      "(1.626 km Küstenlinie), als auch an den pazifischen Ozean (1.448 km). Im\n",
      "\n",
      "Südwesten grenzt Kolumbien an die Nachbarstaaten Ecuador (590 km Grenzlinie)\n",
      "\n",
      "und Peru (1.626 km), im Südosten an Brasilien (1.645 km), im Nordosten an\n",
      "\n",
      "Venezuela (2.050 km) und im Nordwesten an das seit 1903 von Kolumbien\n",
      "\n",
      "abgetrennte Panama (225 km).  Die Gesamtlänge der Kolumbianischen Landesgrenze\n",
      "\n",
      "beträgt 6.136 Kilometer.\n",
      "\n",
      "\n",
      "\n",
      "Naturräumliche Gliederung\n",
      "\n",
      "\n",
      "\n",
      "Kolumbien gliedert sich in sechs unterschiedliche Großräume. Die westliche\n",
      "\n",
      "Hälfte Kolumbiens wird von den Anden dominiert, die in drei große Bergketten\n",
      "\n",
      "geteilt sind: die westliche, die zentrale und die östliche Kordillere. Zwischen\n",
      "\n",
      "den Bergketten fließen die großen, teilweise befahrbaren Flüsse Cauca und\n",
      "\n",
      "Magdalena ins Karibische Meer. Der Westen Kolumbiens entwässert über den Atrato\n",
      "\n",
      "in die Karibik, sowie über die Flüsse San Juan und Baudó in den Pazifik. Die\n",
      "\n",
      "Hochgebirge beherbergen die zum Teil aktiven Vulkane Galeras, Nevado del Huila\n",
      "\n",
      "(5.750 m), Nevado del Ruiz (5.400 m), Puracé, Nevado del Tolima (5.215 m) und\n",
      "\n",
      "Nevado de Santa Isabel (4.965 m)\n",
      "\n",
      "\n",
      "\n",
      "Im Norden Kolumbiens, an der Karibikküste gelegen, erhebt sich die 5.775 m hohe\n",
      "\n",
      "Sierra Nevada de Santa Marta, das höchste Küstengebirge der Erde und\n",
      "\n",
      "gleichzeitig die höchste Erhebung Kolumbiens. Die höchsten Gipfel des\n",
      "\n",
      "isolierten pyramidenförmigen Gebirgsmassivs sind der Pico Cristóbal Colón sowie\n",
      "\n",
      "der Pico Simón Bolívar, beide jeweils 5.775 m hoch Klimatisch weist der andine\n",
      "\n",
      "Raum die typische, von Alexander von Humboldt beschriebene Höhenstufung\n",
      "\n",
      "tropischer Hochgebirge auf.\n",
      "\n",
      "\n",
      "\n",
      "Karibisches Küstentiefland\n",
      "\n",
      "\n",
      "\n",
      "Das karibische Küstentiefland Kolumbiens ist weitgehend eben und, vom\n",
      "\n",
      "Küstenstreifen abgesehen, relativ dünn besiedelt. Weite Teile des Tieflandes\n",
      "\n",
      "sind von großflächigen Sumpfgebieten geprägt, die eine Verkehrserschließung\n",
      "\n",
      "erschweren. Kolumbien hat Küsten sowohl am atlantischen wie am pazifischen\n",
      "\n",
      "Ozean. Die bekanntesten Inseln im Atlantik sind der Archipel von San Andrés und\n",
      "\n",
      "Providencia (770 km nordwestlich von Kolumbien), mit den Inseln San Andrés,\n",
      "\n",
      "Providencia, Santa Catalina, Roncador, Quita Sueño, Serrana und Serranilla. Die\n",
      "\n",
      "teils unbewohnten Inseln Roncador, Quita Sueño, Serrana zählten bis in den\n",
      "\n",
      "1980er Jahren zu den Außenbesitzungen der USA, da eine 1972 unterzeichnete\n",
      "\n",
      "Rückgabevereinbarung durch den US-Senat nicht ratifiziert wurde.[3] Der\n",
      "\n",
      "karibischen Küste vorgelagert sind die Insel Fuerte und die Archipele von San\n",
      "\n",
      "Bernardo und del Rosario.\n",
      "\n",
      "\n",
      "\n",
      "Pazifisches Küstentiefland\n",
      "\n",
      "\n",
      "\n",
      "Das pazifische Küstentiefland ist, von wenigen Hafenstädten abgesehen,\n",
      "\n",
      "weitgehend unbesiedelt, was insbesondere auf seine immerfeucht-heißen\n",
      "\n",
      "Klimabedingungen zurückzuführen ist. Pro Jahr können bis zu 10.000 mm\n",
      "\n",
      "Niederschlag fallen. Die Region ist weitgehend mit tropischem Regenwald bedeckt\n",
      "\n",
      "und von einer starken Vielfalt von Flora und Fauna geprägt, was eine\n",
      "\n",
      "Erschließung zusätzlich erschwert. Als einzige Verkehrswege dienen praktisch\n",
      "\n",
      "die natürlichen Wasserstraßen, vor allem der Atrato, der in Richtung Karibik\n",
      "\n",
      "entwässert. Im Pazifik liegen die Inseln Malpelo, westlich von Buenaventura,\n",
      "\n",
      "Gorgona, eine alte Gefängniskolonie und Gorgonilla.\n",
      "\n",
      "\n",
      "\n",
      "Amazonien und Orinokien\n",
      "\n",
      "\n",
      "\n",
      "Die östliche Landeshälfte Kolumbiens ist durch dicht bewaldetes Flachland\n",
      "\n",
      "charakterisiert, durch das die Flüsse Putumayo, Yapura, Meta und Guaviare\n",
      "\n",
      "fließen, die entweder im Orinoco oder im Amazonas münden, und lässt sich in\n",
      "\n",
      "zwei Großräume unterteilen, deren Unterscheidungsmerkmal in erster Linie die\n",
      "\n",
      "Fließrichtung der Flüsse ist. Der Raum mit den Richtung Orinoco entwässernden\n",
      "\n",
      "Flüssen wird als Orinokien bezeichnet. Er ist in Kolumbien auch unter dem Namen\n",
      "\n",
      "Llanos Orientales bekannt. Das Gebiet ist weitgehend eben und weist als\n",
      "\n",
      "einziges Gebirge die Serranía de la Macarena auf, die zwar naturräumlich dem\n",
      "\n",
      "andinen Raum zugerechnet werden kann, jedoch wesentlich älter als die\n",
      "\n",
      "Andenkordilleren ist, was durch ihre nordwest-südöstliche Orientierung\n",
      "\n",
      "dokumentiert wird.  Die Llanos Orientales sind von einer Feuchtsavanne bedeckt,\n",
      "\n",
      "wobei die heftigen Niederschläge der Regenzeit die wenigen Straßen der Region\n",
      "\n",
      "oft unpassierbar machen. Vom Ostfuß der Anden abgesehen, ist das kolumbianische\n",
      "\n",
      "Orinokien weitgehend unbesiedelt.\n",
      "\n",
      "\n",
      "\n",
      "Orinokien weitgehend unbesiedelt.  Das südöstliche Viertel Kolumbiens umfasst\n",
      "\n",
      "den kolumbianischen Teil Amazoniens. Diese Region ist nahezu vollständig von\n",
      "\n",
      "dichtem Regenwald bedeckt, einer extrem hohen Biodiversität geprägt und mit\n",
      "\n",
      "Ausnahme einer Anzahl indigener Bevölkerungsgruppen kaum besiedelt.\n",
      "\n",
      "\n",
      "\n",
      "Die großen Seen Kolumbiens erstrecken sich auf die Anden. Einige sind: Laguna\n",
      "\n",
      "de Guatavita, Laguna de Tota, Laguna de Iguaque und die Laguna de La Cocha.\n",
      "\n",
      "\n",
      "\n",
      "Klima\n",
      "\n",
      "\n",
      "\n",
      "Da der Äquator durch Kolumbien läuft, liegt das Land in der tropischen\n",
      "\n",
      "Klimazone. Der Norden, also die Karibikküste, ist deutlich trockener als der\n",
      "\n",
      "Rest des Landes. Je nach Meereshöhe unterscheidet man vier Klimaregionen. In\n",
      "\n",
      "den Flachländern (Llanos) herrscht tropisches Klima über 24 °C, zwischen 1.000\n",
      "\n",
      "und 2.000 m gemäßigtes Tropenklima (17–24 °C), zwischen 2.000 und 3.000 m\n",
      "\n",
      "kalttropisches (12–17 °C) und in den Bergregionen (Páramos) ab 3.000 m Höhe\n",
      "\n",
      "hochalpines Gletscherklima (unter 12 °C).\n",
      "\n",
      "\n",
      "\n",
      "Die Hauptstadt Bogotá liegt in einer Höhe von 2.600 m über dem Meeresspiegel\n",
      "\n",
      "und hat ein Jahresmittel von 14 °C. Jährlich gibt es zwei Regenzeiten (April\n",
      "\n",
      "und Oktober) und zwei Trockenzeiten, die aber nicht extrem ausfallen.\n",
      "\n",
      "\n",
      "\n",
      "Am Westrand der Anden fällt die größte Menge an Niederschlag. Im südlichen Teil\n",
      "\n",
      "des Landes werden ca. 3.000 mm Niederschlag pro Jahr gemessen, im Norden bis zu\n",
      "\n",
      "10.000 mm. Einige Orte mit einem Niederschlagsvolumen von bis zu 16.000 mm im\n",
      "\n",
      "Jahr gehören zu den regenreichsten Gebieten der Erde.\n",
      "\n",
      "\n",
      "\n",
      "In den östlichen Landesteilen regnet es weniger stark. Die Niederschlagsmenge\n",
      "\n",
      "in den Hochtälern und Hochbecken beträgt aufgrund der Regenschattenseite etwa\n",
      "\n",
      "1.000 mm. Teile der Karibikküste sind aufgrund des Passatwindes sehr regenarm\n",
      "\n",
      "(unter 400 mm Niederschlagsmenge pro Jahr und m2).\n",
      "\n",
      "\n",
      "\n",
      "Die ersten Monate der Trocken- bzw. der Regenzeit sind Dezember und Januar\n",
      "\n",
      "bzw. Mai bis Juli. Die Touristenorte werden allerdings zu dieser Jahreszeit\n",
      "\n",
      "auch von den Kolumbianern rege besucht. Gegen Ende der Trockenzeit ist das Land\n",
      "\n",
      "verdorrt und am Ende der Regenzeit toben die Tropenstürme. Überschwemmungen\n",
      "\n",
      "sind keine Seltenheit. Im Hochland kann es nachts kalt werden.\n",
      "\n",
      "\n",
      "\n",
      "Städte\n",
      "\n",
      "\n",
      "\n",
      "Kolumbiens größte Städte sind die Hauptstadt Bogotá, Medellín, Cali, Cartagena\n",
      "\n",
      "de Indias, Barranquilla, Ibagué, Manizales, Pasto, Cúcuta und Bucaramanga.\n",
      "\n",
      "\n",
      "\n",
      "Umwelt\n",
      "\n",
      "\n",
      "\n",
      "Hinsichtlich der Artenvielfalt pro Flächeneinheit belegt Kolumbien weltweit den\n",
      "\n",
      "zweiten Platz. 10 % der weltweit vorhandenen Arten sind auf kolumbianischem\n",
      "\n",
      "Boden vertreten.\n",
      "\n",
      "\n",
      "\n",
      "53,2 Mio. ha der Fläche Kolumbiens sind mit natürlichen Wäldern bedeckt; 21,6\n",
      "\n",
      "Mio. ha mit anderen Vegetationstypen der Savannen-, Trocken- und Feuchtgebiete;\n",
      "\n",
      "1,1 Mio. mit Gewässern, schneebedeckten Gebirgen, urbanen Siedlungen,\n",
      "\n",
      "wenigstens 38,4 Mio. ha der Fläche Kolumbiens werden landwirtschaftlich\n",
      "\n",
      "bewirtschaftet bzw. erschlossen. Die wichtigsten Ökosysteme Kolumbiens sind die\n",
      "\n",
      "feuchten Tropenwälder (378.000 km²), die Savannenebenen (105.000 km²), Auen und\n",
      "\n",
      "Torfwälder (95.000 km²), der Andenwald (45.000 km²) sowie die Nieder- und\n",
      "\n",
      "Amazonaswälder (36.000 km²).\n",
      "\n",
      "\n",
      "\n",
      "Der größte natürliche Reichtum des Landes ist seine Flora, insgesamt kommen in\n",
      "\n",
      "Kolumbien zwischen 45.000 und 55.000 Pflanzenarten vor, davon allein 3.500\n",
      "\n",
      "Orchideenarten, also 15 % aller auf der Welt existierenden Orchideenarten. Auch\n",
      "\n",
      "das Tierreich ist mit insgesamt 2890 Landwirbeltierarten sehr vielfältig: mit\n",
      "\n",
      "1721 Vogelarten sind 20 % aller weltweit vorkommenden Arten und mit 358\n",
      "\n",
      "Säugetierarten 7 % der weltweit vorkommenden Arten vertreten. Zudem gibt es in\n",
      "\n",
      "Kolumbien 10 % aller Reptilienarten 6 % davon sind Amphibien.\n",
      "\n",
      "\n",
      "\n",
      "Kolumbien verfügt jährlich über 2,1 Mrd. m³ Wasserressourcen, die aus\n",
      "\n",
      "Feuchtgebieten, Sümpfen, Lagunen, Flüssen und anderen fließenden Gewässern\n",
      "\n",
      "stammen und das Grundwasser speisen.\n",
      "\n",
      "\n",
      "\n",
      "Heterogene Bodenbedingungen, unterschiedliche Höhenstufen und Klimazonen, die\n",
      "\n",
      "den Übergang und Kontakt zwischen Amazonas und Anden einschließen, bedingen\n",
      "\n",
      "eine große Biodiversität mit einer hohen Anzahl endemischer Arten. Kolumbien\n",
      "\n",
      "ist eines der Länder mit der größten Artenvielfalt pro Gebietseinheit weltweit:\n",
      "\n",
      "Mit nur 0,7 % Anteil an der weltweiten Festlandsmasse vereinigt das Land 10 %\n",
      "\n",
      "aller Tier- und Pflanzenarten des Planeten auf seinem Staatsgebiet. Obwohl\n",
      "\n",
      "Kolumbien den Schutz seiner natürlichen Ressourcen bereits seit den 1970er\n",
      "\n",
      "Jahren vorantreibt, haben neben natürlichen Umweltkatastrophen (häufig entweder\n",
      "\n",
      "bedingt durch extreme Trocken- oder Regenzeiten) vor allem das dynamische\n",
      "\n",
      "soziale und wirtschaftliche Wachstum und die militärischen Auseinandersetzungen\n",
      "\n",
      "in den letzten Jahrzehnten erhebliche Umweltschäden mit sich gebracht.\n",
      "\n",
      "\n",
      "\n",
      "Mit der Verfassung von 1991 hat sich das Land explizit einer nachhaltigen\n",
      "\n",
      "Entwicklung verschrieben; etwa 60 Verfassungsartikel beziehen sich direkt oder\n",
      "\n",
      "indirekt auf die Umwelt. Den normativen Rahmen für die Ausgestaltung dieser\n",
      "\n",
      "Vorgaben bildet das Gesetz 99 von 1993, durch das ein Umweltministerium als\n",
      "\n",
      "Bestandteil des Nationalen Umweltsystems (Sistema Nacional Ambiental, kurz\n",
      "\n",
      "SINA) geschaffen wurde. Zum SINA gehören neben dem Ministerium unter anderem\n",
      "\n",
      "die Regionalentwicklungsbehörden, die mit dem Management der natürlichen\n",
      "\n",
      "Ressourcen und ihrer nachhaltigen Entwicklung beauftragt sind, städtische\n",
      "\n",
      "Umweltplanungsbehörden und -systeme wie das DAMA in Bogotá und der Ecofondo,\n",
      "\n",
      "der Zusammenschluss aller Umwelt-NGOs. Staatliche Umweltpläne sollen zur\n",
      "\n",
      "Erreichung der ehrgeizigen Ziele beitragen. Allerdings werden den\n",
      "\n",
      "Regionalentwicklungsbehörden unter anderem überhöhte Betriebskosten, fehlende\n",
      "\n",
      "Investitionen in Umweltprogramme und die Aufgabe wieder aufgeforsteter Gebiete\n",
      "\n",
      "vorgeworfen. Diese und andere Mängel sollen deshalb mittels einer\n",
      "\n",
      "weitgreifenden Umweltsektorreform beseitigt werden. Dazu wurde bereits im März\n",
      "\n",
      "2003 ein Gesetzesvorschlag vorgelegt; darüber hinaus wurde das\n",
      "\n",
      "Umweltministerium im April 2003 zum Ministerio de Ambiente, Vivienda y\n",
      "\n",
      "Desarollo Territorial fusioniert. Derzeit gibt es Bestrebungen, die bereits\n",
      "\n",
      "seit Jahrzehnten bestehende Nationalparkverwaltung (UAESPNN – Unidad\n",
      "\n",
      "Administrativa Especial del Sistema de Parques) umzustrukturieren\n",
      "\n",
      "\n",
      "\n",
      "Insgesamt wird die bisherige Umweltpolitik von Präsident Uribe oft als\n",
      "\n",
      "Rückschritt bezeichnet, insbesondere, da die Umwelt- und Naturzerstörung als\n",
      "\n",
      "Folge des bewaffneten Konflikts von Jahr zu Jahr steigt.\n",
      "\n",
      "\n",
      "\n",
      "Biosphärenreservate\n",
      "\n",
      "\n",
      "\n",
      "Die UNESCO erklärte insgesamt fünf Gebiete in Kolumbien zu\n",
      "\n",
      "Biosphärenreservaten.\n",
      "\n",
      "\n",
      "\n",
      "Parque Nacional Natural El Tuparro (seit 1979) Areal in ha: 548000\n",
      "\n",
      "\n",
      "\n",
      "Nudo de los Pastos (seit 1979) Areal in ha: 175300\n",
      "\n",
      "\n",
      "\n",
      "Parque Nacional Natural Sierra Nevada de Santa Marta (seit 1979) Areal in ha:\n",
      "\n",
      "2115800\n",
      "\n",
      "\n",
      "\n",
      "Santuario de fauna y flora Ciénaga Grande de Santa Marta (seit 2000) Areal in\n",
      "\n",
      "ha: 493150\n",
      "\n",
      "\n",
      "\n",
      "Parque Nacional Natural Old Providence (seit 2000) Areal in ha: 5348\n",
      "\n"
     ]
    }
   ],
   "source": [
    "for line in lines:\n",
    "    print(line)"
   ]
  },
  {
   "cell_type": "markdown",
   "metadata": {},
   "source": [
    "La primera linea es:"
   ]
  },
  {
   "cell_type": "code",
   "execution_count": 4,
   "metadata": {},
   "outputs": [
    {
     "data": {
      "text/plain": [
       "'Kolumbien (amtlich República de Colombia, deutsch Republik Kolumbien; Kurzform\\n'"
      ]
     },
     "execution_count": 4,
     "metadata": {},
     "output_type": "execute_result"
    }
   ],
   "source": [
    "primera = lines[0]\n",
    "primera"
   ]
  },
  {
   "cell_type": "markdown",
   "metadata": {},
   "source": [
    "La ultima linea es"
   ]
  },
  {
   "cell_type": "code",
   "execution_count": 5,
   "metadata": {},
   "outputs": [
    {
     "data": {
      "text/plain": [
       "'Parque Nacional Natural Old Providence (seit 2000) Areal in ha: 5348\\n'"
      ]
     },
     "execution_count": 5,
     "metadata": {},
     "output_type": "execute_result"
    }
   ],
   "source": [
    "ultima = lines[-1]\n",
    "ultima"
   ]
  },
  {
   "cell_type": "markdown",
   "metadata": {},
   "source": [
    "Podemos subdividir cada linea en una lista cortada por los espacios"
   ]
  },
  {
   "cell_type": "code",
   "execution_count": 6,
   "metadata": {},
   "outputs": [
    {
     "data": {
      "text/plain": [
       "['Kolumbien',\n",
       " '(amtlich',\n",
       " 'República',\n",
       " 'de',\n",
       " 'Colombia,',\n",
       " 'deutsch',\n",
       " 'Republik',\n",
       " 'Kolumbien;',\n",
       " 'Kurzform']"
      ]
     },
     "execution_count": 6,
     "metadata": {},
     "output_type": "execute_result"
    }
   ],
   "source": [
    "palabras_primera = primera.split()\n",
    "palabras_primera"
   ]
  },
  {
   "cell_type": "code",
   "execution_count": 7,
   "metadata": {},
   "outputs": [
    {
     "data": {
      "text/plain": [
       "['Parque',\n",
       " 'Nacional',\n",
       " 'Natural',\n",
       " 'Old',\n",
       " 'Providence',\n",
       " '(seit',\n",
       " '2000)',\n",
       " 'Areal',\n",
       " 'in',\n",
       " 'ha:',\n",
       " '5348']"
      ]
     },
     "execution_count": 7,
     "metadata": {},
     "output_type": "execute_result"
    }
   ],
   "source": [
    "palabras_ultima = ultima.split()\n",
    "palabras_ultima"
   ]
  },
  {
   "cell_type": "markdown",
   "metadata": {},
   "source": [
    "el numero de palabras en la primera linea"
   ]
  },
  {
   "cell_type": "code",
   "execution_count": 8,
   "metadata": {},
   "outputs": [
    {
     "data": {
      "text/plain": [
       "9"
      ]
     },
     "execution_count": 8,
     "metadata": {},
     "output_type": "execute_result"
    }
   ],
   "source": [
    "len(palabras_primera)"
   ]
  },
  {
   "cell_type": "markdown",
   "metadata": {},
   "source": [
    "El numero de palabras en la ultima linea"
   ]
  },
  {
   "cell_type": "code",
   "execution_count": 9,
   "metadata": {},
   "outputs": [
    {
     "data": {
      "text/plain": [
       "11"
      ]
     },
     "execution_count": 9,
     "metadata": {},
     "output_type": "execute_result"
    }
   ],
   "source": [
    "len(palabras_ultima)"
   ]
  }
 ],
 "metadata": {
  "kernelspec": {
   "display_name": "Python [conda root]",
   "language": "python",
   "name": "conda-root-py"
  },
  "language_info": {
   "codemirror_mode": {
    "name": "ipython",
    "version": 3
   },
   "file_extension": ".py",
   "mimetype": "text/x-python",
   "name": "python",
   "nbconvert_exporter": "python",
   "pygments_lexer": "ipython3",
   "version": "3.5.2"
  }
 },
 "nbformat": 4,
 "nbformat_minor": 2
}
