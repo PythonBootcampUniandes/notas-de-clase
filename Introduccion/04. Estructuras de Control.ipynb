{
 "cells": [
  {
   "cell_type": "markdown",
   "metadata": {},
   "source": [
    "# El condicional (if)\n",
    "\n",
    "Es quizá la estructura de control más utilizada. A continuación presentamos un sencillo ejemplo para observar cómo es su sintaxis en Python:"
   ]
  },
  {
   "cell_type": "code",
   "execution_count": 1,
   "metadata": {
    "collapsed": true
   },
   "outputs": [],
   "source": [
    "def mayor_o_menor(x, y):\n",
    "    if x < y:\n",
    "        print(x, \"es menor que\", y)\n",
    "    elif x > y:\n",
    "        print(x, \"es mayor que\", y)\n",
    "    else:\n",
    "        print(x, \"y\", y, \"son iguales\")"
   ]
  },
  {
   "cell_type": "markdown",
   "metadata": {},
   "source": [
    "Al aplicar esta función a distintos números obtenemos:"
   ]
  },
  {
   "cell_type": "code",
   "execution_count": 2,
   "metadata": {},
   "outputs": [
    {
     "name": "stdout",
     "output_type": "stream",
     "text": [
      "2 es menor que 5\n"
     ]
    }
   ],
   "source": [
    "mayor_o_menor(2, 5)"
   ]
  },
  {
   "cell_type": "code",
   "execution_count": 3,
   "metadata": {},
   "outputs": [
    {
     "name": "stdout",
     "output_type": "stream",
     "text": [
      "100 es mayor que 10\n"
     ]
    }
   ],
   "source": [
    "mayor_o_menor(100, 10)"
   ]
  },
  {
   "cell_type": "code",
   "execution_count": 4,
   "metadata": {},
   "outputs": [
    {
     "name": "stdout",
     "output_type": "stream",
     "text": [
      "1 y 1 son iguales\n"
     ]
    }
   ],
   "source": [
    "mayor_o_menor(1, 1)"
   ]
  },
  {
   "cell_type": "markdown",
   "metadata": {},
   "source": [
    "Algunos de los operadores con los que se pueden hacer comparaciones al momento de usar en `if` son:\n",
    "\n",
    "| Operador | Resultado\n",
    "| -------- | ---------\n",
    "|   ==     | Igualdad\n",
    "|   !=     | No es igual        \n",
    "|   <      | Menor que\n",
    "|   >      | Mayor que\n",
    "|   <=     | Menor o igual\n",
    "|   >=     | Mayor o igual\n",
    "|   not    | Niega una condición\n",
    "|   in     | Verifica si un elemento está en una lista\n",
    "|   and    | Verifica si dos condiciones se cumplen\n",
    "|   or     | Verifica si se cumple al menos una condición\n",
    "|   is     | Verifica si un objeto es igual a otro\n",
    "\n",
    "A excepción de `in` y `not`, todos los demás operadores son similares a los usados en otros lenguajes de programación, por lo que no vamos a mirar ejemplos de ellos. Veamos, por tanto, sólo como funcionan los primeros:"
   ]
  },
  {
   "cell_type": "code",
   "execution_count": 5,
   "metadata": {},
   "outputs": [
    {
     "data": {
      "text/plain": [
       "False"
      ]
     },
     "execution_count": 5,
     "metadata": {},
     "output_type": "execute_result"
    }
   ],
   "source": [
    "3 in [1, 2, 4]"
   ]
  },
  {
   "cell_type": "code",
   "execution_count": 6,
   "metadata": {},
   "outputs": [
    {
     "data": {
      "text/plain": [
       "True"
      ]
     },
     "execution_count": 6,
     "metadata": {},
     "output_type": "execute_result"
    }
   ],
   "source": [
    "3 in [1, 2, 3]"
   ]
  },
  {
   "cell_type": "code",
   "execution_count": 7,
   "metadata": {},
   "outputs": [
    {
     "data": {
      "text/plain": [
       "True"
      ]
     },
     "execution_count": 7,
     "metadata": {},
     "output_type": "execute_result"
    }
   ],
   "source": [
    "not (2 == 5)"
   ]
  },
  {
   "cell_type": "markdown",
   "metadata": {},
   "source": [
    "A través de estos ejemplos también podemos notar que los valores de verdad en Python se escriben como `True` y `False` para verdadero y falso, respectivamente."
   ]
  },
  {
   "cell_type": "markdown",
   "metadata": {},
   "source": [
    "## Problemas"
   ]
  },
  {
   "cell_type": "markdown",
   "metadata": {},
   "source": [
    "### Problema 1\n",
    "\n",
    "Definir una función `absoluto(x)` que tome un número `x` y retorne su valor absoluto, así:\n",
    "\n",
    "```python\n",
    "absoluto(100.22)\n",
    "100.22\n",
    "```\n",
    "\n",
    "```python\n",
    "absoluto(-18.7)\n",
    "18.7\n",
    "```"
   ]
  },
  {
   "cell_type": "code",
   "execution_count": 8,
   "metadata": {
    "collapsed": true
   },
   "outputs": [],
   "source": [
    "# Escribir la solución aquí\n"
   ]
  },
  {
   "cell_type": "markdown",
   "metadata": {},
   "source": [
    "### Problema 2\n",
    "\n",
    "Definir una función `es_divisible_entre_siete(x)` que imprima si un número es o no es divisible entre 7. La función debe *imprimir* resultados como los siguientes:\n",
    "\n",
    "```python\n",
    "es_divisible_entre_siete(12)\n",
    "'12 no es divisible entre 7'\n",
    "```\n",
    "\n",
    "```python\n",
    "es_divisible_entre_siete(14)\n",
    "'14 es divisible entre 7'\n",
    "```\n",
    "\n",
    "```python\n",
    "es_divisible_entre_siete(32)\n",
    "'32 no es divisible entre 7'\n",
    "```\n",
    "\n",
    "```python\n",
    "es_divisible_entre_siete(21)\n",
    "'21 es divisible entre 7'\n",
    "```\n",
    "\n",
    "**Nota**:\n",
    "\n",
    "Utilizar el operador módulo (`%`) para decidir si un número es múltiplo de otro. Este operador retorna el resto de la división entre dos números. Por tanto, si un número divide exactamente a otro, retorna `0`, sino retorna cualquier otro número. Veamos algunos ejemplos:\n",
    "\n",
    "```python\n",
    "12%4\n",
    "0\n",
    "```\n",
    "\n",
    "```python\n",
    "12%6\n",
    "0\n",
    "```\n",
    "\n",
    "```python\n",
    "12%5\n",
    "2\n",
    "```\n",
    "\n",
    "```python\n",
    "25%5\n",
    "0\n",
    "```\n",
    "\n",
    "```python\n",
    "25%6\n",
    "1\n",
    "```"
   ]
  },
  {
   "cell_type": "code",
   "execution_count": 9,
   "metadata": {
    "collapsed": true
   },
   "outputs": [],
   "source": [
    "# Escribir la solución aquí\n"
   ]
  },
  {
   "cell_type": "markdown",
   "metadata": {},
   "source": [
    "### Problema 3\n",
    "\n",
    "Generalizar la función anterior como una nueva función llamada `es_divisible_entre_n(x, n)` que tome dos números enteros e imprima si el primero es divisible entre el segundo, así: (Tomado de *Aprenda a pensar como un programador con Python*)\n",
    "\n",
    "```python\n",
    "es_divisible_entre_n(20, 4)\n",
    "'20 es divisible entre 4'\n",
    "```\n",
    "\n",
    "```python\n",
    "es_divisible_entre_n(36, 5)\n",
    "'36 no es divisible entre 5'\n",
    "```"
   ]
  },
  {
   "cell_type": "markdown",
   "metadata": {},
   "source": [
    "### Problema 8\n",
    "\n",
    "Definir una función `agregar_nuevo(li, x)` que reciba una lista y un elemento, y retorne una nueva lista en la que esté añadido el elemento, pero sólo si éste **no** hace parte de la lista original (Tomado de *Introducción a Mathematica* del Prof. Jurgen Tischer).\n",
    "\n",
    "Por ejemplo, algunos resultados de esta función son:\n",
    "\n",
    "```python\n",
    "agregar_nuevo([3,9,6], 11)\n",
    "[3, 9, 6, 11]\n",
    "```\n",
    "\n",
    "```python\n",
    "agregar_nuevo([3,9,6], 9)\n",
    "[3, 9, 6]\n",
    "```"
   ]
  },
  {
   "cell_type": "markdown",
   "metadata": {},
   "source": [
    "# El ciclo for\n",
    "\n",
    "En Python `for` se utiliza para moverse (o iterar) entre los elementos de una secuencia de datos. Su sintaxis es más sencilla que la usada en C o C++, porque en lugar de utilizar un contador cuyo valor va aumentando o disminuyendo durante el ciclo, se toma una secuencia completa (i.e. una lista, una tupla, o una cadena), y se recorren sus elementos en el orden en que aparecen en ella.\n",
    "\n",
    "Observemos algunos ejemplos:"
   ]
  },
  {
   "cell_type": "code",
   "execution_count": 10,
   "metadata": {},
   "outputs": [
    {
     "name": "stdout",
     "output_type": "stream",
     "text": [
      "3\n",
      "9\n",
      "12\n",
      "4\n"
     ]
    }
   ],
   "source": [
    "for x in [3, 9, 12, 4]:\n",
    "    print(x)"
   ]
  },
  {
   "cell_type": "code",
   "execution_count": 11,
   "metadata": {},
   "outputs": [
    {
     "name": "stdout",
     "output_type": "stream",
     "text": [
      "Jack\n",
      "Kack\n",
      "Lack\n",
      "Mack\n",
      "Nack\n",
      "Oack\n",
      "Pack\n",
      "Qack\n"
     ]
    }
   ],
   "source": [
    "prefijos = \"JKLMNOPQ\"\n",
    "sufijo = \"ack\"\n",
    "for letra in prefijos:\n",
    "    print(letra + sufijo)"
   ]
  },
  {
   "cell_type": "code",
   "execution_count": 12,
   "metadata": {},
   "outputs": [
    {
     "name": "stdout",
     "output_type": "stream",
     "text": [
      "0\n",
      "1\n",
      "4\n",
      "9\n",
      "16\n",
      "25\n",
      "36\n",
      "49\n",
      "64\n",
      "81\n"
     ]
    }
   ],
   "source": [
    "for i in range(10):\n",
    "    print(i**2)"
   ]
  },
  {
   "cell_type": "markdown",
   "metadata": {},
   "source": [
    "`range` es un comando que se utiliza muy a menudo junto a los ciclos `for`, pues sirve para generar una lista con todos los números desde 0 hasta cierto valor. También puede usarse con dos valores, uno como límite inferior y el otro como límite superior, así:\n",
    "\n",
    "**Nota**:\n",
    "\n",
    "En Python 3 `range` genera un objeto de tipo `range` en lugar de una lista, por razones de eficiencia. Por ello hay que convertirlo a una lista para observar lo que contiene."
   ]
  },
  {
   "cell_type": "code",
   "execution_count": 13,
   "metadata": {},
   "outputs": [
    {
     "data": {
      "text/plain": [
       "[0, 1, 2, 3, 4, 5, 6, 7, 8, 9]"
      ]
     },
     "execution_count": 13,
     "metadata": {},
     "output_type": "execute_result"
    }
   ],
   "source": [
    "list(range(10))"
   ]
  },
  {
   "cell_type": "markdown",
   "metadata": {},
   "source": [
    "`range` no sólo acepta un único argumento. Al evaluarlo con dos argumentos, genera una lista desde el valor inicial, hasta uno antes del valor final"
   ]
  },
  {
   "cell_type": "code",
   "execution_count": 14,
   "metadata": {},
   "outputs": [
    {
     "data": {
      "text/plain": [
       "[1, 2, 3, 4, 5, 6, 7, 8, 9, 10, 11, 12, 13, 14, 15, 16, 17, 18, 19]"
      ]
     },
     "execution_count": 14,
     "metadata": {},
     "output_type": "execute_result"
    }
   ],
   "source": [
    "list(range(1, 20))"
   ]
  },
  {
   "cell_type": "markdown",
   "metadata": {},
   "source": [
    "Y con un tercer argumento, `range` genera una lista con valores espaciados según el tercer argumento"
   ]
  },
  {
   "cell_type": "code",
   "execution_count": 15,
   "metadata": {},
   "outputs": [
    {
     "data": {
      "text/plain": [
       "[7, 10, 13, 16, 19, 22]"
      ]
     },
     "execution_count": 15,
     "metadata": {},
     "output_type": "execute_result"
    }
   ],
   "source": [
    "list(range(7, 25, 3))"
   ]
  },
  {
   "cell_type": "markdown",
   "metadata": {},
   "source": [
    "Dado que no es fácil recordar como funciona `range`, su ayuda puede consultarse interactivamente al evaluar su nombre, seguido de `?`, así:"
   ]
  },
  {
   "cell_type": "code",
   "execution_count": 16,
   "metadata": {
    "collapsed": true
   },
   "outputs": [],
   "source": [
    "range?"
   ]
  },
  {
   "cell_type": "markdown",
   "metadata": {},
   "source": [
    "## Problemas"
   ]
  },
  {
   "cell_type": "markdown",
   "metadata": {},
   "source": [
    "### Problema 9\n",
    "\n",
    "Construir un ciclo ``for`` que imprima todos los números pares de 1 a 100."
   ]
  },
  {
   "cell_type": "code",
   "execution_count": 17,
   "metadata": {
    "collapsed": true
   },
   "outputs": [],
   "source": [
    "# Escribir la solución aquí\n"
   ]
  },
  {
   "cell_type": "markdown",
   "metadata": {},
   "source": [
    "### Problema 10\n",
    "\n",
    "Definir una función `es_primo` que tome un número `x` y verifique si es divisible entre todos los números menores a `x`. Si lo es, entonces debe retornar `False` y si no `True`. Por ejemplo:\n",
    "\n",
    "```python\n",
    "es_primo(10)\n",
    "False\n",
    "```\n",
    "\n",
    "```python\n",
    "es_primo(17)\n",
    "True\n",
    "```\n",
    "\n",
    "```python\n",
    "es_primo(15)\n",
    "False\n",
    "```\n",
    "\n",
    "```python\n",
    "es_primo(23)\n",
    "True\n",
    "```\n",
    "\n",
    "**Nota**:\n",
    "\n",
    "Modificar la función `es_divisible_entre_n` para que en lugar de imprimir oraciones, retorne `True` o `False`, y después utilizarla como parte del enunciado de la función `es_primo`."
   ]
  },
  {
   "cell_type": "code",
   "execution_count": 18,
   "metadata": {
    "collapsed": true
   },
   "outputs": [],
   "source": [
    "# Escribir la solución aquí\n"
   ]
  },
  {
   "cell_type": "markdown",
   "metadata": {},
   "source": [
    "### Problema 11\n",
    "\n",
    "Optimizar la función anterior, respondiendo a la siguiente pregunta: ¿Es necesario revisar todos los números menores a `x` para verificar si `x` es divisible entre todos ellos? ¿Hasta qué número es en realidad necesario revisar?\n",
    "\n",
    "Para ello, definir una nueva función `es_primo_veloz` y comparar los tiempos de ejecución entre ella y `es_primo` usando el comando `%timeit`, así:\n",
    "\n",
    "```python\n",
    "%timeit es_primo(600)\n",
    "100000 loops, best of 3: 18.2 us per loop\n",
    "```\n",
    "\n",
    "```ipython\n",
    "%timeit es_primo_veloz(600)\n",
    "100000 loops, best of 3: 7.62 us per loop\n",
    "```\n"
   ]
  },
  {
   "cell_type": "code",
   "execution_count": 19,
   "metadata": {
    "collapsed": true
   },
   "outputs": [],
   "source": [
    "# Escribir la solución aquí\n"
   ]
  },
  {
   "cell_type": "markdown",
   "metadata": {},
   "source": [
    "### Problema 12\n",
    "\n",
    "Definir una función `desv_est` que calcule la desviación estándar de una lista, usando la fórmula:\n",
    "\n",
    "$$s=\\sqrt{\\frac{\\sum_{i=1}^{n}\\left(x_{i}-\\bar{x}\\right)^{2}}{n-1}}$$\n",
    "\n",
    "donde $\\bar{x}$ es el promedio y $n$ es el número total de datos.\n",
    "\n",
    "Por ejemplo, la desviación estándar de la siguiente lista:"
   ]
  },
  {
   "cell_type": "code",
   "execution_count": 20,
   "metadata": {
    "collapsed": true
   },
   "outputs": [],
   "source": [
    "li = [48.38,  27.6 ,  32.46,  51.94,  47.43,  48.61,  34.38,  48.98,\\\n",
    "      48.86,  41.45,  56.55,  25.46,  27.03,  36.72,  48.03,  36.86,\\\n",
    "      42.58,  44.44,  56.12,  43.86,  44.42,  42.92,  41.43,  22.81,\\\n",
    "      36.55,  50.89,  29.93,  47.61,  63.91,  53.98,  42.64,  27.18,\\\n",
    "      29.93,  31.51]"
   ]
  },
  {
   "cell_type": "markdown",
   "metadata": {},
   "source": [
    "debe dar como resultado\n",
    "\n",
    "```python\n",
    "desv_est(li)\n",
    "10.193054313544058\n",
    "```"
   ]
  },
  {
   "cell_type": "markdown",
   "metadata": {},
   "source": [
    "### Problema 13\n",
    "\n",
    "Definir una función `rango_intercuartil` que calcule el rango intercuartil de una lista. Recordar que éste se define como:\n",
    "\n",
    "$$RI = Q_{3} - Q_{1}$$\n",
    "\n",
    "donde $Q_{3}$ es la mediana de los datos mayores a la mediana y $Q_{1}$ es la mediana de los datos menores a la mediana.\n",
    "\n",
    "Por ejemplo, para la la lista del problema anterior, el rango intercuartil es igual a:\n",
    "\n",
    "```python\n",
    "rango_intercuartil(li)\n",
    "16.15\n",
    "```\n",
    "\n",
    "**Notas**:\n",
    "\n",
    "* Utilizar la función `mediana` definida en el último problema de la sección anterior.\n",
    "\n",
    "* Dividir la lista original en dos listas `li1` y `li2` que contengan los elementos menores y mayores a la mediana, respectivamente, y calcularles a éstas nuevamente la mediana para obtener $Q_{3}$ y $Q_{1}$.\n",
    "\n",
    "    Para ello, definir `li1 = []` y `li2 = []` para que empiecen siendo listas vacías y utilizar el método `append` de cada una para añadirles los elementos correspondientes."
   ]
  },
  {
   "cell_type": "code",
   "execution_count": 21,
   "metadata": {
    "collapsed": true
   },
   "outputs": [],
   "source": [
    "# Escribir la solución aquí\n"
   ]
  },
  {
   "cell_type": "markdown",
   "metadata": {},
   "source": [
    "# El ciclo while\n",
    "\n",
    "Finalmente vamos a mirar la sintaxis del comando `while`, que si bien no es tan usado como los dos anteriores, es muy útil porque permite recorrer los elementos de una lista, tupla o cadena por medio de su índice. Esto es algo que no puede hacerse con mucha naturalidad con `for`, que está ideado para recorrer los elementos directamente, sin tener que preocuparse por sus posiciones.\n",
    "\n",
    "Además, con `while` no es necesario definir un límite superior para realizar un ciclo, como si hay que hacerlo con `for`.\n",
    "\n",
    "Miremos un par de ejemplos:\n",
    "\n",
    "**(1)** En este primer ejemplo, imprimimos la lista de todos los elementos de una lista `li`, pero seleccionándolos de `li` por medio de su índice."
   ]
  },
  {
   "cell_type": "code",
   "execution_count": 22,
   "metadata": {},
   "outputs": [
    {
     "name": "stdout",
     "output_type": "stream",
     "text": [
      "3\n",
      "6\n",
      "9\n",
      "11\n"
     ]
    }
   ],
   "source": [
    "li = [3, 6, 9, 11]\n",
    "i = 0\n",
    "while i < 4:\n",
    "    print(li[i])\n",
    "    i += 1"
   ]
  },
  {
   "cell_type": "markdown",
   "metadata": {},
   "source": [
    "En la última línea pueden verse un ejemplo de asignación abreviada, pues en lugar de escribir ``i = i+1``, escribimos ``i += 1``, lo cual es similar a como se hace en C o C++. Otras abreviaciones que funcionan en Python son:\n",
    "\n",
    "    -=, *=, /=, y %=\n",
    "\n",
    "**Nota**:\n",
    "\n",
    "¿Cuál es el efecto de `%=` en una asignación abreviada?"
   ]
  },
  {
   "cell_type": "markdown",
   "metadata": {},
   "source": [
    "**(2)** En este ejemplo vamos a imprimir los 20 primeros números que son divisibles entre 4."
   ]
  },
  {
   "cell_type": "code",
   "execution_count": 23,
   "metadata": {},
   "outputs": [
    {
     "name": "stdout",
     "output_type": "stream",
     "text": [
      "1 4\n",
      "2 8\n",
      "3 12\n",
      "4 16\n",
      "5 20\n",
      "6 24\n",
      "7 28\n",
      "8 32\n",
      "9 36\n",
      "10 40\n",
      "11 44\n",
      "12 48\n",
      "13 52\n",
      "14 56\n",
      "15 60\n",
      "16 64\n",
      "17 68\n",
      "18 72\n",
      "19 76\n",
      "20 80\n"
     ]
    }
   ],
   "source": [
    "def es_divisible_entre_n(x, n):\n",
    "    if (x%n) == 0:\n",
    "        return True\n",
    "    else:\n",
    "        return False\n",
    "i = 1\n",
    "j = 1\n",
    "while i <= 20:\n",
    "    if es_divisible_entre_n(j, 4):\n",
    "        print(i,j)\n",
    "        i += 1\n",
    "    j += 1"
   ]
  },
  {
   "cell_type": "markdown",
   "metadata": {},
   "source": [
    "En este caso vemos cómo usar dos contadores en el ciclo, uno (`i`) para poder detenerlo cuando se haya obtenido el veinteavo número divisible entre 4, y otro (`j`) para movernos entre los números mayores a `1` y revisar cuáles de ellos son divisibles entre 4."
   ]
  },
  {
   "cell_type": "markdown",
   "metadata": {},
   "source": [
    "## Problemas"
   ]
  },
  {
   "cell_type": "markdown",
   "metadata": {},
   "source": [
    "### Problema 14\n",
    "\n",
    "Definir una función `cuenta_atras(n)` que tome un número entero `n` e imprima todos los números desde `n` hasta `1` usando un ciclo `while`. Además, después de imprimir `1`, debe imprimir `Este es el fin!`."
   ]
  },
  {
   "cell_type": "code",
   "execution_count": 24,
   "metadata": {
    "collapsed": true
   },
   "outputs": [],
   "source": [
    "# Escribir la solución aquí\n"
   ]
  },
  {
   "cell_type": "markdown",
   "metadata": {},
   "source": [
    "### Problema 15\n",
    "\n",
    "Dada la siguiente cadena:\n",
    "\n",
    "```python\n",
    "s = \"jhkdaskduwqludhlasdklashdihlasdhljakhuekysbvjkasdhlasdkhlashkdedlahskdlkbasmndkm\"\n",
    "```\n",
    "\n",
    "Imprimir en qué posiciones se encuentra la letra ``k``, usando un ciclo `while`.\n",
    "\n",
    "*Respuesta*:\n",
    "    \n",
    "    2, 6, 19, 35, 39, 45, 54, 60, 68, 71, 78"
   ]
  },
  {
   "cell_type": "code",
   "execution_count": 25,
   "metadata": {
    "collapsed": true
   },
   "outputs": [],
   "source": [
    "# Escribir la solución aquí\n"
   ]
  },
  {
   "cell_type": "markdown",
   "metadata": {},
   "source": [
    "### Problema 16\n",
    "\n",
    "Utilizar la función `es_primo_veloz` para definir una función `lista_de_primos(n)` que genere la lista de los `n` primeros números primos. Para que puedan comparar, a continuación aparece la lista de los 20 primeros:\n",
    "\n",
    "```python\n",
    "lista_de_primos(20)\n",
    "[2, 3, 5, 7, 11, 13, 17, 19, 23, 29, 31, 37, 41, 43, 47, 53, 59, 61, 67, 71]\n",
    "```\n",
    "\n",
    "**Nota**:\n",
    "\n",
    "Definir una lista vacía y utilizar su método `append` para añadirle los números primos que vayamos encontrando."
   ]
  },
  {
   "cell_type": "code",
   "execution_count": 26,
   "metadata": {
    "collapsed": true
   },
   "outputs": [],
   "source": [
    "# Escribir la solución aquí\n"
   ]
  },
  {
   "cell_type": "markdown",
   "metadata": {},
   "source": [
    "### Problema 17\n",
    "\n",
    "Usar la función `digitos`, definida en el Problema 3. de la sección anterior, para encontrar el primer número de 4 cifras que sea divisible entre 8 y cuya primera y última cifras sean iguales.\n",
    "\n",
    "*Respuesta*:\n",
    "\n",
    "    2032\n",
    "\n",
    "**Nota**:\n",
    "\n",
    "Definir dos contadores: uno que empiece en `1000` para ir revisando todos los números de 4 cifras, y otro para detener el ciclo `while` tan pronto se encuentre el primer número que cumpla la condición deseada."
   ]
  },
  {
   "cell_type": "code",
   "execution_count": 27,
   "metadata": {
    "collapsed": true
   },
   "outputs": [],
   "source": [
    "# Escribir la solución aquí\n"
   ]
  }
 ],
 "metadata": {
  "kernelspec": {
   "display_name": "Python [default]",
   "language": "python",
   "name": "python3"
  },
  "language_info": {
   "codemirror_mode": {
    "name": "ipython",
    "version": 3
   },
   "file_extension": ".py",
   "mimetype": "text/x-python",
   "name": "python",
   "nbconvert_exporter": "python",
   "pygments_lexer": "ipython3",
   "version": "3.5.2"
  }
 },
 "nbformat": 4,
 "nbformat_minor": 1
}
