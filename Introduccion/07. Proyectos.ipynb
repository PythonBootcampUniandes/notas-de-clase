{
 "cells": [
  {
   "cell_type": "markdown",
   "metadata": {},
   "source": [
    "# Proyectos"
   ]
  },
  {
   "cell_type": "markdown",
   "metadata": {},
   "source": [
    "## Proyecto 1 - Construir la tabla de intereses para el pago de un préstamo al banco\n",
    "\n",
    "La idea de este proyecto es determinar cuál es la forma en que una persona le cancela un préstamo a un banco. Para ello es necesario definir una función que imprima una tabla de pagos, como la que aparece abajo\n",
    "\n",
    "Los argumentos de la función son:\n",
    "\n",
    "1. El valor del préstamo\n",
    "2. El valor de la cuota\n",
    "3. Los intereses que el banco va a cobrarle.\n",
    "\n",
    "**Nota**: Se asume que los intereses son compuestos, i.e. que se recalculan sobre el capital restante en cada mes.\n",
    "\n",
    "----\n",
    "\n",
    "Por ejemplo, si una persona pide un préstamo de 40 millones, y debe cancelar una cuota fija de 600 mil pesos mensuales a un interés del 10% anual, el programa deberá retornar una tabla como la siguiente:\n",
    "\n",
    "\n",
    "| Cuota | Valor Cuota | Pago Intereses | Abono Capital | Saldo\n",
    "| ----- | ----------- | -------------- | ------------- | -----\n",
    "|   1\t|   600000\t  |    333333\t   |    266667\t   | 39733333\n",
    "|   2\t|   600000\t  |    331111\t   |    268889\t   | 39464444\n",
    "|   3\t|   600000\t  |    328870\t   |    271130     | 39193315\n",
    "|   4\t|   600000\t  |    326611\t   |    273389\t   | 38919926\n",
    "|   5\t|   600000\t  |    324333\t   |    275667\t   | 38644258\n",
    "|   6\t|   600000\t  |    322035\t   |    277965\t   | 38366294\n",
    "|   7\t|   600000\t  |    319719\t   |    280281\t   | 38086013\n",
    "|   8\t|   600000\t  |    317383\t   |    282617\t   | 37803397\n",
    "|   9\t|   600000\t  |    315028\t   |    284972\t   | 37518425\n",
    "|   10\t|   600000\t  |    312654\t   |    287346\t   | 37231078\n",
    "|   11\t|   600000\t  |    310259\t   |    289741\t   | 36941337\n",
    "|   12\t|   600000\t  |    307844\t   |    292156\t   | 36649182\n",
    "|   13\t|   600000\t  |    305410\t   |    294590\t   | 36354592\n",
    "|   14\t|   600000\t  |    302955\t   |    297045\t   | 36057547\n",
    "|   15\t|   600000\t  |    300480\t   |    299520\t   | 35758026\n",
    "|   16\t|   600000\t  |    297984\t   |    302016\t   | 35456010\n",
    "|   17\t|   600000\t  |    295467\t   |    304533\t   | 35151476\n",
    "|   18\t|   600000\t  |    292929\t   |    307071\t   | 34844405\n",
    "|   19\t|   600000\t  |    290370\t   |    309630\t   | 34534775\n",
    "|   20\t|   600000\t  |    287790\t   |    312210\t   | 34222565\n",
    "\n",
    " \n",
    "Como puede verse, del valor de la cuota una parte va al pago de **intereses** y otra parte se abona al **capital**. Este último valor se resta de los 40 millones de préstamo iniciales para encontrar el **saldo** que aún le debe la persona al banco.\n",
    "\n",
    "Es muy importante tener en cuenta que es sobre este nuevo saldo es que se calculan los intereses y el abono a capital para el siguiente mes. Así que, aún si la persona cancela la **misma** cuota durante el tiempo que dure el préstamo, la cantidad de dinero que uno paga en intereses y en capital va variando según el saldo, pues mientras los primeros van disminuyendo, el segundo va aumentando."
   ]
  },
  {
   "cell_type": "code",
   "execution_count": null,
   "metadata": {
    "collapsed": true
   },
   "outputs": [],
   "source": [
    "# Escribir la solución aquí\n"
   ]
  },
  {
   "cell_type": "code",
   "execution_count": null,
   "metadata": {
    "collapsed": true
   },
   "outputs": [],
   "source": [
    "# Evaluar la función aquí\n"
   ]
  },
  {
   "cell_type": "markdown",
   "metadata": {},
   "source": [
    "## Proyecto 2 - Identificar el lenguaje de un texto\n",
    "\n",
    "En organizaciones que deben manejar gran cantidad de documentos en distintos idiomas (por ejemplo la ONU), es común el uso de programas que permiten identificar el lenguaje en que está escrito un documento (inglés, español, alemán, etc), sin la intervención de un ser humano.\n",
    "\n",
    "Hay varias técnicas para hacerlo, pero una de las más sencillas consiste en contar cuántas veces se repiten varias palabras clave en el texto, como artículos, conjunciones y preposiciones. Lo que ocurre es que cada lenguaje tiene unas palabras que se repiten más que otras, por lo que al contar su frecuencia es posible determinar el origen de un texto.\n",
    "\n",
    "A continuación podemos ver cuáles son las palabras más usadas en distintos lenguajes:\n",
    "\n",
    "| Inglés | Francés | Alemán | Italiano | Portugués | Español\n",
    "| ------ | ------- | ------ | -------- | --------- | -------\n",
    "| the\t | de\t   | der\t|  di\t   |  de\t   | de\n",
    "| and\t | la\t   | die\t|  e\t   |  a\t       | la\n",
    "| to\t | le\t   | und\t|  il\t   |  que\t   | que\n",
    "| of\t | et\t   | den\t|  che\t   |  o\t       | el\n",
    "| a\t     | des\t   | in\t    | la\t   |  e\t       | en\n",
    "| in\t | les\t   | von\t|  a\t   |  do\t   | y\n",
    "| was\t | du\t   | .\t    | in\t   |  da\t   | a\n",
    "| his\t | \"\t   | zu\t    | per\t   |  no\t   | los\n",
    "| that\t | en\t   | dem\t| del\t   |  um\t   | del\n",
    "| I\t     | un\t   | ,\t    | un\t   |  em\t   | se\n",
    "| he\t | que\t   | fr\t    | non\t   |  para\t   | por\n",
    "| as\t | a\t   | mit\t| i\t       | com\t   | las\n",
    "| had\t | qui\t   | das\t|  si\t   |  se\t   | con\n",
    "| with\t | dans\t   | des\t|  le\t   |  os\t   | un\n",
    "| it\t |         | ist\t|   \t   |   \t       | para\n",
    "\n",
    "\n",
    "Este proyecto consiste en escribir una función que lea y analice las archivos que aparecen a continuación, y que identifique correctamente el lenguaje en el que están escritos, de acuerdo a la técnica mencionada arriba.\n",
    "\n",
    "* [Texto 1](https://github.com/PythonBootcampUniandes/notas-de-clase/raw/master/Introduccion/Textos/1.txt)\n",
    "* [Texto 2](https://github.com/PythonBootcampUniandes/notas-de-clase/raw/master/Introduccion/Textos/2.txt)\n",
    "* [Texto 3](https://github.com/PythonBootcampUniandes/notas-de-clase/raw/master/Introduccion/Textos/3.txt)\n",
    "\n",
    "**Notas**:\n",
    "\n",
    "1. Hacer click derecho sobre los links que aparecen arriba y seleccionar **Guardar enlace como**, y guardar los archivos en el mismo directorio de este notebook.\n",
    "2. Usar la función `open` de la librería `codecs`, de la forma:\n",
    "\n",
    "    ```python\n",
    "    f = codecs.open(\"1.txt\", \"r\", \"utf-8\")\n",
    "    ```\n",
    "\n",
    "    para cargar un archivo en memoria. Después utilizar el método `readlines` de `file` para extraer sus líneas."
   ]
  },
  {
   "cell_type": "code",
   "execution_count": null,
   "metadata": {
    "collapsed": true
   },
   "outputs": [],
   "source": [
    "# Escribir la solución aquí\n"
   ]
  },
  {
   "cell_type": "code",
   "execution_count": null,
   "metadata": {
    "collapsed": true
   },
   "outputs": [],
   "source": [
    "# Evaluar la función aquí\n"
   ]
  },
  {
   "cell_type": "markdown",
   "metadata": {},
   "source": [
    "## Proyecto 3 -  Simular un autómata celular elemental\n",
    "\n",
    "Los autómatas celulares son el equivalente discreto de las ecuaciones diferenciales parciales, pues el espacio, el tiempo y los valores de las variables de estado sólo pueden tomar ciertos valores en el conjunto de los enteros. Han sido bastante estudiados en los últimos 30 años porque con ellos se han podido simular con éxito gran cantidad de fenómenos físicos.\n",
    "\n",
    "Los autómatas celulares más sencillos que existen son los [autómatas elementales](http://en.wikipedia.org/wiki/Elementary_cellular_automaton), en los que el espacio es una grilla unidimensional, en la que cada sitio del espacio sólo puede tomar los valores 0 o 1, y el tiempo avanza en pasos de una unidad.\n",
    "\n",
    "Para simularlo, el estado del autómata se define como una lista de 0's y 1's, así:\n",
    "\n",
    "```python\n",
    "[0, 0, 0, 0, 1, 1, 0, 1, 0]\n",
    "```\n",
    "\n",
    "Esta lista se modifica en el siguiente paso de tiempo según una regla que le asigna un nuevo valor a cada sitio de acuerdo a los valores que posea el mismo y sus vecinos a izquierda y derecha. Hay muchas de estas reglas, pero una de las más conocidas se llama la *regla 30*, y corresponde a la tabla que se aprecia a continuación:\n",
    "más \n",
    "| | | | | | | | |\n",
    "|-|-|-|-|-|-|-|-|\n",
    "| Estado actual\t                       | 111 | 110 | 101 | 100 | 011 | 010 | 001 | 000\n",
    "| Nuevo estado para el sitio central   |  0  | 0   | 0   | 1   | 1   | 1   | 1   | 0\n",
    "\n",
    "Según esta regla, la lista anterior toma el siguiente valor después de aplicársela:\n",
    "\n",
    "```python\n",
    "[0, 0, 0, 1, 1, 0, 0, 1, 1]\n",
    "```\n",
    "\n",
    "en donde se han tomado condiciones de frontera periódicas para poder obtener los valores de los extremos.\n",
    "\n",
    "El objetivo de este proyecto es definir una serie de funciones que simulen la evolución de este autómata celular.\n",
    "\n",
    "**Notas**:\n",
    "\n",
    "1. Definir un diccionario llamado `regla` para guardar la regla del autómata.\n",
    "2. Definir una función llamada `paso`, que tome una lista de unos y ceros, y le aplique la regla guardada en el diccionario.\n",
    "3. Definir una función llamada `evolucion`, que tome una lista inicial de unos y ceros, y le aplique la función `paso` sucesivamente un número `n` de veces. El resultado de `paso` se debe guardar en una lista cuyo primer elemento es la lista inicial. `evolucion` debe retornar esta lista de listas, que contiene la evolución total del autómata.\n",
    "\n",
    "----\n",
    "\n",
    "Una vez que se cuente con estas funciones, se debe definir una función adicional llamada `imprima_evolucion` que imprima la evolucion de un autómata celular, usando cadenas para obtener una imagen similar a [esta](http://upload.wikimedia.org/wikipedia/commons/9/9d/CA_rule30s.png).\n",
    "\n",
    "**Notas**\n",
    "\n",
    "1. La función debe recibir la lista de listas generada por `evolucion`.\n",
    "2. En un ciclo `for` que itere sobre esta entrada, realizar las siguientes operaciones:\n",
    "    1. Convertir los 1's a `'x'` y los ceros a `' '` (espacios en blanco) en la sublista.\n",
    "    2. Usar el método `join` de una cadena vacía (i.e. `''`) para convertir la sublista en una sola cadena.\n",
    "    3. Usar `print` para imprimir la cadena anterior."
   ]
  },
  {
   "cell_type": "code",
   "execution_count": null,
   "metadata": {
    "collapsed": true
   },
   "outputs": [],
   "source": [
    "# Escribir el diccionario aquí\n"
   ]
  },
  {
   "cell_type": "code",
   "execution_count": null,
   "metadata": {
    "collapsed": true
   },
   "outputs": [],
   "source": [
    "# Escribir la función paso aquí\n"
   ]
  },
  {
   "cell_type": "code",
   "execution_count": null,
   "metadata": {
    "collapsed": true
   },
   "outputs": [],
   "source": [
    "# Escribir la función evolucion aquí\n"
   ]
  },
  {
   "cell_type": "code",
   "execution_count": null,
   "metadata": {
    "collapsed": true
   },
   "outputs": [],
   "source": [
    "# Escribir la función imprima_automata aquí\n"
   ]
  },
  {
   "cell_type": "code",
   "execution_count": null,
   "metadata": {
    "collapsed": true
   },
   "outputs": [],
   "source": [
    "# Evaluar imprima_automata aquí\n"
   ]
  }
 ],
 "metadata": {
  "kernelspec": {
   "display_name": "Python 3",
   "language": "python",
   "name": "python3"
  },
  "language_info": {
   "codemirror_mode": {
    "name": "ipython",
    "version": 3
   },
   "file_extension": ".py",
   "mimetype": "text/x-python",
   "name": "python",
   "nbconvert_exporter": "python",
   "pygments_lexer": "ipython3",
   "version": "3.5.2+"
  }
 },
 "nbformat": 4,
 "nbformat_minor": 1
}
