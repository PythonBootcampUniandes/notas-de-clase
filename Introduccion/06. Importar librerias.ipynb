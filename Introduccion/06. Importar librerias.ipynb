{
 "cells": [
  {
   "cell_type": "markdown",
   "metadata": {},
   "source": [
    "# Importar librerías\n",
    "\n",
    "Python posee un gran variedad de librerías para todo tipo de usos, desde la creación y apertura de archivos en cualquier sistema operativo hasta la extracción de datos en archivos de Word o Excel, pasando por el manejo y análisis de enormes cantidades de información provenientes de la bolsa de valores o de experimentos astronómicos, climáticos o biológicos.\n",
    "\n",
    "La ventaja de Python sobre otros lenguajes de programación es que posee un avanzado mecanismo para importar librerías o comandos específicos de alguna de ellas, lo que hace muy sencillo usarlas para beneficio del programador. A continuación veremos las distintas formas en que puede hacerse esto."
   ]
  },
  {
   "cell_type": "markdown",
   "metadata": {},
   "source": [
    "## Usando `import`\n",
    "\n",
    "La primera opción, y la más sencilla, es usar el comando `import` seguido del nombre la librería, así:\n",
    "\n",
    "```python\n",
    "import math\n",
    "```\n",
    "\n",
    "Cuando querramos usar algún comando de la librería, debemos llamarla por su nombre seguido de un punto (`.`) y la tecla <kbd>Tab</kbd>. Inmediatamente deberá aparecer una lista con las funciones que hacen parte de la misma. así:"
   ]
  },
  {
   "cell_type": "code",
   "execution_count": null,
   "metadata": {
    "collapsed": true
   },
   "outputs": [],
   "source": [
    "import math"
   ]
  },
  {
   "cell_type": "code",
   "execution_count": null,
   "metadata": {
    "collapsed": true
   },
   "outputs": [],
   "source": [
    "math."
   ]
  },
  {
   "cell_type": "markdown",
   "metadata": {},
   "source": [
    "Como `math` es la librería de funciones matemáticas básicas de Python, podemos utilizarla para calcular el $\\textrm{sin}(\\pi/2)$, por ejemplo:"
   ]
  },
  {
   "cell_type": "code",
   "execution_count": null,
   "metadata": {},
   "outputs": [],
   "source": [
    "math.sin(math.pi/2)"
   ]
  },
  {
   "cell_type": "markdown",
   "metadata": {},
   "source": [
    "## Usando `from`\n",
    "\n",
    "Otra opción es sólo llamar un comando específico de una librería determinada. Para ello usamos la siguiente sintaxis:\n",
    "\n",
    "```python\n",
    "from math import sin\n",
    "```\n",
    "\n",
    "En este caso sólo se carga el comando `sin`, sin cargar el resto de la librería. Esto puede ser muy ventajoso cuando la librería es grande y sólo queremos utilizar una pequeña funcionalidad de la misma. Otra ventaja es que no es necesario usar el nombre de la librería antes del comando."
   ]
  },
  {
   "cell_type": "code",
   "execution_count": null,
   "metadata": {
    "collapsed": true
   },
   "outputs": [],
   "source": [
    "from math import sin"
   ]
  },
  {
   "cell_type": "code",
   "execution_count": null,
   "metadata": {},
   "outputs": [],
   "source": [
    "sin(3.1)"
   ]
  },
  {
   "cell_type": "markdown",
   "metadata": {},
   "source": [
    "Sin embargo, si queremos utilizar `pi`, veremos un error en la consola, porque no ha sido cargado:"
   ]
  },
  {
   "cell_type": "code",
   "execution_count": null,
   "metadata": {},
   "outputs": [],
   "source": [
    "sin(pi/2)"
   ]
  },
  {
   "cell_type": "markdown",
   "metadata": {},
   "source": [
    "Para no tener que escribir una línea `from math import ...` por cada símbolo que se desee importar, se puede usar la misma sintaxis de arriba con cada símbolo separado por una coma, así:"
   ]
  },
  {
   "cell_type": "code",
   "execution_count": null,
   "metadata": {
    "collapsed": true
   },
   "outputs": [],
   "source": [
    "from math import sin, pi"
   ]
  },
  {
   "cell_type": "markdown",
   "metadata": {},
   "source": [
    "Al cargar `pi` de `math` de esta forma, ya no veremos el error anterior:"
   ]
  },
  {
   "cell_type": "code",
   "execution_count": null,
   "metadata": {},
   "outputs": [],
   "source": [
    "sin(pi/2)"
   ]
  },
  {
   "cell_type": "markdown",
   "metadata": {},
   "source": [
    "## Usando un nombre corto\n",
    "\n",
    "Una opción para no tener que llamar una librería por su nombre completo, es renombrarla al momento de importarla. Esto es una práctica bastante común, pues permite utilizar nombres cortos para las librerías, lo que hace mucho más fácil llamarlas. Para ello se usa la siguiente sintaxis:\n",
    "\n",
    "```python\n",
    "import math as mt\n",
    "```\n",
    "\n",
    "De esta forma, en lugar de `math` sólo usamos `mt`, así:"
   ]
  },
  {
   "cell_type": "code",
   "execution_count": null,
   "metadata": {
    "collapsed": true
   },
   "outputs": [],
   "source": [
    "import math as mt"
   ]
  },
  {
   "cell_type": "code",
   "execution_count": null,
   "metadata": {},
   "outputs": [],
   "source": [
    "mt.sin(mt.pi/2)"
   ]
  },
  {
   "cell_type": "markdown",
   "metadata": {},
   "source": [
    "## Importando todos los comandos\n",
    "\n",
    "La última opción consiste en llamar todos los comandos de una librería sin que estén precedidos por su nombre. Para ello se utiliza la sintaxis:\n",
    "\n",
    "```python\n",
    "from math import *\n",
    "```\n",
    "\n",
    "**Advertencia**:\n",
    "\n",
    "Esta opción no es muy recomendable ya que los comandos de varias librerías pueden tener el mismo nombre, lo que puede resultar en serias confusiones.\n",
    "\n",
    "Un ejemplo de este caso es el siguiente:"
   ]
  },
  {
   "cell_type": "code",
   "execution_count": null,
   "metadata": {
    "collapsed": true
   },
   "outputs": [],
   "source": [
    "from math import *"
   ]
  },
  {
   "cell_type": "code",
   "execution_count": null,
   "metadata": {},
   "outputs": [],
   "source": [
    "cos(pi/2)"
   ]
  },
  {
   "cell_type": "markdown",
   "metadata": {},
   "source": [
    "## Problemas"
   ]
  },
  {
   "cell_type": "markdown",
   "metadata": {},
   "source": [
    "### Problema 1\n",
    "\n",
    "Importar la librería `numpy` con el nombre `np`. Después utilizar la función `arange` de la misma para generar una lista de números entre `0` y `1`, en pasos de `0.01`.\n",
    "\n",
    "**Nota**:\n",
    "\n",
    "Para mirar la ayuda de `arange`, se debe evaluar una celda nueva con la siguiente sintaxis:\n",
    "\n",
    "```python\n",
    "np.arange?\n",
    "```"
   ]
  },
  {
   "cell_type": "code",
   "execution_count": null,
   "metadata": {
    "collapsed": true
   },
   "outputs": [],
   "source": [
    "# Mirar la ayuda de np.arange aquí\n"
   ]
  },
  {
   "cell_type": "code",
   "execution_count": null,
   "metadata": {
    "collapsed": true
   },
   "outputs": [],
   "source": [
    "# Escribir la solución aquí\n"
   ]
  },
  {
   "cell_type": "markdown",
   "metadata": {},
   "source": [
    "### Problema 2\n",
    "\n",
    "De la misma librería anterior, importar únicamente la función `linspace` y la constante `pi`. Utilizar estas dos expresiones para generar una lista de 100 números entre $0$ y $2 \\pi$."
   ]
  },
  {
   "cell_type": "code",
   "execution_count": null,
   "metadata": {
    "collapsed": true
   },
   "outputs": [],
   "source": [
    "# Mirar la ayuda de linspace aquí\n"
   ]
  },
  {
   "cell_type": "code",
   "execution_count": null,
   "metadata": {
    "collapsed": true
   },
   "outputs": [],
   "source": [
    "# Escribir la solución aquí\n"
   ]
  },
  {
   "cell_type": "markdown",
   "metadata": {},
   "source": [
    "### Problema 3\n",
    "\n",
    "Usar la función `sin` de `numpy` para calcular el seno de los números generados por `linspace` en el ejercicio anterior.\n",
    "\n",
    "**Notas**:\n",
    "\n",
    "1. **No** es necesario usar un ciclo `for`. Mirar detenidamente los ejemplos de `numpy.sin` en el visor de ayuda.\n",
    "\n",
    "2. ¿Puede hacerse lo mismo con `math.sin`?"
   ]
  },
  {
   "cell_type": "code",
   "execution_count": null,
   "metadata": {
    "collapsed": true
   },
   "outputs": [],
   "source": [
    "# Escribir la solución aquí\n"
   ]
  },
  {
   "cell_type": "markdown",
   "metadata": {},
   "source": [
    "### Problema 4\n",
    "\n",
    "Generar una lista de 50 puntos aleatorios en 2D, usando la función `rand` de la librería `numpy.random`"
   ]
  },
  {
   "cell_type": "code",
   "execution_count": null,
   "metadata": {
    "collapsed": true
   },
   "outputs": [],
   "source": [
    "# Escribir la solución aquí\n"
   ]
  }
 ],
 "metadata": {
  "kernelspec": {
   "display_name": "Python 3",
   "language": "python",
   "name": "python3"
  },
  "language_info": {
   "codemirror_mode": {
    "name": "ipython",
    "version": 3
   },
   "file_extension": ".py",
   "mimetype": "text/x-python",
   "name": "python",
   "nbconvert_exporter": "python",
   "pygments_lexer": "ipython3",
   "version": "3.5.2+"
  }
 },
 "nbformat": 4,
 "nbformat_minor": 1
}
